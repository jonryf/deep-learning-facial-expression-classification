{
 "cells": [
  {
   "cell_type": "code",
   "execution_count": 1,
   "metadata": {},
   "outputs": [],
   "source": [
    "from os import listdir\n",
    "import os, random, copy\n",
    "from PIL import Image\n",
    "import numpy as np\n",
    "from collections import defaultdict\n",
    "import math"
   ]
  },
  {
   "cell_type": "code",
   "execution_count": 2,
   "metadata": {},
   "outputs": [],
   "source": [
    "#define sigmoid and its derivative for activation & backprop\n",
    "def sigmoid(x):\n",
    "    return 1 / (1 + np.exp(-1 * x))\n",
    "\n",
    "def derivSigmoid(x):\n",
    "    return sigmoid(x) * (1 - sigmoid(x))"
   ]
  },
  {
   "cell_type": "markdown",
   "metadata": {},
   "source": [
    "## Question 1 - Import Data"
   ]
  },
  {
   "cell_type": "code",
   "execution_count": 3,
   "metadata": {
    "scrolled": true
   },
   "outputs": [
    {
     "name": "stdout",
     "output_type": "stream",
     "text": [
      "Emotions: ['fear', 'surprise', 'sadness', 'happiness', 'anger', 'disgust'] \n",
      "\n",
      "fear: 25 # of images\n",
      "surprise: 83 # of images\n",
      "sadness: 28 # of images\n",
      "happiness: 69 # of images\n",
      "anger: 45 # of images\n",
      "disgust: 59 # of images\n",
      "\n",
      "Balanced Set:\n",
      "happiness: 45 # of images\n",
      "anger: 45 # of images\n",
      "Converting from array to PIL Image\n"
     ]
    }
   ],
   "source": [
    "################################################################################\n",
    "# CSE 253: Programming Assignment 1\n",
    "# Code snippet by Michael\n",
    "# Winter 2020\n",
    "################################################################################\n",
    "# We've provided you with the dataset in PA1.zip\n",
    "################################################################################\n",
    "# To install PIL, refer to the instructions for your system:\n",
    "# https://pillow.readthedocs.io/en/5.2.x/installation.html\n",
    "################################################################################\n",
    "# If you don't have NumPy installed, please use the instructions here:\n",
    "# https://scipy.org/install.html\n",
    "################################################################################\n",
    "\n",
    "\n",
    "''' \n",
    "list of face expressions (contempt, neutral are excluded) are:\n",
    "1. anger\n",
    "2. disgust\n",
    "3. fear\n",
    "4. happiness\n",
    "5. sadness\n",
    "6. surprise\n",
    "'''\n",
    "\n",
    "def load_data(data_dir=\"./aligned/\"):\n",
    "\t\"\"\" Load all PNG images stored in your data directory into a list of NumPy\n",
    "\tarrays.\n",
    "\n",
    "\tArgs:\n",
    "\t\tdata_dir: The relative directory path to the CK+ image directory.\n",
    "\tReturns:\n",
    "\t\timages: A dictionary with keys as emotions and a list containing images associated with each key.\n",
    "\t\tcnt: A dictionary that stores the # of images in each emotion\n",
    "\t\"\"\"\n",
    "\timages = defaultdict(list)\n",
    "\n",
    "\t# Get the list of emotional directory:\n",
    "\tfor e in listdir(data_dir):\n",
    "\t\t# excluding any non-directory files\n",
    "\t\tif not os.path.isdir(os.path.join(data_dir, e)):\n",
    "\t\t\tcontinue\n",
    "\t\t# Get the list of image file names\n",
    "\t\tall_files = listdir(os.path.join(data_dir, e))\n",
    "\n",
    "\t\tfor file in all_files:\n",
    "\t\t\t# Load only image files as PIL images and convert to NumPy arrays\n",
    "\t\t\tif '.png' in file:\n",
    "\t\t\t\timg = Image.open(os.path.join(data_dir, e, file))\n",
    "\t\t\t\timages[e].append(np.array(img))\n",
    "\n",
    "\tprint(\"Emotions: {} \\n\".format(list(images.keys())))\n",
    "\n",
    "\tcnt = defaultdict(int)\n",
    "\tfor e in images.keys():\n",
    "\t\tprint(\"{}: {} # of images\".format(e, len(images[e])))\n",
    "\t\tcnt[e] = len(images[e])\n",
    "\treturn images, cnt\n",
    "\n",
    "def balanced_sampler(dataset, cnt, emotions):\n",
    "\t# this ensures everyone has the same balanced subset for model training, don't change this seed value\n",
    "\trandom.seed(20)\n",
    "\tprint(\"\\nBalanced Set:\")\n",
    "\tmin_cnt = min([cnt[e] for e in emotions])\n",
    "\tbalanced_subset = defaultdict(list)\n",
    "\tfor e in emotions:\n",
    "\t\tbalanced_subset[e] = copy.deepcopy(dataset[e])\n",
    "\t\trandom.shuffle(balanced_subset[e])\n",
    "\t\tbalanced_subset[e] = balanced_subset[e][:min_cnt]\n",
    "\t\tprint('{}: {} # of images'.format(e, len(balanced_subset[e])))\n",
    "\treturn balanced_subset\n",
    "\n",
    "def display_face(img):\n",
    "\t\"\"\" Display the input image and optionally save as a PNG.\n",
    "\n",
    "\tArgs:\n",
    "\t\timg: The NumPy array or image to display\n",
    "\n",
    "\tReturns: None\n",
    "\t\"\"\"\n",
    "\t# Convert img to PIL Image object (if it's an ndarray)\n",
    "\tif type(img) == np.ndarray:\n",
    "\t\tprint(\"Converting from array to PIL Image\")\n",
    "\t\timg = Image.fromarray(img)\n",
    "\n",
    "\t# Display the image\n",
    "\timg.show()\n",
    "\n",
    "\n",
    "# example on how to use it\n",
    "if __name__ == '__main__':\n",
    "\t# The relative path to your image directory\n",
    "\tdata_dir = \"./aligned/\"\n",
    "\tdataset, cnt = load_data(data_dir)\n",
    "\t# test with happiness and anger\n",
    "\timages = balanced_sampler(dataset, cnt, emotions=['happiness', 'anger'])\n",
    "\tdisplay_index = 0\n",
    "\tdisplay_face(images['anger'][display_index])"
   ]
  },
  {
   "cell_type": "code",
   "execution_count": 4,
   "metadata": {},
   "outputs": [],
   "source": [
    "K = 10 # number of sections after folding\n",
    "M = 50 # maximum number of epochs\n"
   ]
  },
  {
   "cell_type": "markdown",
   "metadata": {},
   "source": [
    "## Training Procedure"
   ]
  },
  {
   "cell_type": "code",
   "execution_count": 5,
   "metadata": {},
   "outputs": [],
   "source": [
    "#list happiness as a 1, anger as a 0\n",
    "X = images['happiness'] + images['anger']\n",
    "y = [1] * 45 + [0] * 45\n",
    "\n",
    "#get my feature - label pairs zipped together\n",
    "all_happy_angry = list(zip(X,y))\n",
    "\n",
    "#randomize the dataset so I can fold properly\n",
    "\n",
    "random.shuffle(all_happy_angry)\n",
    "\n",
    "def kfold(data, k=10):\n",
    "    folds = []\n",
    "    size = int((1/k) * len(data))\n",
    "    for i in range(0,k):\n",
    "        folds.append(data[i*size : (i+1)*size])\n",
    "    return folds\n"
   ]
  },
  {
   "cell_type": "code",
   "execution_count": 6,
   "metadata": {},
   "outputs": [
    {
     "name": "stdout",
     "output_type": "stream",
     "text": [
      "True\n",
      "10\n"
     ]
    }
   ],
   "source": [
    "folds = kfold(all_happy_angry)\n",
    "print(len(folds[0]) == len(folds[1]))\n",
    "print(len(folds))"
   ]
  },
  {
   "cell_type": "markdown",
   "metadata": {},
   "source": [
    "## Task 5 - Logistic Regression"
   ]
  },
  {
   "cell_type": "code",
   "execution_count": 33,
   "metadata": {},
   "outputs": [],
   "source": [
    "class LogisticRegression:\n",
    "    \n",
    "    def __init__(self, lr, dim):\n",
    "        self.lr = lr\n",
    "        self.w = np.zeros(dim) \n",
    "    \n",
    "    def stochastic_gradient_descent(self, X, labels):\n",
    "        indices = [i for i in range(len(labels))]\n",
    "        np.random.shuffle(indices)\n",
    "        for i in indices:\n",
    "            \n",
    "            # make predition\n",
    "            data = X[i]\n",
    "            label = labels[i]\n",
    "            predicted = sigmoid(data.dot(self.w))\n",
    "            error = label - predicted\n",
    "            \n",
    "            # update weights\n",
    "            for i in range(len(self.w)):\n",
    "                grad = error * data[i]\n",
    "                self.w[i] += self.lr * grad\n",
    "            \n",
    "    def probabilities(self, X):\n",
    "        return sigmoid(X.dot(self.w))\n",
    "\n",
    "    \n",
    "    def batch_gradient_descent(self, X, labels):\n",
    "        predicted = self.probabilities(X)\n",
    "        error = labels - predicted\n",
    "        grad = X.T.dot(error)\n",
    "        self.w += self.lr * grad\n",
    "        \n",
    "\n",
    "    def loss(self, labels, predicted):\n",
    "        log_predicted = np.log(predicted)\n",
    "        cost = log_predicted*labels + (1 - labels) * log_predicted\n",
    "        return - cost.sum() / len(labels)\n"
   ]
  },
  {
   "cell_type": "code",
   "execution_count": 34,
   "metadata": {},
   "outputs": [],
   "source": [
    "lr = LogisticRegression(0.1, 3)"
   ]
  },
  {
   "cell_type": "code",
   "execution_count": 35,
   "metadata": {},
   "outputs": [
    {
     "data": {
      "text/plain": [
       "-0.0"
      ]
     },
     "execution_count": 35,
     "metadata": {},
     "output_type": "execute_result"
    }
   ],
   "source": [
    "lr.loss(np.array([1,1]), np.array([1,1]))"
   ]
  },
  {
   "cell_type": "code",
   "execution_count": 36,
   "metadata": {},
   "outputs": [
    {
     "data": {
      "text/plain": [
       "0.34657359027997264"
      ]
     },
     "execution_count": 36,
     "metadata": {},
     "output_type": "execute_result"
    }
   ],
   "source": [
    "lr.loss(np.array([1,1]), np.array([0.5,1]))"
   ]
  },
  {
   "cell_type": "code",
   "execution_count": 37,
   "metadata": {},
   "outputs": [],
   "source": [
    "test_data = np.array([[0.9,0.22,0.44], [0.0,0.22,0.44]])\n",
    "\n",
    "for i in range(50):\n",
    "    lr.stochastic_gradient_descent(test_data, np.array([0, 1]))"
   ]
  },
  {
   "cell_type": "code",
   "execution_count": 38,
   "metadata": {},
   "outputs": [
    {
     "data": {
      "text/plain": [
       "array([-1.52279355,  0.16095488,  0.32190976])"
      ]
     },
     "execution_count": 38,
     "metadata": {},
     "output_type": "execute_result"
    }
   ],
   "source": [
    "lr.w"
   ]
  },
  {
   "cell_type": "code",
   "execution_count": 39,
   "metadata": {},
   "outputs": [
    {
     "data": {
      "text/plain": [
       "array([0.23264001, 0.54414733])"
      ]
     },
     "execution_count": 39,
     "metadata": {},
     "output_type": "execute_result"
    }
   ],
   "source": [
    "lr.probabilities(test_data)"
   ]
  },
  {
   "cell_type": "code",
   "execution_count": 41,
   "metadata": {},
   "outputs": [
    {
     "data": {
      "text/plain": [
       "1.0333991525889226"
      ]
     },
     "execution_count": 41,
     "metadata": {},
     "output_type": "execute_result"
    }
   ],
   "source": [
    "lr.loss(np.array([0, 1]), lr.probabilities(test_data))"
   ]
  },
  {
   "cell_type": "code",
   "execution_count": 42,
   "metadata": {},
   "outputs": [
    {
     "data": {
      "text/plain": [
       "[0, 0, 0, 0, 1, 0]"
      ]
     },
     "execution_count": 42,
     "metadata": {},
     "output_type": "execute_result"
    }
   ],
   "source": [
    "5 \n",
    "\n",
    "[0, 0, 0, 0, 1, 0]"
   ]
  },
  {
   "cell_type": "markdown",
   "metadata": {},
   "source": [
    "## Softmax"
   ]
  },
  {
   "cell_type": "code",
   "execution_count": 28,
   "metadata": {},
   "outputs": [],
   "source": [
    "emotions_mapping = [\"fear\", \"surprise\", \"sadness\", \"happiness\", \"anger\", \"disgust\"]\n",
    "\n",
    "\n",
    "class SoftmaxRegression:\n",
    "    \n",
    "    def __init__(self, lr, dim, c):\n",
    "        self.lr = lr\n",
    "        self.w = np.zeros((dim, c)) \n",
    "    \n",
    "    def stochastic_gradient_descent(self, X, labels):\n",
    "        indices = [i for i in range(len(labels))]\n",
    "        np.random.shuffle(indices)\n",
    "        for i in indices:\n",
    "            \n",
    "            # make predition\n",
    "            data = X[i]\n",
    "            label = labels[i]\n",
    "            predicted = self.probabilities(data)\n",
    "            error = label - predicted\n",
    "            \n",
    "            # update weights\n",
    "            for i in range(len(self.w)):\n",
    "                grad = error * data[i]\n",
    "                self.w[i] += self.lr * grad\n",
    "            \n",
    "    def probabilities(self, X):\n",
    "        return np.exp(X.dot(self.w)) / np.sum(np.exp(X.dot(self.w)), axis=0)\n",
    "\n",
    "    \n",
    "    def batch_gradient_descent(self, X, labels):\n",
    "        predicted = self.probabilities(X)\n",
    "        error = labels - predicted\n",
    "        grad = X.T.dot(error)\n",
    "        self.w += self.lr * grad\n",
    "        \n",
    "\n",
    "    def loss(self, labels, predicted):\n",
    "        return -np.sum(np.sum(labels.T.dot(np.log(predicted)))) # can't have zero values \n",
    "\n"
   ]
  },
  {
   "cell_type": "code",
   "execution_count": 29,
   "metadata": {},
   "outputs": [
    {
     "data": {
      "text/plain": [
       "2.772588722239781"
      ]
     },
     "execution_count": 29,
     "metadata": {},
     "output_type": "execute_result"
    }
   ],
   "source": [
    "softmax = SoftmaxRegression(0.02, 4, 2)\n",
    "\n",
    "test_data = np.array([[0.3,0.22,0.44, 0.44], [0.0,0.12,0.2, 0.2]])\n",
    "\n",
    "\n",
    "\n",
    "softmax.loss(np.array([[1, 0],[1,0]]), softmax.probabilities(test_data))"
   ]
  },
  {
   "cell_type": "code",
   "execution_count": 30,
   "metadata": {},
   "outputs": [],
   "source": [
    "for i in range(1000):\n",
    "    softmax.batch_gradient_descent(test_data, np.array([[1, 0],[1,0]]))"
   ]
  },
  {
   "cell_type": "code",
   "execution_count": 31,
   "metadata": {},
   "outputs": [
    {
     "data": {
      "text/plain": [
       "array([[ 1.15572504, -1.15572504],\n",
       "       [ 2.78524168, -2.78524168],\n",
       "       [ 4.92458004, -4.92458004],\n",
       "       [ 4.92458004, -4.92458004]])"
      ]
     },
     "execution_count": 31,
     "metadata": {},
     "output_type": "execute_result"
    }
   ],
   "source": [
    "softmax.w"
   ]
  },
  {
   "cell_type": "code",
   "execution_count": 32,
   "metadata": {},
   "outputs": [
    {
     "data": {
      "text/plain": [
       "array([[0.95207653, 0.04792347],\n",
       "       [0.04792347, 0.95207653]])"
      ]
     },
     "execution_count": 32,
     "metadata": {},
     "output_type": "execute_result"
    }
   ],
   "source": [
    "softmax.probabilities(test_data)"
   ]
  },
  {
   "cell_type": "code",
   "execution_count": null,
   "metadata": {},
   "outputs": [],
   "source": []
  },
  {
   "cell_type": "code",
   "execution_count": 92,
   "metadata": {
    "scrolled": true
   },
   "outputs": [
    {
     "name": "stdout",
     "output_type": "stream",
     "text": [
      "Training error: 0.5, validation error: 0.6, accuracy: 0.3\n",
      "Training error: 0.5, validation error: 0.6, accuracy: 0.3\n",
      "Training error: 0.5, validation error: 0.6, accuracy: 0.3\n",
      "Training error: 0.5, validation error: 0.6, accuracy: 0.3\n",
      "Training error: 0.5, validation error: 0.6, accuracy: 0.3\n",
      "Training error: 0.5, validation error: 0.6, accuracy: 0.3\n",
      "Training error: 0.5, validation error: 0.6, accuracy: 0.3\n",
      "Training error: 0.5, validation error: 0.6, accuracy: 0.3\n",
      "Training error: 0.5, validation error: 0.6, accuracy: 0.3\n",
      "Training error: 0.5, validation error: 0.6, accuracy: 0.3\n"
     ]
    },
    {
     "data": {
      "image/png": "[encoded data removed]",
      "text/plain": [
       "<Figure size 432x288 with 1 Axes>"
      ]
     },
     "metadata": {
      "needs_background": "light"
     },
     "output_type": "display_data"
    },
    {
     "name": "stdout",
     "output_type": "stream",
     "text": [
      "Training error: 0.5, validation error: 0.6, accuracy: 0.3\n",
      "Training error: 0.5, validation error: 0.6, accuracy: 0.3\n",
      "Training error: 0.5, validation error: 0.6, accuracy: 0.3\n",
      "Training error: 0.5, validation error: 0.6, accuracy: 0.3\n",
      "Training error: 0.5, validation error: 0.6, accuracy: 0.3\n",
      "Training error: 0.5, validation error: 0.6, accuracy: 0.3\n",
      "Training error: 0.5, validation error: 0.6, accuracy: 0.3\n",
      "Training error: 0.5, validation error: 0.6, accuracy: 0.3\n",
      "Training error: 0.5, validation error: 0.6, accuracy: 0.3\n",
      "Training error: 0.5, validation error: 0.6, accuracy: 0.3\n"
     ]
    },
    {
     "data": {
      "image/png": "[encoded data removed]",
      "text/plain": [
       "<Figure size 432x288 with 1 Axes>"
      ]
     },
     "metadata": {
      "needs_background": "light"
     },
     "output_type": "display_data"
    },
    {
     "name": "stdout",
     "output_type": "stream",
     "text": [
      "Training error: 0.5, validation error: 0.6, accuracy: 0.3\n",
      "Training error: 0.5, validation error: 0.6, accuracy: 0.3\n",
      "Training error: 0.5, validation error: 0.6, accuracy: 0.3\n",
      "Training error: 0.5, validation error: 0.6, accuracy: 0.3\n",
      "Training error: 0.5, validation error: 0.6, accuracy: 0.3\n",
      "Training error: 0.5, validation error: 0.6, accuracy: 0.3\n",
      "Training error: 0.5, validation error: 0.6, accuracy: 0.3\n",
      "Training error: 0.5, validation error: 0.6, accuracy: 0.3\n",
      "Training error: 0.5, validation error: 0.6, accuracy: 0.3\n",
      "Training error: 0.5, validation error: 0.6, accuracy: 0.3\n"
     ]
    },
    {
     "data": {
      "image/png": "[encoded data removed]",
      "text/plain": [
       "<Figure size 432x288 with 1 Axes>"
      ]
     },
     "metadata": {
      "needs_background": "light"
     },
     "output_type": "display_data"
    },
    {
     "name": "stdout",
     "output_type": "stream",
     "text": [
      "Training error: 0.5, validation error: 0.6, accuracy: 0.3\n",
      "Training error: 0.5, validation error: 0.6, accuracy: 0.3\n",
      "Training error: 0.5, validation error: 0.6, accuracy: 0.3\n",
      "Training error: 0.5, validation error: 0.6, accuracy: 0.3\n",
      "Training error: 0.5, validation error: 0.6, accuracy: 0.3\n",
      "Training error: 0.5, validation error: 0.6, accuracy: 0.3\n",
      "Training error: 0.5, validation error: 0.6, accuracy: 0.3\n",
      "Training error: 0.5, validation error: 0.6, accuracy: 0.3\n",
      "Training error: 0.5, validation error: 0.6, accuracy: 0.3\n",
      "Training error: 0.5, validation error: 0.6, accuracy: 0.3\n"
     ]
    },
    {
     "data": {
      "image/png": "[encoded data removed]",
      "text/plain": [
       "<Figure size 432x288 with 1 Axes>"
      ]
     },
     "metadata": {
      "needs_background": "light"
     },
     "output_type": "display_data"
    },
    {
     "name": "stdout",
     "output_type": "stream",
     "text": [
      "Training error: 0.5, validation error: 0.6, accuracy: 0.3\n",
      "Training error: 0.5, validation error: 0.6, accuracy: 0.3\n",
      "Training error: 0.5, validation error: 0.6, accuracy: 0.3\n",
      "Training error: 0.5, validation error: 0.6, accuracy: 0.3\n",
      "Training error: 0.5, validation error: 0.6, accuracy: 0.3\n",
      "Training error: 0.5, validation error: 0.6, accuracy: 0.3\n",
      "Training error: 0.5, validation error: 0.6, accuracy: 0.3\n",
      "Training error: 0.5, validation error: 0.6, accuracy: 0.3\n",
      "Training error: 0.5, validation error: 0.6, accuracy: 0.3\n",
      "Training error: 0.5, validation error: 0.6, accuracy: 0.3\n"
     ]
    },
    {
     "data": {
      "image/png": "[encoded data removed]",
      "text/plain": [
       "<Figure size 432x288 with 1 Axes>"
      ]
     },
     "metadata": {
      "needs_background": "light"
     },
     "output_type": "display_data"
    },
    {
     "name": "stdout",
     "output_type": "stream",
     "text": [
      "Training error: 0.5, validation error: 0.6, accuracy: 0.3\n",
      "Training error: 0.5, validation error: 0.6, accuracy: 0.3\n",
      "Training error: 0.5, validation error: 0.6, accuracy: 0.3\n",
      "Training error: 0.5, validation error: 0.6, accuracy: 0.3\n",
      "Training error: 0.5, validation error: 0.6, accuracy: 0.3\n",
      "Training error: 0.5, validation error: 0.6, accuracy: 0.3\n",
      "Training error: 0.5, validation error: 0.6, accuracy: 0.3\n",
      "Training error: 0.5, validation error: 0.6, accuracy: 0.3\n",
      "Training error: 0.5, validation error: 0.6, accuracy: 0.3\n",
      "Training error: 0.5, validation error: 0.6, accuracy: 0.3\n"
     ]
    },
    {
     "data": {
      "image/png": "[encoded data removed]",
      "text/plain": [
       "<Figure size 432x288 with 1 Axes>"
      ]
     },
     "metadata": {
      "needs_background": "light"
     },
     "output_type": "display_data"
    },
    {
     "name": "stdout",
     "output_type": "stream",
     "text": [
      "Training error: 0.5, validation error: 0.6, accuracy: 0.3\n",
      "Training error: 0.5, validation error: 0.6, accuracy: 0.3\n",
      "Training error: 0.5, validation error: 0.6, accuracy: 0.3\n",
      "Training error: 0.5, validation error: 0.6, accuracy: 0.3\n",
      "Training error: 0.5, validation error: 0.6, accuracy: 0.3\n",
      "Training error: 0.5, validation error: 0.6, accuracy: 0.3\n",
      "Training error: 0.5, validation error: 0.6, accuracy: 0.3\n",
      "Training error: 0.5, validation error: 0.6, accuracy: 0.3\n",
      "Training error: 0.5, validation error: 0.6, accuracy: 0.3\n",
      "Training error: 0.5, validation error: 0.6, accuracy: 0.3\n"
     ]
    },
    {
     "data": {
      "image/png": "[encoded data removed]",
      "text/plain": [
       "<Figure size 432x288 with 1 Axes>"
      ]
     },
     "metadata": {
      "needs_background": "light"
     },
     "output_type": "display_data"
    },
    {
     "name": "stdout",
     "output_type": "stream",
     "text": [
      "Training error: 0.5, validation error: 0.6, accuracy: 0.3\n",
      "Training error: 0.5, validation error: 0.6, accuracy: 0.3\n",
      "Training error: 0.5, validation error: 0.6, accuracy: 0.3\n",
      "Training error: 0.5, validation error: 0.6, accuracy: 0.3\n",
      "Training error: 0.5, validation error: 0.6, accuracy: 0.3\n",
      "Training error: 0.5, validation error: 0.6, accuracy: 0.3\n",
      "Training error: 0.5, validation error: 0.6, accuracy: 0.3\n",
      "Training error: 0.5, validation error: 0.6, accuracy: 0.3\n",
      "Training error: 0.5, validation error: 0.6, accuracy: 0.3\n",
      "Training error: 0.5, validation error: 0.6, accuracy: 0.3\n"
     ]
    },
    {
     "data": {
      "image/png": "[encoded data removed]",
      "text/plain": [
       "<Figure size 432x288 with 1 Axes>"
      ]
     },
     "metadata": {
      "needs_background": "light"
     },
     "output_type": "display_data"
    },
    {
     "name": "stdout",
     "output_type": "stream",
     "text": [
      "Training error: 0.5, validation error: 0.6, accuracy: 0.3\n",
      "Training error: 0.5, validation error: 0.6, accuracy: 0.3\n",
      "Training error: 0.5, validation error: 0.6, accuracy: 0.3\n",
      "Training error: 0.5, validation error: 0.6, accuracy: 0.3\n",
      "Training error: 0.5, validation error: 0.6, accuracy: 0.3\n",
      "Training error: 0.5, validation error: 0.6, accuracy: 0.3\n",
      "Training error: 0.5, validation error: 0.6, accuracy: 0.3\n",
      "Training error: 0.5, validation error: 0.6, accuracy: 0.3\n",
      "Training error: 0.5, validation error: 0.6, accuracy: 0.3\n",
      "Training error: 0.5, validation error: 0.6, accuracy: 0.3\n"
     ]
    },
    {
     "data": {
      "image/png": "[encoded data removed]",
      "text/plain": [
       "<Figure size 432x288 with 1 Axes>"
      ]
     },
     "metadata": {
      "needs_background": "light"
     },
     "output_type": "display_data"
    },
    {
     "name": "stdout",
     "output_type": "stream",
     "text": [
      "Training error: 0.5, validation error: 0.6, accuracy: 0.3\n",
      "Training error: 0.5, validation error: 0.6, accuracy: 0.3\n",
      "Training error: 0.5, validation error: 0.6, accuracy: 0.3\n",
      "Training error: 0.5, validation error: 0.6, accuracy: 0.3\n",
      "Training error: 0.5, validation error: 0.6, accuracy: 0.3\n",
      "Training error: 0.5, validation error: 0.6, accuracy: 0.3\n",
      "Training error: 0.5, validation error: 0.6, accuracy: 0.3\n",
      "Training error: 0.5, validation error: 0.6, accuracy: 0.3\n",
      "Training error: 0.5, validation error: 0.6, accuracy: 0.3\n",
      "Training error: 0.5, validation error: 0.6, accuracy: 0.3\n"
     ]
    },
    {
     "data": {
      "image/png": "[encoded data removed]",
      "text/plain": [
       "<Figure size 432x288 with 1 Axes>"
      ]
     },
     "metadata": {
      "needs_background": "light"
     },
     "output_type": "display_data"
    }
   ],
   "source": [
    "import matplotlib.pyplot as plt\n",
    "from pca import PCA\n",
    "\n",
    "EPOCHS = 10\n",
    "\n",
    "class EpochData:\n",
    "    def __init__(self):\n",
    "        self.acc = []\n",
    "        self.error = []\n",
    "    \n",
    "    def save(self, acc, error):\n",
    "        self.acc.append(acc)\n",
    "        self.error.append(error)\n",
    "        \n",
    "    \n",
    "    def score(self):\n",
    "        return self.error[-1]\n",
    "        \n",
    "\n",
    "def transform(data):\n",
    "    # TODO \n",
    "    return data\n",
    "\n",
    "def visualize_data(plots, legends, x_label, y_label):\n",
    "    x = np.arange(1, len(plots[0]) + 1)\n",
    "    for data in plots:\n",
    "        plt.plot(x, data)\n",
    "    plt.ylabel(y_label)\n",
    "    plt.xlabel(x_label)\n",
    "    plt.legend(legends)\n",
    "    plt.show()\n",
    "    \n",
    "def split_x_y(data):\n",
    "    return np.array([item[0] for item in data]), np.array([item[1] for item in data]) \n",
    "\n",
    "\n",
    "def train():\n",
    "    best_model = None\n",
    "    \n",
    "    folds = kfold(all_happy_angry)\n",
    "    k = len(folds)\n",
    "    for fold in range(k):\n",
    "        model = LogisticRegression(0.2, 1) # model\n",
    "        \n",
    "        # split data\n",
    "        val_data, test_data = split_x_y(folds[fold]), split_x_y(folds[(fold + 1) % k])\n",
    "        train_data = None\n",
    "        for i in range(k):\n",
    "            if i is not fold or i is not ((fold + 1) % k):\n",
    "                if train_data is None:\n",
    "                    train_data = folds[i]\n",
    "                else:\n",
    "                    train_data = np.concatenate((train_data, folds[i]))\n",
    "        train_data = split_x_y(train_data)\n",
    "\n",
    "        \n",
    "        # PCA\n",
    "        train_data, train_data, train_data = transform(train_data), transform(test_data), transform(val_data)\n",
    "        \n",
    "        validation_performance = EpochData()\n",
    "        training_performance = EpochData()    \n",
    "        \n",
    "        for epoch in range(EPOCHS):\n",
    "            #model.batch_gradient_descent()\n",
    "            \n",
    "            training_error = 0.5 # model.loss()\n",
    "            validation_error = 0.6 #model.loss()\n",
    "            \n",
    "            traning_acc = 0.3 #model.make_prediction()\n",
    "            validation_acc = 0.4 #model.make_prediction()\n",
    "            \n",
    "            print(\"Training error: {}, validation error: {}, accuracy: {}\".format(training_error, validation_error, traning_acc))\n",
    "        \n",
    "            # save\n",
    "            validation_performance.save(validation_error, validation_acc)\n",
    "            training_performance.save(training_error, traning_acc)\n",
    "        \n",
    "        \n",
    "        # plot the graphs\n",
    "        data_to_plot = [training_performance.error, validation_performance.error]\n",
    "        legends = [\"Training error\", \"Validation error\"]\n",
    "        visualize_data(data_to_plot,legends, \"something\", \"something\")\n",
    "        \n",
    "        # save the best model\n",
    "        \n",
    "        # save the validation data to the model\n",
    "        model.epoch_data = validation_performance \n",
    "        \n",
    "        if best_model is None:\n",
    "            best_model = model\n",
    "        elif best_model.epoch_data.score() > model.epoch_data.score():\n",
    "            best_model = model\n",
    "        \n",
    "            \n",
    "\n",
    "def test():\n",
    "    pass\n",
    "\n",
    "train()\n",
    "#training_procedure()\n"
   ]
  },
  {
   "cell_type": "code",
   "execution_count": null,
   "metadata": {},
   "outputs": [],
   "source": []
  },
  {
   "cell_type": "code",
   "execution_count": null,
   "metadata": {},
   "outputs": [],
   "source": []
  }
 ],
 "metadata": {
  "kernelspec": {
   "display_name": "Python 3",
   "language": "python",
   "name": "python3"
  },
  "language_info": {
   "codemirror_mode": {
    "name": "ipython",
    "version": 3
   },
   "file_extension": ".py",
   "mimetype": "text/x-python",
   "name": "python",
   "nbconvert_exporter": "python",
   "pygments_lexer": "ipython3",
   "version": "3.7.4"
  }
 },
 "nbformat": 4,
 "nbformat_minor": 2
}
