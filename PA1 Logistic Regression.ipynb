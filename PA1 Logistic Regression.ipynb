{
 "cells": [
  {
   "cell_type": "code",
   "execution_count": 1,
   "metadata": {},
   "outputs": [],
   "source": [
    "from os import listdir\n",
    "import os, random, copy\n",
    "from PIL import Image\n",
    "import numpy as np\n",
    "from collections import defaultdict\n",
    "import math"
   ]
  },
  {
   "cell_type": "code",
   "execution_count": 2,
   "metadata": {},
   "outputs": [],
   "source": [
    "#define sigmoid and its derivative for activation & backprop\n",
    "def sigmoid(x):\n",
    "    return 1 / (1 + np.exp(-1 * x))\n",
    "\n",
    "def derivSigmoid(x):\n",
    "    return sigmoid(x) * (1 - sigmoid(x))"
   ]
  },
  {
   "cell_type": "markdown",
   "metadata": {},
   "source": [
    "## Question 1 - Import Data"
   ]
  },
  {
   "cell_type": "code",
   "execution_count": 3,
   "metadata": {
    "scrolled": true
   },
   "outputs": [
    {
     "name": "stdout",
     "output_type": "stream",
     "text": [
      "Emotions: ['fear', 'surprise', 'sadness', 'happiness', 'anger', 'disgust'] \n",
      "\n",
      "fear: 25 # of images\n",
      "surprise: 83 # of images\n",
      "sadness: 28 # of images\n",
      "happiness: 69 # of images\n",
      "anger: 45 # of images\n",
      "disgust: 59 # of images\n",
      "\n",
      "Balanced Set:\n",
      "happiness: 45 # of images\n",
      "anger: 45 # of images\n",
      "Converting from array to PIL Image\n"
     ]
    }
   ],
   "source": [
    "################################################################################\n",
    "# CSE 253: Programming Assignment 1\n",
    "# Code snippet by Michael\n",
    "# Winter 2020\n",
    "################################################################################\n",
    "# We've provided you with the dataset in PA1.zip\n",
    "################################################################################\n",
    "# To install PIL, refer to the instructions for your system:\n",
    "# https://pillow.readthedocs.io/en/5.2.x/installation.html\n",
    "################################################################################\n",
    "# If you don't have NumPy installed, please use the instructions here:\n",
    "# https://scipy.org/install.html\n",
    "################################################################################\n",
    "\n",
    "\n",
    "''' \n",
    "list of face expressions (contempt, neutral are excluded) are:\n",
    "1. anger\n",
    "2. disgust\n",
    "3. fear\n",
    "4. happiness\n",
    "5. sadness\n",
    "6. surprise\n",
    "'''\n",
    "\n",
    "def load_data(data_dir=\"./aligned/\"):\n",
    "\t\"\"\" Load all PNG images stored in your data directory into a list of NumPy\n",
    "\tarrays.\n",
    "\n",
    "\tArgs:\n",
    "\t\tdata_dir: The relative directory path to the CK+ image directory.\n",
    "\tReturns:\n",
    "\t\timages: A dictionary with keys as emotions and a list containing images associated with each key.\n",
    "\t\tcnt: A dictionary that stores the # of images in each emotion\n",
    "\t\"\"\"\n",
    "\timages = defaultdict(list)\n",
    "\n",
    "\t# Get the list of emotional directory:\n",
    "\tfor e in listdir(data_dir):\n",
    "\t\t# excluding any non-directory files\n",
    "\t\tif not os.path.isdir(os.path.join(data_dir, e)):\n",
    "\t\t\tcontinue\n",
    "\t\t# Get the list of image file names\n",
    "\t\tall_files = listdir(os.path.join(data_dir, e))\n",
    "\n",
    "\t\tfor file in all_files:\n",
    "\t\t\t# Load only image files as PIL images and convert to NumPy arrays\n",
    "\t\t\tif '.png' in file:\n",
    "\t\t\t\timg = Image.open(os.path.join(data_dir, e, file))\n",
    "\t\t\t\timages[e].append(np.array(img))\n",
    "\n",
    "\tprint(\"Emotions: {} \\n\".format(list(images.keys())))\n",
    "\n",
    "\tcnt = defaultdict(int)\n",
    "\tfor e in images.keys():\n",
    "\t\tprint(\"{}: {} # of images\".format(e, len(images[e])))\n",
    "\t\tcnt[e] = len(images[e])\n",
    "\treturn images, cnt\n",
    "\n",
    "def balanced_sampler(dataset, cnt, emotions):\n",
    "\t# this ensures everyone has the same balanced subset for model training, don't change this seed value\n",
    "\trandom.seed(20)\n",
    "\tprint(\"\\nBalanced Set:\")\n",
    "\tmin_cnt = min([cnt[e] for e in emotions])\n",
    "\tbalanced_subset = defaultdict(list)\n",
    "\tfor e in emotions:\n",
    "\t\tbalanced_subset[e] = copy.deepcopy(dataset[e])\n",
    "\t\trandom.shuffle(balanced_subset[e])\n",
    "\t\tbalanced_subset[e] = balanced_subset[e][:min_cnt]\n",
    "\t\tprint('{}: {} # of images'.format(e, len(balanced_subset[e])))\n",
    "\treturn balanced_subset\n",
    "\n",
    "def display_face(img):\n",
    "\t\"\"\" Display the input image and optionally save as a PNG.\n",
    "\n",
    "\tArgs:\n",
    "\t\timg: The NumPy array or image to display\n",
    "\n",
    "\tReturns: None\n",
    "\t\"\"\"\n",
    "\t# Convert img to PIL Image object (if it's an ndarray)\n",
    "\tif type(img) == np.ndarray:\n",
    "\t\tprint(\"Converting from array to PIL Image\")\n",
    "\t\timg = Image.fromarray(img)\n",
    "\n",
    "\t# Display the image\n",
    "\timg.show()\n",
    "\n",
    "\n",
    "# example on how to use it\n",
    "if __name__ == '__main__':\n",
    "\t# The relative path to your image directory\n",
    "\tdata_dir = \"./aligned/\"\n",
    "\tdataset, cnt = load_data(data_dir)\n",
    "\t# test with happiness and anger\n",
    "\timages = balanced_sampler(dataset, cnt, emotions=['happiness', 'anger'])\n",
    "\tdisplay_index = 0\n",
    "\tdisplay_face(images['anger'][display_index])"
   ]
  },
  {
   "cell_type": "code",
   "execution_count": 4,
   "metadata": {},
   "outputs": [],
   "source": [
    "K = 10 # number of sections after folding\n",
    "M = 50 # maximum number of epochs\n"
   ]
  },
  {
   "cell_type": "markdown",
   "metadata": {},
   "source": [
    "## Training Procedure"
   ]
  },
  {
   "cell_type": "code",
   "execution_count": 5,
   "metadata": {},
   "outputs": [],
   "source": [
    "#list happiness as a 1, anger as a 0\n",
    "X = images['happiness'] + images['anger']\n",
    "y = [1] * 45 + [0] * 45\n",
    "\n",
    "#get my feature - label pairs zipped together\n",
    "all_happy_angry = list(zip(X,y))\n",
    "\n",
    "#randomize the dataset so I can fold properly\n",
    "\n",
    "random.shuffle(all_happy_angry)\n",
    "\n",
    "def kfold(data, k=10):\n",
    "    folds = []\n",
    "    size = int((1/k) * len(data))\n",
    "    for i in range(0,k):\n",
    "        folds.append(data[i*size : (i+1)*size])\n",
    "    return folds\n"
   ]
  },
  {
   "cell_type": "code",
   "execution_count": 6,
   "metadata": {},
   "outputs": [
    {
     "name": "stdout",
     "output_type": "stream",
     "text": [
      "True\n",
      "10\n"
     ]
    }
   ],
   "source": [
    "folds = kfold(all_happy_angry)\n",
    "print(len(folds[0]) == len(folds[1]))\n",
    "print(len(folds))"
   ]
  },
  {
   "cell_type": "markdown",
   "metadata": {},
   "source": [
    "## Task 5 - Logistic Regression"
   ]
  },
  {
   "cell_type": "code",
   "execution_count": 33,
   "metadata": {},
   "outputs": [],
   "source": [
    "class LogisticRegression:\n",
    "    \n",
    "    def __init__(self, lr, dim):\n",
    "        self.lr = lr\n",
    "        self.w = np.zeros(dim) \n",
    "    \n",
    "    def stochastic_gradient_descent(self, X, labels):\n",
    "        indices = [i for i in range(len(labels))]\n",
    "        np.random.shuffle(indices)\n",
    "        for i in indices:\n",
    "            \n",
    "            # make predition\n",
    "            data = X[i]\n",
    "            label = labels[i]\n",
    "            predicted = sigmoid(data.dot(self.w))\n",
    "            error = label - predicted\n",
    "            \n",
    "            # update weights\n",
    "            for i in range(len(self.w)):\n",
    "                grad = error * data[i]\n",
    "                self.w[i] += self.lr * grad\n",
    "            \n",
    "    def probabilities(self, X):\n",
    "        return sigmoid(X.dot(self.w))\n",
    "\n",
    "    \n",
    "    def batch_gradient_descent(self, X, labels):\n",
    "        predicted = self.probabilities(X)\n",
    "        error = labels - predicted\n",
    "        grad = X.T.dot(error)\n",
    "        self.w += self.lr * grad\n",
    "        \n",
    "\n",
    "    def loss(self, labels, predicted):\n",
    "        log_predicted = np.log(predicted)\n",
    "        cost = log_predicted*labels + (1 - labels) * log_predicted\n",
    "        return - cost.sum() / len(labels)\n"
   ]
  },
  {
   "cell_type": "code",
   "execution_count": 34,
   "metadata": {},
   "outputs": [],
   "source": [
    "lr = LogisticRegression(0.1, 3)"
   ]
  },
  {
   "cell_type": "code",
   "execution_count": 35,
   "metadata": {},
   "outputs": [
    {
     "data": {
      "text/plain": [
       "-0.0"
      ]
     },
     "execution_count": 35,
     "metadata": {},
     "output_type": "execute_result"
    }
   ],
   "source": [
    "lr.loss(np.array([1,1]), np.array([1,1]))"
   ]
  },
  {
   "cell_type": "code",
   "execution_count": 36,
   "metadata": {},
   "outputs": [
    {
     "data": {
      "text/plain": [
       "0.34657359027997264"
      ]
     },
     "execution_count": 36,
     "metadata": {},
     "output_type": "execute_result"
    }
   ],
   "source": [
    "lr.loss(np.array([1,1]), np.array([0.5,1]))"
   ]
  },
  {
   "cell_type": "code",
   "execution_count": 37,
   "metadata": {},
   "outputs": [],
   "source": [
    "test_data = np.array([[0.9,0.22,0.44], [0.0,0.22,0.44]])\n",
    "\n",
    "for i in range(50):\n",
    "    lr.stochastic_gradient_descent(test_data, np.array([0, 1]))"
   ]
  },
  {
   "cell_type": "code",
   "execution_count": 38,
   "metadata": {},
   "outputs": [
    {
     "data": {
      "text/plain": [
       "array([-1.52279355,  0.16095488,  0.32190976])"
      ]
     },
     "execution_count": 38,
     "metadata": {},
     "output_type": "execute_result"
    }
   ],
   "source": [
    "lr.w"
   ]
  },
  {
   "cell_type": "code",
   "execution_count": 39,
   "metadata": {},
   "outputs": [
    {
     "data": {
      "text/plain": [
       "array([0.23264001, 0.54414733])"
      ]
     },
     "execution_count": 39,
     "metadata": {},
     "output_type": "execute_result"
    }
   ],
   "source": [
    "lr.probabilities(test_data)"
   ]
  },
  {
   "cell_type": "code",
   "execution_count": 41,
   "metadata": {},
   "outputs": [
    {
     "data": {
      "text/plain": [
       "1.0333991525889226"
      ]
     },
     "execution_count": 41,
     "metadata": {},
     "output_type": "execute_result"
    }
   ],
   "source": [
    "lr.loss(np.array([0, 1]), lr.probabilities(test_data))"
   ]
  },
  {
   "cell_type": "code",
   "execution_count": 42,
   "metadata": {},
   "outputs": [
    {
     "data": {
      "text/plain": [
       "[0, 0, 0, 0, 1, 0]"
      ]
     },
     "execution_count": 42,
     "metadata": {},
     "output_type": "execute_result"
    }
   ],
   "source": [
    "5 \n",
    "\n",
    "[0, 0, 0, 0, 1, 0]"
   ]
  },
  {
   "cell_type": "markdown",
   "metadata": {},
   "source": [
    "## Softmax"
   ]
  },
  {
   "cell_type": "code",
   "execution_count": 28,
   "metadata": {},
   "outputs": [],
   "source": [
    "emotions_mapping = [\"fear\", \"surprise\", \"sadness\", \"happiness\", \"anger\", \"disgust\"]\n",
    "\n",
    "\n",
    "class SoftmaxRegression:\n",
    "    \n",
    "    def __init__(self, lr, dim, c):\n",
    "        self.lr = lr\n",
    "        self.w = np.zeros((dim, c)) \n",
    "    \n",
    "    def stochastic_gradient_descent(self, X, labels):\n",
    "        indices = [i for i in range(len(labels))]\n",
    "        np.random.shuffle(indices)\n",
    "        for i in indices:\n",
    "            \n",
    "            # make predition\n",
    "            data = X[i]\n",
    "            label = labels[i]\n",
    "            predicted = self.probabilities(data)\n",
    "            error = label - predicted\n",
    "            \n",
    "            # update weights\n",
    "            for i in range(len(self.w)):\n",
    "                grad = error * data[i]\n",
    "                self.w[i] += self.lr * grad\n",
    "            \n",
    "    def probabilities(self, X):\n",
    "        return np.exp(X.dot(self.w)) / np.sum(np.exp(X.dot(self.w)), axis=0)\n",
    "\n",
    "    \n",
    "    def batch_gradient_descent(self, X, labels):\n",
    "        predicted = self.probabilities(X)\n",
    "        error = labels - predicted\n",
    "        grad = X.T.dot(error)\n",
    "        self.w += self.lr * grad\n",
    "        \n",
    "\n",
    "    def loss(self, labels, predicted):\n",
    "        return -np.sum(np.sum(labels.T.dot(np.log(predicted)))) # can't have zero values \n",
    "\n"
   ]
  },
  {
   "cell_type": "code",
   "execution_count": 29,
   "metadata": {},
   "outputs": [
    {
     "data": {
      "text/plain": [
       "2.772588722239781"
      ]
     },
     "execution_count": 29,
     "metadata": {},
     "output_type": "execute_result"
    }
   ],
   "source": [
    "softmax = SoftmaxRegression(0.02, 4, 2)\n",
    "\n",
    "test_data = np.array([[0.3,0.22,0.44, 0.44], [0.0,0.12,0.2, 0.2]])\n",
    "\n",
    "\n",
    "\n",
    "softmax.loss(np.array([[1, 0],[1,0]]), softmax.probabilities(test_data))"
   ]
  },
  {
   "cell_type": "code",
   "execution_count": 30,
   "metadata": {},
   "outputs": [],
   "source": [
    "for i in range(1000):\n",
    "    softmax.batch_gradient_descent(test_data, np.array([[1, 0],[1,0]]))"
   ]
  },
  {
   "cell_type": "code",
   "execution_count": 31,
   "metadata": {},
   "outputs": [
    {
     "data": {
      "text/plain": [
       "array([[ 1.15572504, -1.15572504],\n",
       "       [ 2.78524168, -2.78524168],\n",
       "       [ 4.92458004, -4.92458004],\n",
       "       [ 4.92458004, -4.92458004]])"
      ]
     },
     "execution_count": 31,
     "metadata": {},
     "output_type": "execute_result"
    }
   ],
   "source": [
    "softmax.w"
   ]
  },
  {
   "cell_type": "code",
   "execution_count": 32,
   "metadata": {},
   "outputs": [
    {
     "data": {
      "text/plain": [
       "array([[0.95207653, 0.04792347],\n",
       "       [0.04792347, 0.95207653]])"
      ]
     },
     "execution_count": 32,
     "metadata": {},
     "output_type": "execute_result"
    }
   ],
   "source": [
    "softmax.probabilities(test_data)"
   ]
  },
  {
   "cell_type": "code",
   "execution_count": 108,
   "metadata": {},
   "outputs": [],
   "source": [
    "class PCA:\n",
    "    def __init__(self, square_data, k=10): # k defaults to 10\n",
    "        self.square_data = square_data\n",
    "        M, rows, columns = self.square_data.shape\n",
    "        self.k = k\n",
    "        self.num_examples = M\n",
    "        self.image_vec = np.reshape(square_data, (M, rows*columns))\n",
    "        self.mean_face = np.mean(self.image_vec, axis=0)\n",
    "        self.components, self.singular_values = self.get_components()\n",
    "    \n",
    "    def get_components(self):\n",
    "        Phi = self.image_vec - self.mean_face\n",
    "        A = Phi\n",
    "        C = np.matmul(A, A.T)\n",
    "        C = np.divide(C, self.num_examples)\n",
    "        evals, Vi = np.linalg.eigh(C)\n",
    "        z = list(zip(evals,Vi))\n",
    "        z.sort(reverse=True)\n",
    "        #sort eigenvectors by corresponding eigenvalue\n",
    "        sorted_Vi = np.array([x[1] for x in z])\n",
    "        #take only the top k eigenvectors\n",
    "        pc = sorted_Vi[:self.k]\n",
    "        #final components (num pixels by k matrix)\n",
    "        components = np.matmul(A.T, pc.T)\n",
    "        #get singluar values\n",
    "        sorted_evals = np.array([x[0] for x in z])\n",
    "        print(sorted_evals)\n",
    "        singular_values = np.sqrt(sorted_evals)\n",
    "        return components, singular_values\n",
    "        \n",
    "\n",
    "    def transform(self, images): #take an image, and pc's, and output compressed image\n",
    "        M, rows, columns = images.shape\n",
    "        flat_images = np.reshape(images, (M, rows*columns))\n",
    "        compressed_image_vectors = np.matmul(flat_images, self.components)\n",
    "        return compressed_image_vectors"
   ]
  },
  {
   "cell_type": "code",
   "execution_count": 109,
   "metadata": {
    "scrolled": true
   },
   "outputs": [
    {
     "name": "stdout",
     "output_type": "stream",
     "text": [
      "[ 5.13748854e+07  1.31720472e+07  1.09666105e+07  5.05977225e+06\n",
      "  4.67201550e+06  3.38150872e+06  2.89461627e+06  2.75973836e+06\n",
      "  2.16073590e+06  1.64192184e+06  1.48691412e+06  1.41797916e+06\n",
      "  1.36143449e+06  1.20431420e+06  1.10997722e+06  1.00777648e+06\n",
      "  9.63367124e+05  8.80241423e+05  8.46418304e+05  7.97733814e+05\n",
      "  7.55831827e+05  7.18708430e+05  7.07558784e+05  6.50850130e+05\n",
      "  6.19597681e+05  5.80856280e+05  5.50018774e+05  5.24190625e+05\n",
      "  4.95576346e+05  4.64368414e+05  4.48087248e+05  4.22332477e+05\n",
      "  4.03557407e+05  3.94927212e+05  3.80202268e+05  3.62898366e+05\n",
      "  3.52461831e+05  3.42034312e+05  3.34918055e+05  3.23272288e+05\n",
      "  3.11268309e+05  3.00230258e+05  2.95037060e+05  2.90617316e+05\n",
      "  2.72512344e+05  2.53577075e+05  2.51743483e+05  2.44417132e+05\n",
      "  2.38720882e+05  2.26626389e+05  2.16062826e+05  2.11458269e+05\n",
      "  2.07106228e+05  1.98118545e+05  1.96813744e+05  1.89849963e+05\n",
      "  1.85233719e+05  1.80303289e+05  1.77027076e+05  1.68992183e+05\n",
      "  1.64669448e+05  1.63011045e+05  1.56981917e+05  1.51415017e+05\n",
      "  1.45598860e+05  1.42091097e+05  1.40031420e+05  1.34042962e+05\n",
      "  1.31903082e+05  1.26330597e+05  1.21075896e+05  1.18371470e+05\n",
      "  1.12601775e+05  1.12124003e+05  1.08956075e+05  1.07494186e+05\n",
      "  1.04083677e+05  1.00436147e+05  9.74837753e+04  9.46595785e+04\n",
      "  9.04240714e+04  8.72372700e+04  8.42389742e+04  8.00325172e+04\n",
      "  7.54631251e+04  7.44420518e+04  6.68651927e+04  5.70487584e+04\n",
      "  5.24749462e+04 -4.84617665e-10]\n",
      "doing transform\n",
      "(array([[-1.40652356e+08,  1.85120518e+08, -3.33850128e+08,\n",
      "        -4.46596854e+07,  7.78175336e+07,  3.97745478e+07,\n",
      "        -2.29704407e+08, -9.97281639e+07,  2.07097363e+08,\n",
      "         1.04679904e+08],\n",
      "       [-2.55906107e+08,  3.19353764e+08, -6.35946176e+08,\n",
      "        -1.03488203e+08,  1.28236629e+08,  1.08415173e+08,\n",
      "        -3.73576247e+08, -1.81094171e+08,  3.92553588e+08,\n",
      "         2.40964431e+08],\n",
      "       [-2.20317868e+08,  2.83435211e+08, -5.63525783e+08,\n",
      "        -8.69367320e+07,  1.21502670e+08,  9.23905896e+07,\n",
      "        -3.18350364e+08, -1.53181699e+08,  3.51243247e+08,\n",
      "         2.21355540e+08],\n",
      "       [-2.34588775e+08,  2.93914308e+08, -5.49956588e+08,\n",
      "        -7.28328594e+07,  1.31797229e+08,  7.83474417e+07,\n",
      "        -3.66292868e+08, -1.57646972e+08,  3.46679912e+08,\n",
      "         1.97304483e+08],\n",
      "       [-1.28428428e+08,  1.76609710e+08, -3.08179109e+08,\n",
      "        -6.44744932e+07,  7.56494252e+07,  4.61882586e+07,\n",
      "        -2.51138616e+08, -4.85681354e+07,  2.01452268e+08,\n",
      "         1.06576862e+08],\n",
      "       [-9.97035387e+07,  1.36807710e+08, -2.54528683e+08,\n",
      "        -5.03025961e+07,  5.25686714e+07,  3.57439835e+07,\n",
      "        -1.94351429e+08, -3.64686766e+07,  1.45092431e+08,\n",
      "         8.04292507e+07],\n",
      "       [-2.78832943e+08,  3.72323792e+08, -6.51384418e+08,\n",
      "        -9.88508283e+07,  1.38062516e+08,  1.10392810e+08,\n",
      "        -3.82007149e+08, -1.48520136e+08,  4.21698343e+08,\n",
      "         2.37512065e+08],\n",
      "       [-2.17770461e+08,  3.14957370e+08, -6.02125807e+08,\n",
      "        -1.20431344e+08,  1.01356581e+08,  1.08178639e+08,\n",
      "        -3.46243231e+08, -1.57178559e+08,  3.58352161e+08,\n",
      "         2.46940512e+08],\n",
      "       [-1.59844649e+08,  2.23287987e+08, -4.59568144e+08,\n",
      "        -9.31060357e+07,  6.84992169e+07,  7.78246639e+07,\n",
      "        -2.40501008e+08, -1.17854643e+08,  2.59326143e+08,\n",
      "         1.89771191e+08]]), array([0, 1, 1, 1, 1, 0, 0, 0, 0]))\n",
      "Training error: 0.5, validation error: 0.6, accuracy: 0.3\n",
      "Training error: 0.5, validation error: 0.6, accuracy: 0.3\n",
      "Training error: 0.5, validation error: 0.6, accuracy: 0.3\n",
      "Training error: 0.5, validation error: 0.6, accuracy: 0.3\n",
      "Training error: 0.5, validation error: 0.6, accuracy: 0.3\n",
      "Training error: 0.5, validation error: 0.6, accuracy: 0.3\n",
      "Training error: 0.5, validation error: 0.6, accuracy: 0.3\n",
      "Training error: 0.5, validation error: 0.6, accuracy: 0.3\n",
      "Training error: 0.5, validation error: 0.6, accuracy: 0.3\n",
      "Training error: 0.5, validation error: 0.6, accuracy: 0.3\n"
     ]
    },
    {
     "name": "stderr",
     "output_type": "stream",
     "text": [
      "/usr/local/Cellar/ipython/7.8.0/libexec/vendor/lib/python3.7/site-packages/ipykernel_launcher.py:28: RuntimeWarning: invalid value encountered in sqrt\n"
     ]
    },
    {
     "data": {
      "image/png": "[encoded data removed]",
      "text/plain": [
       "<Figure size 432x288 with 1 Axes>"
      ]
     },
     "metadata": {
      "needs_background": "light"
     },
     "output_type": "display_data"
    },
    {
     "name": "stdout",
     "output_type": "stream",
     "text": [
      "[ 5.13748854e+07  1.31720472e+07  1.09666105e+07  5.05977225e+06\n",
      "  4.67201550e+06  3.38150872e+06  2.89461627e+06  2.75973836e+06\n",
      "  2.16073590e+06  1.64192184e+06  1.48691412e+06  1.41797916e+06\n",
      "  1.36143449e+06  1.20431420e+06  1.10997722e+06  1.00777648e+06\n",
      "  9.63367124e+05  8.80241423e+05  8.46418304e+05  7.97733814e+05\n",
      "  7.55831827e+05  7.18708430e+05  7.07558784e+05  6.50850130e+05\n",
      "  6.19597681e+05  5.80856280e+05  5.50018774e+05  5.24190625e+05\n",
      "  4.95576346e+05  4.64368414e+05  4.48087248e+05  4.22332477e+05\n",
      "  4.03557407e+05  3.94927212e+05  3.80202268e+05  3.62898366e+05\n",
      "  3.52461831e+05  3.42034312e+05  3.34918055e+05  3.23272288e+05\n",
      "  3.11268309e+05  3.00230258e+05  2.95037060e+05  2.90617316e+05\n",
      "  2.72512344e+05  2.53577075e+05  2.51743483e+05  2.44417132e+05\n",
      "  2.38720882e+05  2.26626389e+05  2.16062826e+05  2.11458269e+05\n",
      "  2.07106228e+05  1.98118545e+05  1.96813744e+05  1.89849963e+05\n",
      "  1.85233719e+05  1.80303289e+05  1.77027076e+05  1.68992183e+05\n",
      "  1.64669448e+05  1.63011045e+05  1.56981917e+05  1.51415017e+05\n",
      "  1.45598860e+05  1.42091097e+05  1.40031420e+05  1.34042962e+05\n",
      "  1.31903082e+05  1.26330597e+05  1.21075896e+05  1.18371470e+05\n",
      "  1.12601775e+05  1.12124003e+05  1.08956075e+05  1.07494186e+05\n",
      "  1.04083677e+05  1.00436147e+05  9.74837753e+04  9.46595785e+04\n",
      "  9.04240714e+04  8.72372700e+04  8.42389742e+04  8.00325172e+04\n",
      "  7.54631251e+04  7.44420518e+04  6.68651927e+04  5.70487584e+04\n",
      "  5.24749462e+04 -4.84617665e-10]\n",
      "doing transform\n",
      "(array([[-2.50984486e+08,  3.67424784e+08, -7.12510764e+08,\n",
      "        -1.72259506e+08,  1.20229265e+08,  1.34225043e+08,\n",
      "        -4.68053304e+08, -1.51082017e+08,  4.19107543e+08,\n",
      "         2.80502154e+08],\n",
      "       [-2.88139940e+08,  3.99533479e+08, -7.12353327e+08,\n",
      "        -1.08948355e+08,  1.50234279e+08,  1.06980301e+08,\n",
      "        -4.27893275e+08, -1.86907206e+08,  4.51298821e+08,\n",
      "         2.71786311e+08],\n",
      "       [-2.42829337e+08,  2.98567267e+08, -5.10343629e+08,\n",
      "        -5.03709494e+07,  1.34446603e+08,  7.10320667e+07,\n",
      "        -3.61210505e+08, -1.30946008e+08,  3.27963217e+08,\n",
      "         1.62515623e+08],\n",
      "       [-2.32068279e+08,  3.27241473e+08, -6.38692430e+08,\n",
      "        -1.26941350e+08,  1.03432684e+08,  1.11491344e+08,\n",
      "        -3.37208224e+08, -1.66294878e+08,  3.87080244e+08,\n",
      "         2.67674563e+08],\n",
      "       [-1.06469194e+08,  1.45671589e+08, -3.21622424e+08,\n",
      "        -1.02690294e+08,  4.71456637e+07,  7.19413558e+07,\n",
      "        -2.02032763e+08, -9.41994918e+07,  2.19651262e+08,\n",
      "         1.48750255e+08],\n",
      "       [-3.11478844e+08,  3.87417520e+08, -7.12755792e+08,\n",
      "        -9.66657380e+07,  1.60492907e+08,  1.11910355e+08,\n",
      "        -4.33351777e+08, -1.88223843e+08,  4.51144118e+08,\n",
      "         2.70700718e+08],\n",
      "       [-2.02275382e+08,  2.89278207e+08, -5.34998353e+08,\n",
      "        -1.09264396e+08,  1.10732089e+08,  9.32702138e+07,\n",
      "        -3.66428401e+08, -1.48954989e+08,  3.27801192e+08,\n",
      "         1.90637491e+08],\n",
      "       [-2.57770530e+08,  3.24584828e+08, -6.60330530e+08,\n",
      "        -1.29958359e+08,  1.29506054e+08,  1.24617550e+08,\n",
      "        -3.59918276e+08, -1.77960049e+08,  4.20279126e+08,\n",
      "         2.73323082e+08],\n",
      "       [-9.28028077e+07,  1.54544129e+08, -3.06007766e+08,\n",
      "        -1.34644733e+08,  2.72297790e+07,  8.32404097e+07,\n",
      "        -2.40460012e+08, -6.99349931e+07,  1.96120943e+08,\n",
      "         1.49772800e+08]]), array([0, 0, 1, 0, 1, 1, 0, 1, 0]))\n",
      "Training error: 0.5, validation error: 0.6, accuracy: 0.3\n",
      "Training error: 0.5, validation error: 0.6, accuracy: 0.3\n",
      "Training error: 0.5, validation error: 0.6, accuracy: 0.3\n",
      "Training error: 0.5, validation error: 0.6, accuracy: 0.3\n",
      "Training error: 0.5, validation error: 0.6, accuracy: 0.3\n",
      "Training error: 0.5, validation error: 0.6, accuracy: 0.3\n",
      "Training error: 0.5, validation error: 0.6, accuracy: 0.3\n",
      "Training error: 0.5, validation error: 0.6, accuracy: 0.3\n",
      "Training error: 0.5, validation error: 0.6, accuracy: 0.3\n",
      "Training error: 0.5, validation error: 0.6, accuracy: 0.3\n"
     ]
    },
    {
     "data": {
      "image/png": "[encoded data removed]",
      "text/plain": [
       "<Figure size 432x288 with 1 Axes>"
      ]
     },
     "metadata": {
      "needs_background": "light"
     },
     "output_type": "display_data"
    },
    {
     "name": "stdout",
     "output_type": "stream",
     "text": [
      "[ 5.13748854e+07  1.31720472e+07  1.09666105e+07  5.05977225e+06\n",
      "  4.67201550e+06  3.38150872e+06  2.89461627e+06  2.75973836e+06\n",
      "  2.16073590e+06  1.64192184e+06  1.48691412e+06  1.41797916e+06\n",
      "  1.36143449e+06  1.20431420e+06  1.10997722e+06  1.00777648e+06\n",
      "  9.63367124e+05  8.80241423e+05  8.46418304e+05  7.97733814e+05\n",
      "  7.55831827e+05  7.18708430e+05  7.07558784e+05  6.50850130e+05\n",
      "  6.19597681e+05  5.80856280e+05  5.50018774e+05  5.24190625e+05\n",
      "  4.95576346e+05  4.64368414e+05  4.48087248e+05  4.22332477e+05\n",
      "  4.03557407e+05  3.94927212e+05  3.80202268e+05  3.62898366e+05\n",
      "  3.52461831e+05  3.42034312e+05  3.34918055e+05  3.23272288e+05\n",
      "  3.11268309e+05  3.00230258e+05  2.95037060e+05  2.90617316e+05\n",
      "  2.72512344e+05  2.53577075e+05  2.51743483e+05  2.44417132e+05\n",
      "  2.38720882e+05  2.26626389e+05  2.16062826e+05  2.11458269e+05\n",
      "  2.07106228e+05  1.98118545e+05  1.96813744e+05  1.89849963e+05\n",
      "  1.85233719e+05  1.80303289e+05  1.77027076e+05  1.68992183e+05\n",
      "  1.64669448e+05  1.63011045e+05  1.56981917e+05  1.51415017e+05\n",
      "  1.45598860e+05  1.42091097e+05  1.40031420e+05  1.34042962e+05\n",
      "  1.31903082e+05  1.26330597e+05  1.21075896e+05  1.18371470e+05\n",
      "  1.12601775e+05  1.12124003e+05  1.08956075e+05  1.07494186e+05\n",
      "  1.04083677e+05  1.00436147e+05  9.74837753e+04  9.46595785e+04\n",
      "  9.04240714e+04  8.72372700e+04  8.42389742e+04  8.00325172e+04\n",
      "  7.54631251e+04  7.44420518e+04  6.68651927e+04  5.70487584e+04\n",
      "  5.24749462e+04 -4.84617665e-10]\n",
      "doing transform\n",
      "(array([[-1.80974727e+08,  2.11398759e+08, -4.20946293e+08,\n",
      "        -5.85614601e+07,  9.99843030e+07,  6.08692684e+07,\n",
      "        -2.86011561e+08, -1.28917595e+08,  2.57399330e+08,\n",
      "         1.44417758e+08],\n",
      "       [-1.78820282e+08,  2.12398144e+08, -4.01477402e+08,\n",
      "        -3.98823501e+07,  9.94808268e+07,  5.80926067e+07,\n",
      "        -2.55471841e+08, -1.15823966e+08,  2.45325344e+08,\n",
      "         1.41175984e+08],\n",
      "       [-1.79929076e+08,  2.22781404e+08, -4.02723140e+08,\n",
      "        -2.94354077e+07,  8.73644008e+07,  5.17428565e+07,\n",
      "        -2.49758434e+08, -1.19892672e+08,  2.21837172e+08,\n",
      "         1.30453141e+08],\n",
      "       [-1.63258180e+08,  2.41473906e+08, -4.23272101e+08,\n",
      "        -7.53954890e+07,  8.18354736e+07,  6.13648644e+07,\n",
      "        -3.03989236e+08, -8.56058459e+07,  2.68005501e+08,\n",
      "         1.31456464e+08],\n",
      "       [-1.67262593e+08,  2.17529080e+08, -4.56820058e+08,\n",
      "        -8.86556006e+07,  7.48011814e+07,  8.35535771e+07,\n",
      "        -2.44686399e+08, -1.24595469e+08,  2.63292995e+08,\n",
      "         1.85370188e+08],\n",
      "       [-2.23148172e+08,  2.92886188e+08, -5.17326202e+08,\n",
      "        -8.49440270e+07,  1.13116495e+08,  7.23527391e+07,\n",
      "        -3.54339017e+08, -9.00182474e+07,  3.29571459e+08,\n",
      "         1.85886463e+08],\n",
      "       [-1.66868023e+08,  1.91037787e+08, -3.78435454e+08,\n",
      "        -3.88352111e+07,  1.06244903e+08,  5.30591801e+07,\n",
      "        -2.70990700e+08, -9.95829852e+07,  2.38376432e+08,\n",
      "         1.16784024e+08],\n",
      "       [-2.17766813e+08,  3.03291452e+08, -5.97110156e+08,\n",
      "        -1.53104065e+08,  1.07021678e+08,  1.13015300e+08,\n",
      "        -4.38382673e+08, -9.58705814e+07,  3.32031632e+08,\n",
      "         2.19891075e+08],\n",
      "       [-1.29545501e+08,  1.84229033e+08, -3.60408490e+08,\n",
      "        -5.65242024e+07,  6.89649570e+07,  6.08853955e+07,\n",
      "        -1.64866394e+08, -9.50929611e+07,  2.17516366e+08,\n",
      "         1.56372227e+08]]), array([1, 1, 0, 0, 1, 1, 1, 1, 0]))\n",
      "Training error: 0.5, validation error: 0.6, accuracy: 0.3\n",
      "Training error: 0.5, validation error: 0.6, accuracy: 0.3\n",
      "Training error: 0.5, validation error: 0.6, accuracy: 0.3\n",
      "Training error: 0.5, validation error: 0.6, accuracy: 0.3\n",
      "Training error: 0.5, validation error: 0.6, accuracy: 0.3\n",
      "Training error: 0.5, validation error: 0.6, accuracy: 0.3\n",
      "Training error: 0.5, validation error: 0.6, accuracy: 0.3\n",
      "Training error: 0.5, validation error: 0.6, accuracy: 0.3\n",
      "Training error: 0.5, validation error: 0.6, accuracy: 0.3\n",
      "Training error: 0.5, validation error: 0.6, accuracy: 0.3\n"
     ]
    },
    {
     "data": {
      "image/png": "[encoded data removed]",
      "text/plain": [
       "<Figure size 432x288 with 1 Axes>"
      ]
     },
     "metadata": {
      "needs_background": "light"
     },
     "output_type": "display_data"
    },
    {
     "name": "stdout",
     "output_type": "stream",
     "text": [
      "[ 5.13748854e+07  1.31720472e+07  1.09666105e+07  5.05977225e+06\n",
      "  4.67201550e+06  3.38150872e+06  2.89461627e+06  2.75973836e+06\n",
      "  2.16073590e+06  1.64192184e+06  1.48691412e+06  1.41797916e+06\n",
      "  1.36143449e+06  1.20431420e+06  1.10997722e+06  1.00777648e+06\n",
      "  9.63367124e+05  8.80241423e+05  8.46418304e+05  7.97733814e+05\n",
      "  7.55831827e+05  7.18708430e+05  7.07558784e+05  6.50850130e+05\n",
      "  6.19597681e+05  5.80856280e+05  5.50018774e+05  5.24190625e+05\n",
      "  4.95576346e+05  4.64368414e+05  4.48087248e+05  4.22332477e+05\n",
      "  4.03557407e+05  3.94927212e+05  3.80202268e+05  3.62898366e+05\n",
      "  3.52461831e+05  3.42034312e+05  3.34918055e+05  3.23272288e+05\n",
      "  3.11268309e+05  3.00230258e+05  2.95037060e+05  2.90617316e+05\n",
      "  2.72512344e+05  2.53577075e+05  2.51743483e+05  2.44417132e+05\n",
      "  2.38720882e+05  2.26626389e+05  2.16062826e+05  2.11458269e+05\n",
      "  2.07106228e+05  1.98118545e+05  1.96813744e+05  1.89849963e+05\n",
      "  1.85233719e+05  1.80303289e+05  1.77027076e+05  1.68992183e+05\n",
      "  1.64669448e+05  1.63011045e+05  1.56981917e+05  1.51415017e+05\n",
      "  1.45598860e+05  1.42091097e+05  1.40031420e+05  1.34042962e+05\n",
      "  1.31903082e+05  1.26330597e+05  1.21075896e+05  1.18371470e+05\n",
      "  1.12601775e+05  1.12124003e+05  1.08956075e+05  1.07494186e+05\n",
      "  1.04083677e+05  1.00436147e+05  9.74837753e+04  9.46595785e+04\n",
      "  9.04240714e+04  8.72372700e+04  8.42389742e+04  8.00325172e+04\n",
      "  7.54631251e+04  7.44420518e+04  6.68651927e+04  5.70487584e+04\n",
      "  5.24749462e+04 -4.84617665e-10]\n",
      "doing transform\n",
      "(array([[-2.32832950e+08,  3.54974804e+08, -6.42815174e+08,\n",
      "        -1.67538574e+08,  1.10426639e+08,  1.22248136e+08,\n",
      "        -4.54358113e+08, -1.50565362e+08,  3.91714427e+08,\n",
      "         2.69769320e+08],\n",
      "       [-1.68802261e+08,  2.29507939e+08, -4.45025295e+08,\n",
      "        -7.06587478e+07,  8.58239900e+07,  5.95042011e+07,\n",
      "        -2.51911434e+08, -1.15151472e+08,  2.65419883e+08,\n",
      "         1.69827497e+08],\n",
      "       [-2.18777628e+08,  2.77396276e+08, -4.80387414e+08,\n",
      "        -5.28589169e+07,  1.27970746e+08,  8.41102910e+07,\n",
      "        -3.33740460e+08, -1.20626880e+08,  3.12459259e+08,\n",
      "         1.69896730e+08],\n",
      "       [-1.59216703e+08,  1.81240394e+08, -3.76883420e+08,\n",
      "        -5.25603086e+07,  1.00980690e+08,  5.40095307e+07,\n",
      "        -2.57019416e+08, -9.92774318e+07,  2.28826117e+08,\n",
      "         1.22054009e+08],\n",
      "       [-1.69803306e+08,  2.50143401e+08, -4.62553963e+08,\n",
      "        -1.09626641e+08,  9.42253440e+07,  7.62504866e+07,\n",
      "        -3.27404188e+08, -1.07873011e+08,  2.75353085e+08,\n",
      "         1.81239016e+08],\n",
      "       [-2.38673556e+08,  3.06763014e+08, -5.89863175e+08,\n",
      "        -1.01673730e+08,  1.23027791e+08,  9.78728523e+07,\n",
      "        -3.95421508e+08, -1.53494907e+08,  3.53249383e+08,\n",
      "         2.06805298e+08],\n",
      "       [-2.25475436e+08,  3.02582041e+08, -5.89718033e+08,\n",
      "        -1.00261399e+08,  1.18242451e+08,  9.76873229e+07,\n",
      "        -3.66654138e+08, -1.54832950e+08,  3.38487709e+08,\n",
      "         2.20018580e+08],\n",
      "       [-1.47035149e+08,  2.00049720e+08, -3.82706859e+08,\n",
      "        -6.05380994e+07,  8.39871462e+07,  5.86251194e+07,\n",
      "        -2.29457245e+08, -1.13354181e+08,  2.30458033e+08,\n",
      "         1.43407618e+08],\n",
      "       [-2.97533349e+08,  3.87636468e+08, -7.58800647e+08,\n",
      "        -1.54440644e+08,  1.56686953e+08,  1.35936642e+08,\n",
      "        -4.24795121e+08, -1.75669249e+08,  4.78284886e+08,\n",
      "         3.11941212e+08]]), array([0, 0, 1, 1, 0, 1, 0, 0, 1]))\n",
      "Training error: 0.5, validation error: 0.6, accuracy: 0.3\n",
      "Training error: 0.5, validation error: 0.6, accuracy: 0.3\n",
      "Training error: 0.5, validation error: 0.6, accuracy: 0.3\n",
      "Training error: 0.5, validation error: 0.6, accuracy: 0.3\n",
      "Training error: 0.5, validation error: 0.6, accuracy: 0.3\n",
      "Training error: 0.5, validation error: 0.6, accuracy: 0.3\n",
      "Training error: 0.5, validation error: 0.6, accuracy: 0.3\n",
      "Training error: 0.5, validation error: 0.6, accuracy: 0.3\n",
      "Training error: 0.5, validation error: 0.6, accuracy: 0.3\n",
      "Training error: 0.5, validation error: 0.6, accuracy: 0.3\n"
     ]
    },
    {
     "data": {
      "image/png": "[encoded data removed]",
      "text/plain": [
       "<Figure size 432x288 with 1 Axes>"
      ]
     },
     "metadata": {
      "needs_background": "light"
     },
     "output_type": "display_data"
    },
    {
     "name": "stdout",
     "output_type": "stream",
     "text": [
      "[ 5.13748854e+07  1.31720472e+07  1.09666105e+07  5.05977225e+06\n",
      "  4.67201550e+06  3.38150872e+06  2.89461627e+06  2.75973836e+06\n",
      "  2.16073590e+06  1.64192184e+06  1.48691412e+06  1.41797916e+06\n",
      "  1.36143449e+06  1.20431420e+06  1.10997722e+06  1.00777648e+06\n",
      "  9.63367124e+05  8.80241423e+05  8.46418304e+05  7.97733814e+05\n",
      "  7.55831827e+05  7.18708430e+05  7.07558784e+05  6.50850130e+05\n",
      "  6.19597681e+05  5.80856280e+05  5.50018774e+05  5.24190625e+05\n",
      "  4.95576346e+05  4.64368414e+05  4.48087248e+05  4.22332477e+05\n",
      "  4.03557407e+05  3.94927212e+05  3.80202268e+05  3.62898366e+05\n",
      "  3.52461831e+05  3.42034312e+05  3.34918055e+05  3.23272288e+05\n",
      "  3.11268309e+05  3.00230258e+05  2.95037060e+05  2.90617316e+05\n",
      "  2.72512344e+05  2.53577075e+05  2.51743483e+05  2.44417132e+05\n",
      "  2.38720882e+05  2.26626389e+05  2.16062826e+05  2.11458269e+05\n",
      "  2.07106228e+05  1.98118545e+05  1.96813744e+05  1.89849963e+05\n",
      "  1.85233719e+05  1.80303289e+05  1.77027076e+05  1.68992183e+05\n",
      "  1.64669448e+05  1.63011045e+05  1.56981917e+05  1.51415017e+05\n",
      "  1.45598860e+05  1.42091097e+05  1.40031420e+05  1.34042962e+05\n",
      "  1.31903082e+05  1.26330597e+05  1.21075896e+05  1.18371470e+05\n",
      "  1.12601775e+05  1.12124003e+05  1.08956075e+05  1.07494186e+05\n",
      "  1.04083677e+05  1.00436147e+05  9.74837753e+04  9.46595785e+04\n",
      "  9.04240714e+04  8.72372700e+04  8.42389742e+04  8.00325172e+04\n",
      "  7.54631251e+04  7.44420518e+04  6.68651927e+04  5.70487584e+04\n",
      "  5.24749462e+04 -4.84617665e-10]\n",
      "doing transform\n",
      "(array([[-2.05013243e+08,  2.76065078e+08, -5.70953717e+08,\n",
      "        -1.06648777e+08,  9.80849044e+07,  9.81305939e+07,\n",
      "        -3.37303012e+08, -1.49312350e+08,  3.24142302e+08,\n",
      "         2.04768245e+08],\n",
      "       [-2.49580810e+08,  3.11365531e+08, -6.36162317e+08,\n",
      "        -1.03029327e+08,  1.32115548e+08,  1.04572003e+08,\n",
      "        -3.80409155e+08, -1.67972386e+08,  3.94747282e+08,\n",
      "         2.44717138e+08],\n",
      "       [-6.08915989e+07,  9.81338508e+07, -2.41606699e+08,\n",
      "        -1.32033562e+08,  5.42725185e+06,  6.83372383e+07,\n",
      "        -2.18236482e+08, -4.32682687e+07,  1.20531776e+08,\n",
      "         1.17963364e+08],\n",
      "       [-1.93154818e+08,  2.62018714e+08, -4.89787234e+08,\n",
      "        -7.84390501e+07,  9.65393092e+07,  7.46779347e+07,\n",
      "        -2.82931277e+08, -1.33602260e+08,  3.02011706e+08,\n",
      "         1.89744254e+08],\n",
      "       [-1.64534327e+08,  2.21568564e+08, -4.04236682e+08,\n",
      "        -5.04238657e+07,  8.42415768e+07,  5.81530090e+07,\n",
      "        -2.40445330e+08, -1.06090496e+08,  2.37644092e+08,\n",
      "         1.51068931e+08],\n",
      "       [-1.24749010e+08,  1.80913298e+08, -2.99125083e+08,\n",
      "        -6.12183487e+07,  6.86725457e+07,  4.23349988e+07,\n",
      "        -2.46826088e+08, -4.62340853e+07,  1.88445371e+08,\n",
      "         1.03378000e+08],\n",
      "       [-2.19455339e+08,  3.25017864e+08, -6.14408473e+08,\n",
      "        -1.13471568e+08,  1.19548955e+08,  9.87812796e+07,\n",
      "        -3.59113620e+08, -1.60849275e+08,  3.88566562e+08,\n",
      "         2.44534293e+08],\n",
      "       [-1.10764868e+08,  1.77886615e+08, -3.56722160e+08,\n",
      "        -1.54460439e+08,  2.04576994e+07,  1.09014185e+08,\n",
      "        -2.60330183e+08, -8.63306292e+07,  2.29421676e+08,\n",
      "         1.82131580e+08],\n",
      "       [-5.34063760e+07,  9.45683062e+07, -2.95214852e+08,\n",
      "        -1.85183515e+08, -1.90891416e+07,  1.13806259e+08,\n",
      "        -2.15956208e+08, -6.67258924e+07,  1.63497438e+08,\n",
      "         1.72168539e+08]]), array([0, 1, 0, 0, 0, 0, 0, 0, 0]))\n",
      "Training error: 0.5, validation error: 0.6, accuracy: 0.3\n",
      "Training error: 0.5, validation error: 0.6, accuracy: 0.3\n",
      "Training error: 0.5, validation error: 0.6, accuracy: 0.3\n",
      "Training error: 0.5, validation error: 0.6, accuracy: 0.3\n",
      "Training error: 0.5, validation error: 0.6, accuracy: 0.3\n",
      "Training error: 0.5, validation error: 0.6, accuracy: 0.3\n",
      "Training error: 0.5, validation error: 0.6, accuracy: 0.3\n",
      "Training error: 0.5, validation error: 0.6, accuracy: 0.3\n",
      "Training error: 0.5, validation error: 0.6, accuracy: 0.3\n",
      "Training error: 0.5, validation error: 0.6, accuracy: 0.3\n"
     ]
    },
    {
     "data": {
      "image/png": "[encoded data removed]",
      "text/plain": [
       "<Figure size 432x288 with 1 Axes>"
      ]
     },
     "metadata": {
      "needs_background": "light"
     },
     "output_type": "display_data"
    },
    {
     "name": "stdout",
     "output_type": "stream",
     "text": [
      "[ 5.13748854e+07  1.31720472e+07  1.09666105e+07  5.05977225e+06\n",
      "  4.67201550e+06  3.38150872e+06  2.89461627e+06  2.75973836e+06\n",
      "  2.16073590e+06  1.64192184e+06  1.48691412e+06  1.41797916e+06\n",
      "  1.36143449e+06  1.20431420e+06  1.10997722e+06  1.00777648e+06\n",
      "  9.63367124e+05  8.80241423e+05  8.46418304e+05  7.97733814e+05\n",
      "  7.55831827e+05  7.18708430e+05  7.07558784e+05  6.50850130e+05\n",
      "  6.19597681e+05  5.80856280e+05  5.50018774e+05  5.24190625e+05\n",
      "  4.95576346e+05  4.64368414e+05  4.48087248e+05  4.22332477e+05\n",
      "  4.03557407e+05  3.94927212e+05  3.80202268e+05  3.62898366e+05\n",
      "  3.52461831e+05  3.42034312e+05  3.34918055e+05  3.23272288e+05\n",
      "  3.11268309e+05  3.00230258e+05  2.95037060e+05  2.90617316e+05\n",
      "  2.72512344e+05  2.53577075e+05  2.51743483e+05  2.44417132e+05\n",
      "  2.38720882e+05  2.26626389e+05  2.16062826e+05  2.11458269e+05\n",
      "  2.07106228e+05  1.98118545e+05  1.96813744e+05  1.89849963e+05\n",
      "  1.85233719e+05  1.80303289e+05  1.77027076e+05  1.68992183e+05\n",
      "  1.64669448e+05  1.63011045e+05  1.56981917e+05  1.51415017e+05\n",
      "  1.45598860e+05  1.42091097e+05  1.40031420e+05  1.34042962e+05\n",
      "  1.31903082e+05  1.26330597e+05  1.21075896e+05  1.18371470e+05\n",
      "  1.12601775e+05  1.12124003e+05  1.08956075e+05  1.07494186e+05\n",
      "  1.04083677e+05  1.00436147e+05  9.74837753e+04  9.46595785e+04\n",
      "  9.04240714e+04  8.72372700e+04  8.42389742e+04  8.00325172e+04\n",
      "  7.54631251e+04  7.44420518e+04  6.68651927e+04  5.70487584e+04\n",
      "  5.24749462e+04 -4.84617665e-10]\n",
      "doing transform\n",
      "(array([[-2.68976937e+08,  3.66758068e+08, -7.55753802e+08,\n",
      "        -1.67732593e+08,  1.32418605e+08,  1.10871076e+08,\n",
      "        -4.35834383e+08, -1.77245047e+08,  4.35233343e+08,\n",
      "         3.22580058e+08],\n",
      "       [-2.53112342e+08,  3.06977398e+08, -6.28965566e+08,\n",
      "        -1.01782535e+08,  1.27599389e+08,  1.00911077e+08,\n",
      "        -3.66339126e+08, -1.69267216e+08,  3.76954313e+08,\n",
      "         2.27576841e+08],\n",
      "       [-2.15288789e+08,  2.52120264e+08, -4.91483204e+08,\n",
      "        -7.80548188e+07,  1.18703336e+08,  5.60691396e+07,\n",
      "        -3.70278278e+08, -8.73747096e+07,  3.02073529e+08,\n",
      "         1.34978216e+08],\n",
      "       [-2.19019098e+08,  2.99593823e+08, -5.84280425e+08,\n",
      "        -9.93813845e+07,  1.08282593e+08,  9.26058684e+07,\n",
      "        -3.21735821e+08, -1.59683898e+08,  3.57030379e+08,\n",
      "         2.34542229e+08],\n",
      "       [-1.31086333e+08,  1.72903956e+08, -3.59489097e+08,\n",
      "        -7.10602895e+07,  3.23641076e+07,  8.68269227e+07,\n",
      "        -1.41752227e+08, -1.28267219e+08,  2.20367882e+08,\n",
      "         1.66067522e+08],\n",
      "       [-1.57457492e+08,  1.84932508e+08, -3.98388726e+08,\n",
      "        -7.28303391e+07,  5.83451770e+07,  9.13193112e+07,\n",
      "        -1.56153781e+08, -1.33970922e+08,  2.61327614e+08,\n",
      "         1.72783259e+08],\n",
      "       [-2.13450127e+08,  3.08128621e+08, -5.76762903e+08,\n",
      "        -1.15581154e+08,  1.03994011e+08,  9.30324054e+07,\n",
      "        -3.43219306e+08, -1.41600002e+08,  3.45876290e+08,\n",
      "         2.31180323e+08],\n",
      "       [-2.07528425e+08,  2.54328550e+08, -5.46212457e+08,\n",
      "        -8.27837660e+07,  1.17708078e+08,  9.08037220e+07,\n",
      "        -3.46875353e+08, -1.38741585e+08,  3.23243449e+08,\n",
      "         1.90887199e+08],\n",
      "       [-3.20561572e+08,  3.98455906e+08, -7.91013703e+08,\n",
      "        -1.47170381e+08,  1.60673177e+08,  1.44569802e+08,\n",
      "        -4.36630371e+08, -1.89921962e+08,  4.91518069e+08,\n",
      "         3.22730086e+08]]), array([0, 1, 1, 0, 0, 1, 0, 1, 1]))\n",
      "Training error: 0.5, validation error: 0.6, accuracy: 0.3\n",
      "Training error: 0.5, validation error: 0.6, accuracy: 0.3\n",
      "Training error: 0.5, validation error: 0.6, accuracy: 0.3\n",
      "Training error: 0.5, validation error: 0.6, accuracy: 0.3\n",
      "Training error: 0.5, validation error: 0.6, accuracy: 0.3\n",
      "Training error: 0.5, validation error: 0.6, accuracy: 0.3\n",
      "Training error: 0.5, validation error: 0.6, accuracy: 0.3\n",
      "Training error: 0.5, validation error: 0.6, accuracy: 0.3\n",
      "Training error: 0.5, validation error: 0.6, accuracy: 0.3\n",
      "Training error: 0.5, validation error: 0.6, accuracy: 0.3\n"
     ]
    },
    {
     "data": {
      "image/png": "[encoded data removed]",
      "text/plain": [
       "<Figure size 432x288 with 1 Axes>"
      ]
     },
     "metadata": {
      "needs_background": "light"
     },
     "output_type": "display_data"
    },
    {
     "name": "stdout",
     "output_type": "stream",
     "text": [
      "[ 5.13748854e+07  1.31720472e+07  1.09666105e+07  5.05977225e+06\n",
      "  4.67201550e+06  3.38150872e+06  2.89461627e+06  2.75973836e+06\n",
      "  2.16073590e+06  1.64192184e+06  1.48691412e+06  1.41797916e+06\n",
      "  1.36143449e+06  1.20431420e+06  1.10997722e+06  1.00777648e+06\n",
      "  9.63367124e+05  8.80241423e+05  8.46418304e+05  7.97733814e+05\n",
      "  7.55831827e+05  7.18708430e+05  7.07558784e+05  6.50850130e+05\n",
      "  6.19597681e+05  5.80856280e+05  5.50018774e+05  5.24190625e+05\n",
      "  4.95576346e+05  4.64368414e+05  4.48087248e+05  4.22332477e+05\n",
      "  4.03557407e+05  3.94927212e+05  3.80202268e+05  3.62898366e+05\n",
      "  3.52461831e+05  3.42034312e+05  3.34918055e+05  3.23272288e+05\n",
      "  3.11268309e+05  3.00230258e+05  2.95037060e+05  2.90617316e+05\n",
      "  2.72512344e+05  2.53577075e+05  2.51743483e+05  2.44417132e+05\n",
      "  2.38720882e+05  2.26626389e+05  2.16062826e+05  2.11458269e+05\n",
      "  2.07106228e+05  1.98118545e+05  1.96813744e+05  1.89849963e+05\n",
      "  1.85233719e+05  1.80303289e+05  1.77027076e+05  1.68992183e+05\n",
      "  1.64669448e+05  1.63011045e+05  1.56981917e+05  1.51415017e+05\n",
      "  1.45598860e+05  1.42091097e+05  1.40031420e+05  1.34042962e+05\n",
      "  1.31903082e+05  1.26330597e+05  1.21075896e+05  1.18371470e+05\n",
      "  1.12601775e+05  1.12124003e+05  1.08956075e+05  1.07494186e+05\n",
      "  1.04083677e+05  1.00436147e+05  9.74837753e+04  9.46595785e+04\n",
      "  9.04240714e+04  8.72372700e+04  8.42389742e+04  8.00325172e+04\n",
      "  7.54631251e+04  7.44420518e+04  6.68651927e+04  5.70487584e+04\n",
      "  5.24749462e+04 -4.84617665e-10]\n",
      "doing transform\n",
      "(array([[-2.29792809e+08,  3.32001718e+08, -5.89385265e+08,\n",
      "        -7.98966355e+07,  1.33636997e+08,  9.09067762e+07,\n",
      "        -3.48637103e+08, -1.48696551e+08,  3.67697264e+08,\n",
      "         2.27272529e+08],\n",
      "       [-1.72644535e+08,  2.21888857e+08, -4.44116754e+08,\n",
      "        -6.30528480e+07,  9.33163569e+07,  6.21728346e+07,\n",
      "        -2.52536454e+08, -1.18307224e+08,  2.70770997e+08,\n",
      "         1.68901123e+08],\n",
      "       [-2.51650853e+08,  3.25967894e+08, -6.06160892e+08,\n",
      "        -7.21955729e+07,  1.48750495e+08,  9.32041620e+07,\n",
      "        -3.73615076e+08, -1.60029999e+08,  3.91267407e+08,\n",
      "         2.29297375e+08],\n",
      "       [-1.25654560e+08,  1.86058360e+08, -3.13802917e+08,\n",
      "        -2.48496717e+07,  6.12660381e+07,  3.85028044e+07,\n",
      "        -1.66262423e+08, -9.73924403e+07,  1.91209230e+08,\n",
      "         1.08645163e+08],\n",
      "       [-1.05193753e+08,  1.67812807e+08, -3.29267393e+08,\n",
      "        -1.08899143e+08,  4.43988988e+07,  6.69505670e+07,\n",
      "        -2.13518634e+08, -8.19679545e+07,  2.12363614e+08,\n",
      "         1.49685861e+08],\n",
      "       [-2.55493590e+08,  3.28546992e+08, -6.36508655e+08,\n",
      "        -1.04524811e+08,  1.33361758e+08,  9.79384696e+07,\n",
      "        -3.59334868e+08, -1.66667535e+08,  3.81322616e+08,\n",
      "         2.44595983e+08],\n",
      "       [-2.02221777e+08,  2.38782927e+08, -5.11972280e+08,\n",
      "        -8.45507906e+07,  1.05920241e+08,  9.22654959e+07,\n",
      "        -3.26179032e+08, -1.38850995e+08,  3.18619934e+08,\n",
      "         1.95255170e+08],\n",
      "       [-1.50530493e+08,  1.85331484e+08, -3.91022228e+08,\n",
      "        -6.38290722e+07,  8.29927470e+07,  6.67064710e+07,\n",
      "        -1.74018706e+08, -1.08097130e+08,  2.46126049e+08,\n",
      "         1.67335760e+08],\n",
      "       [-1.53150693e+08,  2.00714080e+08, -4.64007310e+08,\n",
      "        -1.42863571e+08,  2.70362613e+07,  1.19869292e+08,\n",
      "        -2.45259280e+08, -1.09767802e+08,  2.74305353e+08,\n",
      "         2.20468272e+08]]), array([0, 1, 1, 0, 0, 1, 1, 1, 0]))\n",
      "Training error: 0.5, validation error: 0.6, accuracy: 0.3\n",
      "Training error: 0.5, validation error: 0.6, accuracy: 0.3\n",
      "Training error: 0.5, validation error: 0.6, accuracy: 0.3\n",
      "Training error: 0.5, validation error: 0.6, accuracy: 0.3\n",
      "Training error: 0.5, validation error: 0.6, accuracy: 0.3\n",
      "Training error: 0.5, validation error: 0.6, accuracy: 0.3\n",
      "Training error: 0.5, validation error: 0.6, accuracy: 0.3\n",
      "Training error: 0.5, validation error: 0.6, accuracy: 0.3\n",
      "Training error: 0.5, validation error: 0.6, accuracy: 0.3\n",
      "Training error: 0.5, validation error: 0.6, accuracy: 0.3\n"
     ]
    },
    {
     "data": {
      "image/png": "[encoded data removed]",
      "text/plain": [
       "<Figure size 432x288 with 1 Axes>"
      ]
     },
     "metadata": {
      "needs_background": "light"
     },
     "output_type": "display_data"
    },
    {
     "name": "stdout",
     "output_type": "stream",
     "text": [
      "[ 5.13748854e+07  1.31720472e+07  1.09666105e+07  5.05977225e+06\n",
      "  4.67201550e+06  3.38150872e+06  2.89461627e+06  2.75973836e+06\n",
      "  2.16073590e+06  1.64192184e+06  1.48691412e+06  1.41797916e+06\n",
      "  1.36143449e+06  1.20431420e+06  1.10997722e+06  1.00777648e+06\n",
      "  9.63367124e+05  8.80241423e+05  8.46418304e+05  7.97733814e+05\n",
      "  7.55831827e+05  7.18708430e+05  7.07558784e+05  6.50850130e+05\n",
      "  6.19597681e+05  5.80856280e+05  5.50018774e+05  5.24190625e+05\n",
      "  4.95576346e+05  4.64368414e+05  4.48087248e+05  4.22332477e+05\n",
      "  4.03557407e+05  3.94927212e+05  3.80202268e+05  3.62898366e+05\n",
      "  3.52461831e+05  3.42034312e+05  3.34918055e+05  3.23272288e+05\n",
      "  3.11268309e+05  3.00230258e+05  2.95037060e+05  2.90617316e+05\n",
      "  2.72512344e+05  2.53577075e+05  2.51743483e+05  2.44417132e+05\n",
      "  2.38720882e+05  2.26626389e+05  2.16062826e+05  2.11458269e+05\n",
      "  2.07106228e+05  1.98118545e+05  1.96813744e+05  1.89849963e+05\n",
      "  1.85233719e+05  1.80303289e+05  1.77027076e+05  1.68992183e+05\n",
      "  1.64669448e+05  1.63011045e+05  1.56981917e+05  1.51415017e+05\n",
      "  1.45598860e+05  1.42091097e+05  1.40031420e+05  1.34042962e+05\n",
      "  1.31903082e+05  1.26330597e+05  1.21075896e+05  1.18371470e+05\n",
      "  1.12601775e+05  1.12124003e+05  1.08956075e+05  1.07494186e+05\n",
      "  1.04083677e+05  1.00436147e+05  9.74837753e+04  9.46595785e+04\n",
      "  9.04240714e+04  8.72372700e+04  8.42389742e+04  8.00325172e+04\n",
      "  7.54631251e+04  7.44420518e+04  6.68651927e+04  5.70487584e+04\n",
      "  5.24749462e+04 -4.84617665e-10]\n",
      "doing transform\n",
      "(array([[-1.24965210e+08,  1.51850736e+08, -3.02747874e+08,\n",
      "        -3.62545286e+07,  7.00346710e+07,  4.61811117e+07,\n",
      "        -1.84590189e+08, -9.27503454e+07,  1.91311482e+08,\n",
      "         1.07649877e+08],\n",
      "       [-6.58602782e+07,  9.19153983e+07, -1.63468774e+08,\n",
      "        -2.51809213e+07,  3.52441378e+07,  2.11143181e+07,\n",
      "        -1.13100130e+08, -4.29191298e+07,  9.60992514e+07,\n",
      "         5.31250713e+07],\n",
      "       [-2.08254900e+08,  2.85017254e+08, -5.27717531e+08,\n",
      "        -8.21593012e+07,  1.18365981e+08,  8.26731796e+07,\n",
      "        -3.75977829e+08, -1.30487907e+08,  3.12566504e+08,\n",
      "         1.81895852e+08],\n",
      "       [-1.64730313e+08,  2.17434597e+08, -4.18119019e+08,\n",
      "        -6.34064849e+07,  9.06725433e+07,  5.91516782e+07,\n",
      "        -2.83834168e+08, -1.20242189e+08,  2.49325599e+08,\n",
      "         1.47206028e+08],\n",
      "       [-2.40791839e+08,  2.87281554e+08, -5.73971106e+08,\n",
      "        -1.10728056e+08,  1.24285697e+08,  8.93386573e+07,\n",
      "        -4.06980805e+08, -1.50428198e+08,  3.56805545e+08,\n",
      "         2.02837887e+08],\n",
      "       [-2.01654159e+08,  2.84305243e+08, -5.48635271e+08,\n",
      "        -8.91480000e+07,  1.06052006e+08,  8.73808334e+07,\n",
      "        -2.95488567e+08, -1.48729766e+08,  3.28497010e+08,\n",
      "         2.20246778e+08],\n",
      "       [-1.33442204e+08,  1.72099336e+08, -3.29850722e+08,\n",
      "        -6.88590184e+07,  4.18089584e+07,  7.59663937e+07,\n",
      "        -1.74749718e+08, -1.00908276e+08,  2.09526582e+08,\n",
      "         1.41482879e+08],\n",
      "       [-2.52065249e+08,  3.20419205e+08, -6.44621013e+08,\n",
      "        -1.27901566e+08,  1.21372694e+08,  1.18389792e+08,\n",
      "        -3.79322821e+08, -1.71135543e+08,  3.88233298e+08,\n",
      "         2.62779671e+08],\n",
      "       [-1.99419782e+08,  2.49825146e+08, -4.60548598e+08,\n",
      "        -6.88076707e+07,  1.10161082e+08,  6.47567860e+07,\n",
      "        -3.38853554e+08, -8.78966262e+07,  2.92831059e+08,\n",
      "         1.36955958e+08]]), array([1, 0, 0, 0, 1, 0, 0, 1, 1]))\n",
      "Training error: 0.5, validation error: 0.6, accuracy: 0.3\n",
      "Training error: 0.5, validation error: 0.6, accuracy: 0.3\n",
      "Training error: 0.5, validation error: 0.6, accuracy: 0.3\n",
      "Training error: 0.5, validation error: 0.6, accuracy: 0.3\n",
      "Training error: 0.5, validation error: 0.6, accuracy: 0.3\n",
      "Training error: 0.5, validation error: 0.6, accuracy: 0.3\n",
      "Training error: 0.5, validation error: 0.6, accuracy: 0.3\n",
      "Training error: 0.5, validation error: 0.6, accuracy: 0.3\n",
      "Training error: 0.5, validation error: 0.6, accuracy: 0.3\n",
      "Training error: 0.5, validation error: 0.6, accuracy: 0.3\n"
     ]
    },
    {
     "data": {
      "image/png": "[encoded data removed]",
      "text/plain": [
       "<Figure size 432x288 with 1 Axes>"
      ]
     },
     "metadata": {
      "needs_background": "light"
     },
     "output_type": "display_data"
    },
    {
     "name": "stdout",
     "output_type": "stream",
     "text": [
      "[ 5.13748854e+07  1.31720472e+07  1.09666105e+07  5.05977225e+06\n",
      "  4.67201550e+06  3.38150872e+06  2.89461627e+06  2.75973836e+06\n",
      "  2.16073590e+06  1.64192184e+06  1.48691412e+06  1.41797916e+06\n",
      "  1.36143449e+06  1.20431420e+06  1.10997722e+06  1.00777648e+06\n",
      "  9.63367124e+05  8.80241423e+05  8.46418304e+05  7.97733814e+05\n",
      "  7.55831827e+05  7.18708430e+05  7.07558784e+05  6.50850130e+05\n",
      "  6.19597681e+05  5.80856280e+05  5.50018774e+05  5.24190625e+05\n",
      "  4.95576346e+05  4.64368414e+05  4.48087248e+05  4.22332477e+05\n",
      "  4.03557407e+05  3.94927212e+05  3.80202268e+05  3.62898366e+05\n",
      "  3.52461831e+05  3.42034312e+05  3.34918055e+05  3.23272288e+05\n",
      "  3.11268309e+05  3.00230258e+05  2.95037060e+05  2.90617316e+05\n",
      "  2.72512344e+05  2.53577075e+05  2.51743483e+05  2.44417132e+05\n",
      "  2.38720882e+05  2.26626389e+05  2.16062826e+05  2.11458269e+05\n",
      "  2.07106228e+05  1.98118545e+05  1.96813744e+05  1.89849963e+05\n",
      "  1.85233719e+05  1.80303289e+05  1.77027076e+05  1.68992183e+05\n",
      "  1.64669448e+05  1.63011045e+05  1.56981917e+05  1.51415017e+05\n",
      "  1.45598860e+05  1.42091097e+05  1.40031420e+05  1.34042962e+05\n",
      "  1.31903082e+05  1.26330597e+05  1.21075896e+05  1.18371470e+05\n",
      "  1.12601775e+05  1.12124003e+05  1.08956075e+05  1.07494186e+05\n",
      "  1.04083677e+05  1.00436147e+05  9.74837753e+04  9.46595785e+04\n",
      "  9.04240714e+04  8.72372700e+04  8.42389742e+04  8.00325172e+04\n",
      "  7.54631251e+04  7.44420518e+04  6.68651927e+04  5.70487584e+04\n",
      "  5.24749462e+04 -4.84617665e-10]\n",
      "doing transform\n",
      "(array([[-1.79483113e+08,  2.44147956e+08, -4.36840599e+08,\n",
      "        -6.51529760e+07,  9.89174788e+07,  7.40544812e+07,\n",
      "        -2.71471760e+08, -1.20285567e+08,  2.76059131e+08,\n",
      "         1.75551153e+08],\n",
      "       [-2.29941418e+08,  3.08205673e+08, -5.87714050e+08,\n",
      "        -9.15445581e+07,  1.34797904e+08,  9.46637166e+07,\n",
      "        -3.55318067e+08, -1.61287598e+08,  3.67781631e+08,\n",
      "         2.20014184e+08],\n",
      "       [-1.45809410e+08,  2.03456996e+08, -3.54291480e+08,\n",
      "        -7.05823533e+07,  8.21460974e+07,  5.80396326e+07,\n",
      "        -2.67635338e+08, -7.92101870e+07,  2.23163193e+08,\n",
      "         1.27775440e+08],\n",
      "       [-2.41699316e+08,  2.74265695e+08, -5.78756430e+08,\n",
      "        -8.23484706e+07,  1.27552235e+08,  9.83541186e+07,\n",
      "        -3.91493006e+08, -1.65967801e+08,  3.43250636e+08,\n",
      "         1.92873400e+08],\n",
      "       [-2.63972033e+08,  3.52105937e+08, -6.39593993e+08,\n",
      "        -1.64613402e+08,  1.06245980e+08,  1.29447831e+08,\n",
      "        -4.63494329e+08, -1.64085370e+08,  3.97332931e+08,\n",
      "         2.63083758e+08],\n",
      "       [-2.22725617e+08,  2.95577349e+08, -4.89122868e+08,\n",
      "        -3.91328979e+07,  1.22239644e+08,  6.11026795e+07,\n",
      "        -3.42589276e+08, -1.11973295e+08,  2.92702414e+08,\n",
      "         1.39961492e+08],\n",
      "       [-1.57045657e+08,  1.97352897e+08, -3.75792665e+08,\n",
      "        -4.78015714e+07,  8.89070093e+07,  5.56411275e+07,\n",
      "        -2.21422738e+08, -1.00075692e+08,  2.29707949e+08,\n",
      "         1.41989738e+08],\n",
      "       [-1.97765383e+08,  2.50637047e+08, -4.07763600e+08,\n",
      "        -3.98054865e+07,  1.19943315e+08,  5.35307047e+07,\n",
      "        -3.13270562e+08, -8.65746196e+07,  2.57788080e+08,\n",
      "         1.17921586e+08],\n",
      "       [-1.76284549e+08,  2.30643084e+08, -4.39973327e+08,\n",
      "        -9.11321187e+07,  1.09651664e+08,  7.27651360e+07,\n",
      "        -3.42817731e+08, -1.11830563e+08,  2.71032986e+08,\n",
      "         1.36405953e+08]]), array([1, 1, 0, 1, 1, 0, 1, 1, 1]))\n",
      "Training error: 0.5, validation error: 0.6, accuracy: 0.3\n",
      "Training error: 0.5, validation error: 0.6, accuracy: 0.3\n",
      "Training error: 0.5, validation error: 0.6, accuracy: 0.3\n",
      "Training error: 0.5, validation error: 0.6, accuracy: 0.3\n",
      "Training error: 0.5, validation error: 0.6, accuracy: 0.3\n",
      "Training error: 0.5, validation error: 0.6, accuracy: 0.3\n",
      "Training error: 0.5, validation error: 0.6, accuracy: 0.3\n",
      "Training error: 0.5, validation error: 0.6, accuracy: 0.3\n",
      "Training error: 0.5, validation error: 0.6, accuracy: 0.3\n",
      "Training error: 0.5, validation error: 0.6, accuracy: 0.3\n"
     ]
    },
    {
     "data": {
      "image/png": "[encoded data removed]",
      "text/plain": [
       "<Figure size 432x288 with 1 Axes>"
      ]
     },
     "metadata": {
      "needs_background": "light"
     },
     "output_type": "display_data"
    },
    {
     "name": "stdout",
     "output_type": "stream",
     "text": [
      "[ 5.13748854e+07  1.31720472e+07  1.09666105e+07  5.05977225e+06\n",
      "  4.67201550e+06  3.38150872e+06  2.89461627e+06  2.75973836e+06\n",
      "  2.16073590e+06  1.64192184e+06  1.48691412e+06  1.41797916e+06\n",
      "  1.36143449e+06  1.20431420e+06  1.10997722e+06  1.00777648e+06\n",
      "  9.63367124e+05  8.80241423e+05  8.46418304e+05  7.97733814e+05\n",
      "  7.55831827e+05  7.18708430e+05  7.07558784e+05  6.50850130e+05\n",
      "  6.19597681e+05  5.80856280e+05  5.50018774e+05  5.24190625e+05\n",
      "  4.95576346e+05  4.64368414e+05  4.48087248e+05  4.22332477e+05\n",
      "  4.03557407e+05  3.94927212e+05  3.80202268e+05  3.62898366e+05\n",
      "  3.52461831e+05  3.42034312e+05  3.34918055e+05  3.23272288e+05\n",
      "  3.11268309e+05  3.00230258e+05  2.95037060e+05  2.90617316e+05\n",
      "  2.72512344e+05  2.53577075e+05  2.51743483e+05  2.44417132e+05\n",
      "  2.38720882e+05  2.26626389e+05  2.16062826e+05  2.11458269e+05\n",
      "  2.07106228e+05  1.98118545e+05  1.96813744e+05  1.89849963e+05\n",
      "  1.85233719e+05  1.80303289e+05  1.77027076e+05  1.68992183e+05\n",
      "  1.64669448e+05  1.63011045e+05  1.56981917e+05  1.51415017e+05\n",
      "  1.45598860e+05  1.42091097e+05  1.40031420e+05  1.34042962e+05\n",
      "  1.31903082e+05  1.26330597e+05  1.21075896e+05  1.18371470e+05\n",
      "  1.12601775e+05  1.12124003e+05  1.08956075e+05  1.07494186e+05\n",
      "  1.04083677e+05  1.00436147e+05  9.74837753e+04  9.46595785e+04\n",
      "  9.04240714e+04  8.72372700e+04  8.42389742e+04  8.00325172e+04\n",
      "  7.54631251e+04  7.44420518e+04  6.68651927e+04  5.70487584e+04\n",
      "  5.24749462e+04 -4.84617665e-10]\n",
      "doing transform\n",
      "(array([[-2.11520574e+08,  2.96749716e+08, -5.42420215e+08,\n",
      "        -8.99296812e+07,  1.04941837e+08,  8.84126016e+07,\n",
      "        -3.20253532e+08, -1.39427650e+08,  3.29879016e+08,\n",
      "         2.12425529e+08],\n",
      "       [-1.19136073e+08,  1.53699612e+08, -3.03293266e+08,\n",
      "        -4.67494202e+07,  5.51356758e+07,  4.83019005e+07,\n",
      "        -1.57125892e+08, -9.29442759e+07,  1.82519066e+08,\n",
      "         1.25584689e+08],\n",
      "       [-1.85640487e+08,  2.36902957e+08, -4.76976384e+08,\n",
      "        -1.19184277e+08,  1.03861242e+08,  8.79557282e+07,\n",
      "        -3.32395643e+08, -1.18773221e+08,  2.95459613e+08,\n",
      "         1.78545744e+08],\n",
      "       [-2.21979724e+08,  2.90907435e+08, -5.50421488e+08,\n",
      "        -1.03691277e+08,  1.12652721e+08,  9.24312271e+07,\n",
      "        -3.40212796e+08, -1.38969474e+08,  3.34787786e+08,\n",
      "         2.14238325e+08],\n",
      "       [-1.95235919e+08,  2.96604937e+08, -5.72537192e+08,\n",
      "        -1.59596035e+08,  8.90609017e+07,  1.08450736e+08,\n",
      "        -4.18577600e+08, -9.53112482e+07,  3.14678922e+08,\n",
      "         2.20538484e+08],\n",
      "       [-1.36079243e+08,  1.83544882e+08, -3.63591875e+08,\n",
      "        -9.99757761e+07,  3.63708945e+07,  8.78347228e+07,\n",
      "        -2.04419917e+08, -9.77964799e+07,  2.23990519e+08,\n",
      "         1.69791758e+08],\n",
      "       [-2.14757514e+08,  2.52735495e+08, -5.13430275e+08,\n",
      "        -5.85884686e+07,  1.21069693e+08,  7.70518315e+07,\n",
      "        -2.71841737e+08, -1.49513466e+08,  3.16045793e+08,\n",
      "         1.89015130e+08],\n",
      "       [-2.51150621e+08,  3.02310518e+08, -6.42937594e+08,\n",
      "        -1.12480945e+08,  1.26677381e+08,  1.06091905e+08,\n",
      "        -3.62994897e+08, -1.75207261e+08,  3.80701430e+08,\n",
      "         2.46356457e+08],\n",
      "       [-2.16722735e+08,  2.68052293e+08, -4.90330371e+08,\n",
      "        -4.32324745e+07,  1.16598135e+08,  6.89229682e+07,\n",
      "        -3.04978837e+08, -1.40395677e+08,  3.07208949e+08,\n",
      "         1.74759521e+08]]), array([0, 0, 1, 1, 0, 0, 1, 1, 1]))\n",
      "Training error: 0.5, validation error: 0.6, accuracy: 0.3\n",
      "Training error: 0.5, validation error: 0.6, accuracy: 0.3\n",
      "Training error: 0.5, validation error: 0.6, accuracy: 0.3\n",
      "Training error: 0.5, validation error: 0.6, accuracy: 0.3\n",
      "Training error: 0.5, validation error: 0.6, accuracy: 0.3\n",
      "Training error: 0.5, validation error: 0.6, accuracy: 0.3\n",
      "Training error: 0.5, validation error: 0.6, accuracy: 0.3\n",
      "Training error: 0.5, validation error: 0.6, accuracy: 0.3\n",
      "Training error: 0.5, validation error: 0.6, accuracy: 0.3\n",
      "Training error: 0.5, validation error: 0.6, accuracy: 0.3\n"
     ]
    },
    {
     "data": {
      "image/png": "[encoded data removed]",
      "text/plain": [
       "<Figure size 432x288 with 1 Axes>"
      ]
     },
     "metadata": {
      "needs_background": "light"
     },
     "output_type": "display_data"
    }
   ],
   "source": [
    "import matplotlib.pyplot as plt\n",
    "\n",
    "EPOCHS = 10\n",
    "\n",
    "class EpochData:\n",
    "    def __init__(self):\n",
    "        self.acc = []\n",
    "        self.error = []\n",
    "    \n",
    "    def save(self, acc, error):\n",
    "        self.acc.append(acc)\n",
    "        self.error.append(error)\n",
    "        \n",
    "    \n",
    "    def score(self):\n",
    "        return self.error[-1]\n",
    "        \n",
    "        \n",
    "def transform(pca, data):\n",
    "    return (pca.transform(data[0]), data[1])\n",
    "\n",
    "def visualize_data(plots, legends, x_label, y_label):\n",
    "    x = np.arange(1, len(plots[0]) + 1)\n",
    "    for data in plots:\n",
    "        plt.plot(x, data)\n",
    "    plt.ylabel(y_label)\n",
    "    plt.xlabel(x_label)\n",
    "    plt.legend(legends)\n",
    "    plt.show()\n",
    "    \n",
    "def split_x_y(data):\n",
    "    return np.array([item[0] for item in data]), np.array([item[1] for item in data]) \n",
    "\n",
    "\n",
    "def train():\n",
    "    best_model = None\n",
    "    \n",
    "    folds = kfold(all_happy_angry)\n",
    "    k = len(folds)\n",
    "    for fold in range(k):\n",
    "        model = LogisticRegression(0.2, 1) # model\n",
    "        \n",
    "        # split data\n",
    "        val_data, test_data = split_x_y(folds[fold]), split_x_y(folds[(fold + 1) % k])\n",
    "        train_data = None\n",
    "        for i in range(k):\n",
    "            if i is not fold or i is not ((fold + 1) % k):\n",
    "                if train_data is None:\n",
    "                    train_data = folds[i]\n",
    "                else:\n",
    "                    train_data = np.concatenate((train_data, folds[i]))\n",
    "        train_data = split_x_y(train_data)\n",
    "        \n",
    "        pca = PCA(train_data[0])\n",
    "        print(\"doing transform\")\n",
    "        # PCA\n",
    "        train_data, train_data, train_data = transform(pca, train_data), transform(pca, test_data), transform(pca, val_data)\n",
    "        print(train_data)\n",
    "        \n",
    "        \n",
    "        validation_performance = EpochData()\n",
    "        training_performance = EpochData()    \n",
    "        \n",
    "        for epoch in range(EPOCHS):\n",
    "            model.batch_gradient_descent()\n",
    "            \n",
    "            training_error = 0.5 # model.loss()\n",
    "            validation_error = 0.6 #model.loss()\n",
    "            \n",
    "            traning_acc = 0.3 #model.make_prediction()\n",
    "            validation_acc = 0.4 #model.make_prediction()\n",
    "            \n",
    "            print(\"Training error: {}, validation error: {}, accuracy: {}\".format(training_error, validation_error, traning_acc))\n",
    "        \n",
    "            # save\n",
    "            validation_performance.save(validation_error, validation_acc)\n",
    "            training_performance.save(training_error, traning_acc)\n",
    "        \n",
    "        \n",
    "        # plot the graphs\n",
    "        data_to_plot = [training_performance.error, validation_performance.error]\n",
    "        legends = [\"Training error\", \"Validation error\"]\n",
    "        visualize_data(data_to_plot,legends, \"something\", \"something\")\n",
    "        \n",
    "        # save the best model\n",
    "        \n",
    "        # save the validation data to the model\n",
    "        model.epoch_data = validation_performance \n",
    "        \n",
    "        if best_model is None:\n",
    "            best_model = model\n",
    "        elif best_model.epoch_data.score() > model.epoch_data.score():\n",
    "            best_model = model\n",
    "        \n",
    "            \n",
    "\n",
    "def test():\n",
    "    pass\n",
    "\n",
    "train()\n",
    "#training_procedure()\n"
   ]
  },
  {
   "cell_type": "code",
   "execution_count": null,
   "metadata": {},
   "outputs": [],
   "source": []
  },
  {
   "cell_type": "code",
   "execution_count": null,
   "metadata": {},
   "outputs": [],
   "source": []
  }
 ],
 "metadata": {
  "kernelspec": {
   "display_name": "Python 3",
   "language": "python",
   "name": "python3"
  },
  "language_info": {
   "codemirror_mode": {
    "name": "ipython",
    "version": 3
   },
   "file_extension": ".py",
   "mimetype": "text/x-python",
   "name": "python",
   "nbconvert_exporter": "python",
   "pygments_lexer": "ipython3",
   "version": "3.7.4"
  }
 },
 "nbformat": 4,
 "nbformat_minor": 2
}
