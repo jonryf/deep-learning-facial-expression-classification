{
 "cells": [
  {
   "cell_type": "code",
   "execution_count": 1,
   "metadata": {},
   "outputs": [],
   "source": [
    "from os import listdir\n",
    "import os, random, copy\n",
    "from PIL import Image\n",
    "import numpy as np\n",
    "from collections import defaultdict\n",
    "import math"
   ]
  },
  {
   "cell_type": "code",
   "execution_count": 2,
   "metadata": {},
   "outputs": [],
   "source": [
    "#define sigmoid and its derivative for activation & backprop\n",
    "def sigmoid(x):\n",
    "    return 1 / (1 + np.exp(-x))\n",
    "\n",
    "def derivSigmoid(x):\n",
    "    return sigmoid(x) * (1 - sigmoid(x))"
   ]
  },
  {
   "cell_type": "markdown",
   "metadata": {},
   "source": [
    "## Question 1 - Import Data"
   ]
  },
  {
   "cell_type": "code",
   "execution_count": 3,
   "metadata": {
    "scrolled": true
   },
   "outputs": [],
   "source": [
    "################################################################################\n",
    "# CSE 253: Programming Assignment 1\n",
    "# Code snippet by Michael\n",
    "# Winter 2020\n",
    "################################################################################\n",
    "# We've provided you with the dataset in PA1.zip\n",
    "################################################################################\n",
    "# To install PIL, refer to the instructions for your system:\n",
    "# https://pillow.readthedocs.io/en/5.2.x/installation.html\n",
    "################################################################################\n",
    "# If you don't have NumPy installed, please use the instructions here:\n",
    "# https://scipy.org/install.html\n",
    "################################################################################\n",
    "\n",
    "\n",
    "''' \n",
    "list of face expressions (contempt, neutral are excluded) are:\n",
    "1. anger\n",
    "2. disgust\n",
    "3. fear\n",
    "4. happiness\n",
    "5. sadness\n",
    "6. surprise\n",
    "'''\n",
    "\n",
    "def load_data(data_dir=\"./aligned/\"):\n",
    "\t\"\"\" Load all PNG images stored in your data directory into a list of NumPy\n",
    "\tarrays.\n",
    "\n",
    "\tArgs:\n",
    "\t\tdata_dir: The relative directory path to the CK+ image directory.\n",
    "\tReturns:\n",
    "\t\timages: A dictionary with keys as emotions and a list containing images associated with each key.\n",
    "\t\tcnt: A dictionary that stores the # of images in each emotion\n",
    "\t\"\"\"\n",
    "\timages = defaultdict(list)\n",
    "\n",
    "\t# Get the list of emotional directory:\n",
    "\tfor e in listdir(data_dir):\n",
    "\t\t# excluding any non-directory files\n",
    "\t\tif not os.path.isdir(os.path.join(data_dir, e)):\n",
    "\t\t\tcontinue\n",
    "\t\t# Get the list of image file names\n",
    "\t\tall_files = listdir(os.path.join(data_dir, e))\n",
    "\n",
    "\t\tfor file in all_files:\n",
    "\t\t\t# Load only image files as PIL images and convert to NumPy arrays\n",
    "\t\t\tif '.png' in file:\n",
    "\t\t\t\timg = Image.open(os.path.join(data_dir, e, file))\n",
    "\t\t\t\timages[e].append(np.array(img))\n",
    "\n",
    "\tprint(\"Emotions: {} \\n\".format(list(images.keys())))\n",
    "\n",
    "\tcnt = defaultdict(int)\n",
    "\tfor e in images.keys():\n",
    "\t\tprint(\"{}: {} # of images\".format(e, len(images[e])))\n",
    "\t\tcnt[e] = len(images[e])\n",
    "\treturn images, cnt\n",
    "\n",
    "def balanced_sampler(dataset, cnt, emotions):\n",
    "\t# this ensures everyone has the same balanced subset for model training, don't change this seed value\n",
    "\trandom.seed(20)\n",
    "\tprint(\"\\nBalanced Set:\")\n",
    "\tmin_cnt = min([cnt[e] for e in emotions])\n",
    "\tbalanced_subset = defaultdict(list)\n",
    "\tfor e in emotions:\n",
    "\t\tbalanced_subset[e] = copy.deepcopy(dataset[e])\n",
    "\t\trandom.shuffle(balanced_subset[e])\n",
    "\t\tbalanced_subset[e] = balanced_subset[e][:min_cnt]\n",
    "\t\tprint('{}: {} # of images'.format(e, len(balanced_subset[e])))\n",
    "\treturn balanced_subset\n",
    "\n",
    "def display_face(img):\n",
    "\t\"\"\" Display the input image and optionally save as a PNG.\n",
    "\n",
    "\tArgs:\n",
    "\t\timg: The NumPy array or image to display\n",
    "\n",
    "\tReturns: None\n",
    "\t\"\"\"\n",
    "\t# Convert img to PIL Image object (if it's an ndarray)\n",
    "\tif type(img) == np.ndarray:\n",
    "\t\tprint(\"Converting from array to PIL Image\")\n",
    "\t\timg = Image.fromarray(img)\n",
    "\n",
    "\t# Display the image\n",
    "\timg.show()\n",
    "\n"
   ]
  },
  {
   "cell_type": "code",
   "execution_count": 4,
   "metadata": {},
   "outputs": [],
   "source": [
    "K = 10 # number of sections after folding\n",
    "M = 50 # maximum number of epochs\n"
   ]
  },
  {
   "cell_type": "markdown",
   "metadata": {},
   "source": [
    "## Training Procedure"
   ]
  },
  {
   "cell_type": "code",
   "execution_count": 5,
   "metadata": {},
   "outputs": [],
   "source": [
    "# settings\n",
    "\n",
    "CATEGORIES = ['happiness', 'anger']\n",
    "EPOCHS = 50\n",
    "K = 10 # prinsipal components\n",
    "LOGISTIC = True\n",
    "LEARNING_RATE = 0.01\n"
   ]
  },
  {
   "cell_type": "code",
   "execution_count": 6,
   "metadata": {},
   "outputs": [
    {
     "name": "stdout",
     "output_type": "stream",
     "text": [
      "Emotions: ['fear', 'surprise', 'sadness', 'happiness', 'anger', 'disgust'] \n",
      "\n",
      "fear: 25 # of images\n",
      "surprise: 83 # of images\n",
      "sadness: 28 # of images\n",
      "happiness: 69 # of images\n",
      "anger: 45 # of images\n",
      "disgust: 59 # of images\n",
      "\n",
      "Balanced Set:\n",
      "happiness: 45 # of images\n",
      "anger: 45 # of images\n"
     ]
    }
   ],
   "source": [
    "# get the data\n",
    "\n",
    "data_dir = \"./aligned/\"\n",
    "dataset, cnt = load_data(data_dir)\n",
    "# test with happiness and anger\n",
    "images = balanced_sampler(dataset, cnt, emotions=CATEGORIES)\n",
    "display_index = 0"
   ]
  },
  {
   "cell_type": "code",
   "execution_count": 7,
   "metadata": {},
   "outputs": [],
   "source": [
    "#list happiness as a 1, anger as a 0\n",
    "#emotions_mapping = [\"fear\", \"surprise\", \"sadness\", \"happiness\", \"anger\", \"disgust\"]\n",
    "X = []\n",
    "y = []\n",
    "for i, category in enumerate(CATEGORIES):\n",
    "    X += images[category]\n",
    "    y += [i] * len(images[category])\n",
    "    \n",
    "#get my feature - label pairs zipped together\n",
    "all_data = list(zip(X,y))\n",
    "\n",
    "#randomize the dataset so I can fold properly\n",
    "\n",
    "random.shuffle(all_data)\n",
    "\n",
    "def kfold(data, k=10):\n",
    "    folds = []\n",
    "    size = int((1/k) * len(data))\n",
    "    for i in range(0,k):\n",
    "        folds.append(data[i*size : (i+1)*size])\n",
    "    return folds\n"
   ]
  },
  {
   "cell_type": "code",
   "execution_count": 8,
   "metadata": {},
   "outputs": [
    {
     "name": "stdout",
     "output_type": "stream",
     "text": [
      "True\n",
      "10\n"
     ]
    }
   ],
   "source": [
    "folds = kfold(all_data)\n",
    "print(len(folds[0]) == len(folds[1]))\n",
    "print(len(folds))"
   ]
  },
  {
   "cell_type": "markdown",
   "metadata": {},
   "source": [
    "## Task 5 - Logistic Regression"
   ]
  },
  {
   "cell_type": "code",
   "execution_count": 9,
   "metadata": {},
   "outputs": [],
   "source": [
    "class LogisticRegression:\n",
    "    \n",
    "    def __init__(self, lr, dim):\n",
    "        self.lr = lr\n",
    "        self.w = np.zeros(dim) \n",
    "    \n",
    "    def stochastic_gradient_descent(self, X, labels):\n",
    "        indices = [i for i in range(len(labels))]\n",
    "        np.random.shuffle(indices)\n",
    "        for i in indices:\n",
    "            \n",
    "            # make predition\n",
    "            data = X[i]\n",
    "            label = labels[i]\n",
    "            predicted = sigmoid(data.dot(self.w))\n",
    "            error = label - predicted\n",
    "            \n",
    "            # update weights\n",
    "            for i in range(len(self.w)):\n",
    "                grad = error * data[i]\n",
    "                self.w[i] += self.lr * grad\n",
    "            \n",
    "    def probabilities(self, X):\n",
    "        return sigmoid(X.dot(self.w)).reshape(-1)\n",
    "    \n",
    "\n",
    "    def logistic_accuracy(self, prob_vec, labels): \n",
    "        correct = np.round(prob_vec) == labels\n",
    "        correct = np.sum(correct)\n",
    "        accuracy = correct / len(labels)\n",
    "        return accuracy\n",
    "\n",
    "    \n",
    "    def batch_gradient_descent(self, X, labels):\n",
    "        predicted = self.probabilities(X)\n",
    "        error = labels - predicted\n",
    "        grad = X.T.dot(error)\n",
    "        self.w += self.lr * grad\n",
    "        \n",
    "\n",
    "    def loss(self, labels, predicted):\n",
    "        #cost = np.log(predicted+ 0.0001) * labels + (1 - labels) * np.log(1 - predicted)\n",
    "        #return - cost.sum() / len(labels)\n",
    "        #print(cost)\n",
    "        \n",
    "        Yis1 = labels == 1\n",
    "        cost = -(np.log(predicted[Yis1]).sum() + np.log(1 - predicted[~Yis1]).sum())/len(labels)\n",
    "        return cost"
   ]
  },
  {
   "cell_type": "code",
   "execution_count": 10,
   "metadata": {},
   "outputs": [],
   "source": [
    "lr = LogisticRegression(0.1, 3)"
   ]
  },
  {
   "cell_type": "code",
   "execution_count": 11,
   "metadata": {},
   "outputs": [
    {
     "data": {
      "text/plain": [
       "-0.0"
      ]
     },
     "execution_count": 11,
     "metadata": {},
     "output_type": "execute_result"
    }
   ],
   "source": [
    "lr.loss(np.array([1,1]), np.array([1,1]))"
   ]
  },
  {
   "cell_type": "code",
   "execution_count": 12,
   "metadata": {},
   "outputs": [
    {
     "data": {
      "text/plain": [
       "0.11157177565710485"
      ]
     },
     "execution_count": 12,
     "metadata": {},
     "output_type": "execute_result"
    }
   ],
   "source": [
    "lr.loss(np.array([1,1]), np.array([0.8,1]))"
   ]
  },
  {
   "cell_type": "code",
   "execution_count": 13,
   "metadata": {},
   "outputs": [],
   "source": [
    "test_data = np.array([[0.9,0.22,0.44], [0.0,0.22,0.44]])\n",
    "\n",
    "for i in range(50):\n",
    "    lr.stochastic_gradient_descent(test_data, np.array([0, 1]))"
   ]
  },
  {
   "cell_type": "code",
   "execution_count": 14,
   "metadata": {},
   "outputs": [
    {
     "data": {
      "text/plain": [
       "array([-1.52212956,  0.16123376,  0.32246752])"
      ]
     },
     "execution_count": 14,
     "metadata": {},
     "output_type": "execute_result"
    }
   ],
   "source": [
    "lr.w"
   ]
  },
  {
   "cell_type": "code",
   "execution_count": 15,
   "metadata": {},
   "outputs": [
    {
     "data": {
      "text/plain": [
       "array([0.23280149, 0.54422342])"
      ]
     },
     "execution_count": 15,
     "metadata": {},
     "output_type": "execute_result"
    }
   ],
   "source": [
    "lr.probabilities(test_data)"
   ]
  },
  {
   "cell_type": "code",
   "execution_count": 16,
   "metadata": {},
   "outputs": [
    {
     "data": {
      "text/plain": [
       "0.4367025550497474"
      ]
     },
     "execution_count": 16,
     "metadata": {},
     "output_type": "execute_result"
    }
   ],
   "source": [
    "lr.loss(np.array([0, 1]), lr.probabilities(test_data))"
   ]
  },
  {
   "cell_type": "code",
   "execution_count": 17,
   "metadata": {},
   "outputs": [
    {
     "data": {
      "text/plain": [
       "[0, 0, 0, 0, 1, 0]"
      ]
     },
     "execution_count": 17,
     "metadata": {},
     "output_type": "execute_result"
    }
   ],
   "source": [
    "5 \n",
    "\n",
    "[0, 0, 0, 0, 1, 0]"
   ]
  },
  {
   "cell_type": "markdown",
   "metadata": {},
   "source": [
    "## Softmax"
   ]
  },
  {
   "cell_type": "code",
   "execution_count": 18,
   "metadata": {},
   "outputs": [],
   "source": [
    "emotions_mapping = [\"fear\", \"surprise\", \"sadness\", \"happiness\", \"anger\", \"disgust\"]\n",
    "\n",
    "\n",
    "class SoftmaxRegression:\n",
    "    \n",
    "    def __init__(self, lr, dim, c):\n",
    "        self.lr = lr\n",
    "        self.c = c\n",
    "        self.w = np.zeros((dim, c)) \n",
    "    \n",
    "    def stochastic_gradient_descent(self, X, labels):\n",
    "        indices = [i for i in range(len(labels))]\n",
    "        np.random.shuffle(indices)\n",
    "        for i in indices:\n",
    "            \n",
    "            # make predition\n",
    "            data = X[i]\n",
    "            label = labels[i]\n",
    "            predicted = self.probabilities(data)\n",
    "            error = label - predicted\n",
    "            \n",
    "            # update weights\n",
    "            for i in range(len(self.w)):\n",
    "                grad = error * data[i]\n",
    "                self.w[i] += self.lr * grad\n",
    "            \n",
    "    def probabilities(self, X):\n",
    "        return np.exp(X.dot(self.w)) / np.sum(np.exp(X.dot(self.w)), axis=1).reshape(len(X),1)\n",
    "\n",
    "    \n",
    "    def batch_gradient_descent(self, X, labels):\n",
    "        predicted = self.probabilities(X)\n",
    "        error = labels - predicted\n",
    "        grad = X.T.dot(error)\n",
    "        #grad = np.sum(grad, axis=1).reshape(grad.shape[0], 1)\n",
    "        self.w += self.lr * grad\n",
    "        \n",
    "\n",
    "    def accuracy(self, prob_vec, labels): #prob_vec row is probabilities of a single instance\n",
    "        numer = 0\n",
    "        denom = len(labels)\n",
    "        for i in range(len(labels)):\n",
    "            y = list(prob_vec[i]).index(max(prob_vec[i]))\n",
    "            t = list(labels[i]).index(max(labels[i]))\n",
    "            if y == t:\n",
    "                numer += 1\n",
    "        accuracy = numer / denom\n",
    "        return accuracy\n",
    "    \n",
    "    def visualize_weights(self, pca):\n",
    "        visualized = pca.components.dot(self.w).reshape((-1, self.c))\n",
    "    \n",
    "        print(pca.components.shape)\n",
    "        print(self.w.shape)\n",
    "        print(visualized[0].shape)\n",
    "        imgs = [Image.fromarray(img) for img in pca.inverse_transform(visualized)]\n",
    "        [img.show() for img in imgs]\n",
    "        return visualized\n",
    "    \n",
    "    def loss(self, labels, predicted):\n",
    "        #return -np.sum(np.sum(labels.T.dot(np.log(predicted)))) # can't have zero values \n",
    "        sum_of_score = 0\n",
    "        for n in range(predicted.shape[0]):\n",
    "            for cat in range(self.c):\n",
    "                sum_of_score += labels[n, cat] * np.log(predicted[n, cat])\n",
    "\n",
    "        return - sum_of_score / predicted.shape[0]\n"
   ]
  },
  {
   "cell_type": "code",
   "execution_count": 19,
   "metadata": {},
   "outputs": [],
   "source": [
    "softmax = SoftmaxRegression(0.02, 4, 2)\n",
    "\n",
    "test_data = np.array([[0.3,0.22,0.44, 0.44], [0.0,0.12,0.2, 0.2], [0.1,0.4,0.4, 0.6]])\n",
    "\n",
    "\n",
    "\n",
    "#softmax.loss(np.array([[1, 0],[1,0]]), softmax.probabilities(test_data))"
   ]
  },
  {
   "cell_type": "code",
   "execution_count": 20,
   "metadata": {},
   "outputs": [
    {
     "data": {
      "text/plain": [
       "0.023797988698184492"
      ]
     },
     "execution_count": 20,
     "metadata": {},
     "output_type": "execute_result"
    }
   ],
   "source": [
    "softmax.loss(np.array([[1, 0],[1, 0], [1,0]]), np.array([[0.99,0.01], [0.99,0.01], [0.95,0.05]]))"
   ]
  },
  {
   "cell_type": "code",
   "execution_count": 21,
   "metadata": {},
   "outputs": [],
   "source": [
    "for i in range(50):\n",
    "    softmax.batch_gradient_descent(test_data, np.array([[1, 0], [1, 0],[0,0]]))"
   ]
  },
  {
   "cell_type": "code",
   "execution_count": 22,
   "metadata": {},
   "outputs": [
    {
     "data": {
      "text/plain": [
       "array([[ 0.07005754, -0.17005754],\n",
       "       [-0.08168231, -0.31831769],\n",
       "       [ 0.04982869, -0.44982869],\n",
       "       [-0.06616874, -0.53383126]])"
      ]
     },
     "execution_count": 22,
     "metadata": {},
     "output_type": "execute_result"
    }
   ],
   "source": [
    "softmax.w"
   ]
  },
  {
   "cell_type": "code",
   "execution_count": 23,
   "metadata": {},
   "outputs": [
    {
     "data": {
      "text/plain": [
       "array([[0.63406948, 0.36593052],\n",
       "       [0.55523866, 0.44476134],\n",
       "       [0.64545635, 0.35454365]])"
      ]
     },
     "execution_count": 23,
     "metadata": {},
     "output_type": "execute_result"
    }
   ],
   "source": [
    "softmax.probabilities(test_data)"
   ]
  },
  {
   "cell_type": "code",
   "execution_count": 24,
   "metadata": {},
   "outputs": [],
   "source": [
    "class PCA:\n",
    "    def __init__(self, square_data, k=10): # k defaults to 10\n",
    "        self.square_data = square_data\n",
    "        M, rows, columns = self.square_data.shape\n",
    "        self.k = k\n",
    "        self.num_examples = M\n",
    "        self.image_vec = np.reshape(square_data, (M, rows*columns))\n",
    "        self.mean_face = np.mean(self.image_vec, axis=0)\n",
    "        self.std_face = np.std(self.image_vec, axis=0)\n",
    "        self.components, self.singular_values = self.get_components()\n",
    "    \n",
    "    def get_components(self):\n",
    "        Phi = (self.image_vec - self.mean_face) / self.std_face \n",
    "        A = Phi\n",
    "        C = np.matmul(A, A.T)\n",
    "        C = np.divide(C, self.num_examples - 1)\n",
    "        evals, Vi = np.linalg.eigh(C)\n",
    "        z = list(zip(evals,Vi))\n",
    "        z.sort(reverse=True)        \n",
    "        \n",
    "        idx = np.argsort(evals)[::-1]\n",
    "        evecs = Vi[:, idx]\n",
    "        evecs = evecs[:, :self.k]\n",
    "        pc = evecs\n",
    "        \n",
    "        #final components (num pixels by k matrix)\n",
    "        components = np.matmul(A.T, pc)\n",
    "        components = components / np.linalg.norm(components, axis=0)\n",
    "        #get singluar values\n",
    "        sorted_evals = np.array([x[0] for x in z])\n",
    "        postive_evals = sorted_evals[:self.k]\n",
    "        singular_values = np.sqrt(postive_evals.reshape(1, -1))\n",
    "        assert np.allclose(np.linalg.norm(components, axis=0), 1)\n",
    "\n",
    "        return components, singular_values\n",
    "        \n",
    "    def transform(self, images):\n",
    "        return np.array([self.transform_single(i) for i in images])\n",
    "        \n",
    "    def transform_single(self, image): #take an image, and pc's, and output compressed image\n",
    "        image =  image.reshape(1, -1) \n",
    "        image = (image - self.mean_face) / self.std_face\n",
    "        compressed_image_vectors = np.matmul(image, self.components) / self.singular_values\n",
    "        return compressed_image_vectors.reshape(-1,)\n",
    "    \n",
    "    def inverse_transform(self, images):\n",
    "        return np.array([self.inverse_transform_single(i) for i in images])\n",
    "    \n",
    "    def inverse_transform_single(self, image):\n",
    "        image = (image * self.singular_values).dot(self.components.T) \n",
    "        image = image * self.std_face\n",
    "        image = image + self.mean_face\n",
    "        image = image.reshape(224, 192)\n",
    "        return image\n",
    "    \n",
    "        #image = np.divide(image * self.singular_values, self.components)\n",
    "        #image = (self.std_face * image)\n",
    "        #image = image + self.mean_face\n",
    "        #image = image.reshape(224, 192)\n",
    "        #return image\n",
    "        \n",
    "    \n",
    "    '''\n",
    "    def transform(self, images): #take an image, and pc's, and output compressed image\n",
    "        M, rows, columns = images.shape\n",
    "        flat_images = (np.reshape(images, (M, rows*columns)) - self.mean_face) / self.std_face\n",
    "        print(\"Shape flat images\")\n",
    "        print(flat_images.shape)\n",
    "        compressed_image_vectors = np.matmul(flat_images, self.components) / self.singular_values\n",
    "        return compressed_image_vectors\n",
    "    '''"
   ]
  },
  {
   "cell_type": "code",
   "execution_count": 25,
   "metadata": {},
   "outputs": [
    {
     "name": "stdout",
     "output_type": "stream",
     "text": [
      "[[nan nan nan ... nan nan nan]\n",
      " [nan nan nan ... nan nan nan]\n",
      " [nan nan nan ... nan nan nan]\n",
      " ...\n",
      " [nan nan nan ... nan nan nan]\n",
      " [nan nan nan ... nan nan nan]\n",
      " [nan nan nan ... nan nan nan]]\n",
      "vs\n",
      "[[ 88  87  88 ... 102 102 103]\n",
      " [ 89  87  87 ... 101 101 102]\n",
      " [ 88  88  88 ... 102 102 104]\n",
      " ...\n",
      " [ 67  66  68 ...  76  76  75]\n",
      " [ 66  65  66 ...  74  75  75]\n",
      " [ 65  63  64 ...  76  76  75]]\n",
      "[[False False False ... False False False]\n",
      " [False False False ... False False False]\n",
      " [False False False ... False False False]\n",
      " ...\n",
      " [False False False ... False False False]\n",
      " [False False False ... False False False]\n",
      " [False False False ... False False False]]\n"
     ]
    },
    {
     "name": "stderr",
     "output_type": "stream",
     "text": [
      "/usr/local/Cellar/ipython/7.8.0/libexec/vendor/lib/python3.7/site-packages/ipykernel_launcher.py:32: RuntimeWarning: invalid value encountered in sqrt\n"
     ]
    }
   ],
   "source": [
    "    \n",
    "def split_x_y(data):\n",
    "    return np.array([item[0] for item in data]), np.array([item[1] for item in data]) \n",
    "\n",
    "\n",
    "\n",
    "data = split_x_y(all_data)[0]\n",
    "pca = PCA(data[0:10], 10)\n",
    "transformed = pca.transform_single(data[11])\n",
    "inverse_transformed = pca.inverse_transform_single(transformed)\n",
    "print(inverse_transformed)\n",
    "print(\"vs\")\n",
    "print(data[11])\n",
    "print(inverse_transformed == data[11])\n",
    "\n",
    "\n",
    "img = Image.fromarray(inverse_transformed)\n",
    "img.show()"
   ]
  },
  {
   "cell_type": "code",
   "execution_count": 29,
   "metadata": {
    "scrolled": false
   },
   "outputs": [
    {
     "name": "stdout",
     "output_type": "stream",
     "text": [
      "Fold: 0\n",
      "Training index: 2\n",
      "Training index: 3\n",
      "Training index: 4\n",
      "Training index: 5\n",
      "Training index: 6\n",
      "Training index: 7\n",
      "Training index: 8\n",
      "Training index: 9\n",
      "(9, 224, 192)\n",
      "(9, 224, 192)\n",
      "(72, 224, 192)\n",
      "[[50 50 51 ... 61 60 60]\n",
      " [50 49 50 ... 61 62 63]\n",
      " [51 51 51 ... 63 64 66]\n",
      " ...\n",
      " [40 40 40 ... 48 48 49]\n",
      " [41 41 40 ... 46 46 45]\n",
      " [40 39 38 ... 49 49 48]]\n",
      "PCA transformed\n",
      "[ 0.49845016  0.94623586 -0.05710495  0.25494645 -1.41748828  0.11601997\n",
      " -0.59675826  0.83598796  0.01925483 -0.31428448]\n",
      "Training error: 0.5534602149120487, validation error: 0.5687107317200708, accuracy: 0\n",
      "Training error: 0.45787899093042067, validation error: 0.4820949545890033, accuracy: 0\n",
      "Training error: 0.3904503703145558, validation error: 0.42010043689395293, accuracy: 0\n",
      "Training error: 0.3410727894439659, validation error: 0.37420533207628165, accuracy: 0\n",
      "Training error: 0.30361236891112825, validation error: 0.3391180019727751, accuracy: 0\n",
      "Training error: 0.27430437616565606, validation error: 0.31152454755837633, accuracy: 0\n",
      "Training error: 0.2507692906786814, validation error: 0.2892946470767401, accuracy: 0\n",
      "Training error: 0.231451366920594, validation error: 0.27101591676857334, accuracy: 0\n",
      "Training error: 0.215299427094804, validation error: 0.2557230361862803, accuracy: 0\n",
      "Training error: 0.2015814742742302, validation error: 0.2427374108270486, accuracy: 0\n",
      "Training error: 0.18977382487411326, validation error: 0.2315697516710094, accuracy: 0\n",
      "Training error: 0.179492734899424, validation error: 0.2218591864637888, accuracy: 0\n",
      "Training error: 0.1704509639565118, validation error: 0.21333413688014208, accuracy: 0\n",
      "Training error: 0.16242941003614428, validation error: 0.20578651979083615, accuracy: 0\n",
      "Training error: 0.15525811236070172, validation error: 0.1990543228841099, accuracy: 0\n",
      "Training error: 0.14880323274634955, validation error: 0.19300957613401748, accuracy: 0\n",
      "Training error: 0.14295794605767098, validation error: 0.18754988110149262, accuracy: 0\n",
      "Training error: 0.1376359441578487, validation error: 0.18259233652329948, accuracy: 0\n",
      "Training error: 0.13276672310020662, validation error: 0.17806910965922984, accuracy: 0\n",
      "Training error: 0.1282921099457185, validation error: 0.1739241583574732, accuracy: 0\n",
      "Training error: 0.12416366614883219, validation error: 0.17011077104306357, accuracy: 0\n",
      "Training error: 0.12034072057601847, validation error: 0.1665896969384193, accuracy: 0\n",
      "Training error: 0.11678886135329027, validation error: 0.1633277081847918, accuracy: 0\n",
      "Training error: 0.11347876654949962, validation error: 0.16029648209866046, accuracy: 0\n",
      "Training error: 0.11038528817779908, validation error: 0.15747172356215566, accuracy: 0\n",
      "Training error: 0.10748672775088258, validation error: 0.15483246953951588, accuracy: 0\n",
      "Training error: 0.10476425822596634, validation error: 0.15236053315045328, accuracy: 0\n",
      "Training error: 0.10220145893172251, validation error: 0.15004005570972792, accuracy: 0\n",
      "Training error: 0.09978393849864323, validation error: 0.14785714304328845, accuracy: 0\n",
      "Training error: 0.0974990269283491, validation error: 0.14579956814193626, accuracy: 0\n",
      "Training error: 0.09533552242029827, validation error: 0.1438565264432241, accuracy: 0\n",
      "Training error: 0.09328348189484585, validation error: 0.14201843317432383, accuracy: 0\n",
      "Training error: 0.09133404663462746, validation error: 0.14027675454440422, accuracy: 0\n",
      "Training error: 0.0894792963397377, validation error: 0.13862386635689442, accuracy: 0\n",
      "Training error: 0.08771212631776917, validation error: 0.137052934970891, accuracy: 0\n",
      "Training error: 0.08602614362324551, validation error: 0.13555781658538812, accuracy: 0\n",
      "Training error: 0.08441557880604833, validation error: 0.13413297162869167, accuracy: 0\n",
      "Training error: 0.08287521058621929, validation error: 0.13277339166591104, accuracy: 0\n",
      "Training error: 0.08140030128799985, validation error: 0.13147453673232226, accuracy: 0\n",
      "Training error: 0.07998654127254297, validation error: 0.1302322813912919, accuracy: 0\n",
      "Training error: 0.07863000093137362, validation error: 0.1290428681260538, accuracy: 0\n",
      "Training error: 0.07732708906020422, validation error: 0.1279028669228415, accuracy: 0\n",
      "Training error: 0.0760745166394154, validation error: 0.12680914010231567, accuracy: 0\n",
      "Training error: 0.0748692652142986, validation error: 0.12575881161730498, accuracy: 0\n",
      "Training error: 0.0737085592034178, validation error: 0.12474924016561813, accuracy: 0\n",
      "Training error: 0.07258984157367333, validation error: 0.1237779955733188, accuracy: 0\n",
      "Training error: 0.07151075241088632, validation error: 0.12284283799120131, accuracy: 0\n",
      "Training error: 0.07046910998892855, validation error: 0.12194169951908648, accuracy: 0\n",
      "Training error: 0.0694628940016975, validation error: 0.12107266793194427, accuracy: 0\n",
      "Training error: 0.06849023067304533, validation error: 0.12023397223111701, accuracy: 0\n"
     ]
    },
    {
     "data": {
      "image/png": "[encoded data removed]",
      "text/plain": [
       "<Figure size 432x288 with 1 Axes>"
      ]
     },
     "metadata": {
      "needs_background": "light"
     },
     "output_type": "display_data"
    },
    {
     "name": "stdout",
     "output_type": "stream",
     "text": [
      "Fold: 1\n",
      "Training index: 0\n",
      "Training index: 3\n",
      "Training index: 4\n",
      "Training index: 5\n",
      "Training index: 6\n",
      "Training index: 7\n",
      "Training index: 8\n",
      "Training index: 9\n",
      "(9, 224, 192)\n",
      "(9, 224, 192)\n",
      "(72, 224, 192)\n",
      "[[44 45 46 ... 51 52 51]\n",
      " [43 45 44 ... 50 52 50]\n",
      " [44 45 44 ... 51 51 50]\n",
      " ...\n",
      " [28 29 29 ...  0  0  0]\n",
      " [27 27 27 ...  0  0  0]\n",
      " [28 28 28 ...  0  0  0]]\n",
      "PCA transformed\n",
      "[ 1.06212878  1.03976789  0.04187236 -0.77251337  0.33217023 -0.71647706\n",
      "  0.21329043 -0.31444142 -0.16340727  0.87774794]\n",
      "Training error: 0.5546255971615452, validation error: 0.5524232304675053, accuracy: 0\n",
      "Training error: 0.459878043599027, validation error: 0.4555165560296028, accuracy: 0\n",
      "Training error: 0.39311822930162427, validation error: 0.3868366443460201, accuracy: 0\n",
      "Training error: 0.3443207340189096, validation error: 0.3364223304850909, accuracy: 0\n",
      "Training error: 0.3073795666987582, validation error: 0.29815788479749045, accuracy: 0\n",
      "Training error: 0.2785409378905908, validation error: 0.2682535873323687, accuracy: 0\n",
      "Training error: 0.2554311336531412, validation error: 0.24429543449422061, accuracy: 0\n",
      "Training error: 0.23649869441556579, validation error: 0.22469510158159148, accuracy: 0\n",
      "Training error: 0.22069618839677022, validation error: 0.20837372725389025, accuracy: 0\n",
      "Training error: 0.207295050794841, validation error: 0.1945766858117646, accuracy: 0\n",
      "Training error: 0.19577475191946161, validation error: 0.18276205916752897, accuracy: 0\n",
      "Training error: 0.18575442487748225, validation error: 0.1725314683088104, accuracy: 0\n",
      "Training error: 0.17694943405254743, validation error: 0.16358592018927043, accuracy: 0\n",
      "Training error: 0.16914302236761947, validation error: 0.1556968510266875, accuracy: 0\n",
      "Training error: 0.162167332301886, validation error: 0.1486866579746152, accuracy: 0\n",
      "Training error: 0.15589040816493588, validation error: 0.14241531006073285, accuracy: 0\n",
      "Training error: 0.1502071080585457, validation error: 0.1367709483918192, accuracy: 0\n",
      "Training error: 0.14503262862622238, validation error: 0.13166316233991074, accuracy: 0\n",
      "Training error: 0.14029781164424543, validation error: 0.12701809731555275, accuracy: 0\n",
      "Training error: 0.1359456885350458, validation error: 0.12277483954899877, accuracy: 0\n",
      "Training error: 0.1319288996707589, validation error: 0.11888270642532604, accuracy: 0\n",
      "Training error: 0.12820774158373985, validation error: 0.1152991890301944, accuracy: 0\n",
      "Training error: 0.1247486713970794, validation error: 0.111988371206846, accuracy: 0\n",
      "Training error: 0.12152314862640365, validation error: 0.10891970137701473, accuracy: 0\n",
      "Training error: 0.11850672898664591, validation error: 0.10606702871491573, accuracy: 0\n",
      "Training error: 0.11567834858623262, validation error: 0.10340783966753023, accuracy: 0\n",
      "Training error: 0.11301975348133718, validation error: 0.10092264790882904, accuracy: 0\n",
      "Training error: 0.11051504130655145, validation error: 0.09859450294888655, accuracy: 0\n",
      "Training error: 0.10815029011446334, validation error: 0.0964085913375229, accuracy: 0\n",
      "Training error: 0.10591325565793645, validation error: 0.09435191073963292, accuracy: 0\n",
      "Training error: 0.10379312282000537, validation error: 0.09241300181591638, accuracy: 0\n",
      "Training error: 0.10178030020607372, validation error: 0.09058172629888273, accuracy: 0\n",
      "Training error: 0.09986624938656437, validation error: 0.08884908224365867, accuracy: 0\n",
      "Training error: 0.0980433421432234, validation error: 0.08720704939089055, accuracy: 0\n",
      "Training error: 0.09630474049046837, validation error: 0.08564845907158292, accuracy: 0\n",
      "Training error: 0.09464429533017266, validation error: 0.08416688423064568, accuracy: 0\n",
      "Training error: 0.09305646043771151, validation error: 0.08275654603388717, accuracy: 0\n",
      "Training error: 0.09153621912998439, validation error: 0.08141223421555223, accuracy: 0\n",
      "Training error: 0.0900790214773583, validation error: 0.08012923886697482, accuracy: 0\n",
      "Training error: 0.08868073032436112, validation error: 0.0789032917962453, accuracy: 0\n",
      "Training error: 0.08733757470339465, validation error: 0.07773051592999886, accuracy: 0\n",
      "Training error: 0.08604610948048919, validation error: 0.07660738150117131, accuracy: 0\n",
      "Training error: 0.08480318027641055, validation error: 0.07553066798576921, accuracy: 0\n",
      "Training error: 0.08360589287112134, validation error: 0.07449743092879219, accuracy: 0\n",
      "Training error: 0.08245158643303441, validation error: 0.07350497294323408, accuracy: 0\n",
      "Training error: 0.0813378100231345, validation error: 0.072550818283378, accuracy: 0\n",
      "Training error: 0.08026230191289797, validation error: 0.07163269048972737, accuracy: 0\n",
      "Training error: 0.07922297132793925, validation error: 0.07074849268201858, accuracy: 0\n",
      "Training error: 0.07821788228953608, validation error: 0.06989629014214187, accuracy: 0\n",
      "Training error: 0.07724523927607455, validation error: 0.06907429488304204, accuracy: 0\n"
     ]
    },
    {
     "data": {
      "image/png": "[encoded data removed]",
      "text/plain": [
       "<Figure size 432x288 with 1 Axes>"
      ]
     },
     "metadata": {
      "needs_background": "light"
     },
     "output_type": "display_data"
    },
    {
     "name": "stdout",
     "output_type": "stream",
     "text": [
      "Fold: 2\n",
      "Training index: 0\n",
      "Training index: 1\n",
      "Training index: 4\n",
      "Training index: 5\n",
      "Training index: 6\n",
      "Training index: 7\n",
      "Training index: 8\n",
      "Training index: 9\n",
      "(9, 224, 192)\n",
      "(9, 224, 192)\n",
      "(72, 224, 192)\n",
      "[[44 45 46 ... 51 52 51]\n",
      " [43 45 44 ... 50 52 50]\n",
      " [44 45 44 ... 51 51 50]\n",
      " ...\n",
      " [28 29 29 ...  0  0  0]\n",
      " [27 27 27 ...  0  0  0]\n",
      " [28 28 28 ...  0  0  0]]\n",
      "PCA transformed\n",
      "[ 1.04763823  1.13580425 -0.07222746  0.61969961 -0.56295194  0.44909889\n",
      " -0.60853401  0.35220825 -0.02425793  0.04372928]\n",
      "Training error: 0.5505672508870477, validation error: 0.5791347278765164, accuracy: 0\n",
      "Training error: 0.4530804250874128, validation error: 0.4979221341716031, accuracy: 0\n",
      "Training error: 0.3844741883612147, validation error: 0.4384199821886836, accuracy: 0\n",
      "Training error: 0.3344241736596785, validation error: 0.3933417356695047, accuracy: 0\n",
      "Training error: 0.29662348358635754, validation error: 0.358096431376408, accuracy: 0\n",
      "Training error: 0.2671881843274356, validation error: 0.3297732303209252, accuracy: 0\n",
      "Training error: 0.24366102026786216, validation error: 0.30647980757149285, accuracy: 0\n",
      "Training error: 0.2244363897212786, validation error: 0.2869479641811528, accuracy: 0\n",
      "Training error: 0.2084311007319625, validation error: 0.27030158915486635, accuracy: 0\n",
      "Training error: 0.19489242527310469, validation error: 0.255918117762888, accuracy: 0\n",
      "Training error: 0.1832831163571192, validation error: 0.24334373822103028, accuracy: 0\n",
      "Training error: 0.1732104730170517, validation error: 0.23224004203518625, accuracy: 0\n",
      "Training error: 0.1643813004384268, validation error: 0.22234952602931457, accuracy: 0\n",
      "Training error: 0.15657252777418795, validation error: 0.21347269912079397, accuracy: 0\n",
      "Training error: 0.14961155640808166, validation error: 0.20545252131971264, accuracy: 0\n",
      "Training error: 0.1433628133383481, validation error: 0.19816359149121496, accuracy: 0\n",
      "Training error: 0.13771835749879793, validation error: 0.19150448245738375, accuracy: 0\n",
      "Training error: 0.1325911923348827, validation error: 0.18539220700521275, accuracy: 0\n",
      "Training error: 0.12791042237909486, validation error: 0.17975815520682445, accuracy: 0\n",
      "Training error: 0.12361768985143969, validation error: 0.17454506610844292, accuracy: 0\n",
      "Training error: 0.11966451507394599, validation error: 0.1697047387575682, accuracy: 0\n",
      "Training error: 0.11601028513713975, validation error: 0.1651962798088788, accuracy: 0\n",
      "Training error: 0.11262071427544014, validation error: 0.16098474606650248, accuracy: 0\n",
      "Training error: 0.10946665208771039, validation error: 0.15704008150652446, accuracy: 0\n",
      "Training error: 0.10652315144156285, validation error: 0.1533362765275133, accuracy: 0\n",
      "Training error: 0.10376873246959221, validation error: 0.14985069678114085, accuracy: 0\n",
      "Training error: 0.1011847962163059, validation error: 0.14656354275260342, accuracy: 0\n",
      "Training error: 0.09875515362618528, validation error: 0.14345741112675847, accuracy: 0\n",
      "Training error: 0.09646564425164933, validation error: 0.1405169361065475, accuracy: 0\n",
      "Training error: 0.09430382535443663, validation error: 0.13772849406261345, accuracy: 0\n",
      "Training error: 0.09225871668417907, validation error: 0.13507995874379733, accuracy: 0\n",
      "Training error: 0.0903205896289777, validation error: 0.13256049715158824, accuracy: 0\n",
      "Training error: 0.08848079198076204, validation error: 0.13016039834585424, accuracy: 0\n",
      "Training error: 0.08673160147868059, validation error: 0.1278709290937613, accuracy: 0\n",
      "Training error: 0.08506610275358069, validation error: 0.1256842115339053, accuracy: 0\n",
      "Training error: 0.08347808341519931, validation error: 0.12359311900082459, accuracy: 0\n",
      "Training error: 0.08196194588727551, validation error: 0.12159118691218862, accuracy: 0\n",
      "Training error: 0.0805126322673218, validation error: 0.1196725362141632, accuracy: 0\n",
      "Training error: 0.07912556001352478, validation error: 0.11783180734834496, accuracy: 0\n",
      "Training error: 0.07779656667549711, validation error: 0.11606410307503426, accuracy: 0\n",
      "Training error: 0.07652186221401963, validation error: 0.11436493878417386, accuracy: 0\n",
      "Training error: 0.07529798771679697, validation error: 0.11273019916344057, accuracy: 0\n",
      "Training error: 0.07412177952724634, validation error: 0.11115610028528601, accuracy: 0\n",
      "Training error: 0.07299033797261927, validation error: 0.10963915633081582, accuracy: 0\n",
      "Training error: 0.07190100001490696, validation error: 0.10817615029571849, accuracy: 0\n",
      "Training error: 0.07085131525963645, validation error: 0.10676410812780401, accuracy: 0\n",
      "Training error: 0.06983902484898749, validation error: 0.10540027583161987, accuracy: 0\n",
      "Training error: 0.06886204284068308, validation error: 0.10408209914664149, accuracy: 0\n",
      "Training error: 0.06791843973599959, validation error: 0.10280720546450912, accuracy: 0\n",
      "Training error: 0.06700642787151283, validation error: 0.10157338769993951, accuracy: 0\n"
     ]
    },
    {
     "data": {
      "image/png": "[encoded data removed]",
      "text/plain": [
       "<Figure size 432x288 with 1 Axes>"
      ]
     },
     "metadata": {
      "needs_background": "light"
     },
     "output_type": "display_data"
    },
    {
     "name": "stdout",
     "output_type": "stream",
     "text": [
      "Fold: 3\n",
      "Training index: 0\n",
      "Training index: 1\n",
      "Training index: 2\n",
      "Training index: 5\n",
      "Training index: 6\n",
      "Training index: 7\n",
      "Training index: 8\n",
      "Training index: 9\n",
      "(9, 224, 192)\n",
      "(9, 224, 192)\n",
      "(72, 224, 192)\n",
      "[[44 45 46 ... 51 52 51]\n",
      " [43 45 44 ... 50 52 50]\n",
      " [44 45 44 ... 51 51 50]\n",
      " ...\n",
      " [28 29 29 ...  0  0  0]\n",
      " [27 27 27 ...  0  0  0]\n",
      " [28 28 28 ...  0  0  0]]\n",
      "PCA transformed\n",
      "[ 1.13649028  0.80846792 -0.43778367  0.89554031 -0.47315949  0.2920791\n",
      " -0.41441289  0.46879756 -0.24127493 -0.18267164]\n",
      "Training error: 0.5525759818831957, validation error: 0.5889652629061867, accuracy: 0\n",
      "Training error: 0.45644902413018706, validation error: 0.515429335565513, accuracy: 0\n",
      "Training error: 0.38876805821395216, validation error: 0.46198337139003903, accuracy: 0\n",
      "Training error: 0.33935423842463575, validation error: 0.4217637964327335, accuracy: 0\n",
      "Training error: 0.3019956373773395, validation error: 0.39049388985412237, accuracy: 0\n",
      "Training error: 0.2728692184770989, validation error: 0.3654870816721984, accuracy: 0\n",
      "Training error: 0.24955713954683756, validation error: 0.34500921518352634, accuracy: 0\n",
      "Training error: 0.23047991476477037, validation error: 0.3279042626095899, accuracy: 0\n",
      "Training error: 0.21457215126323756, validation error: 0.31337682173269304, accuracy: 0\n",
      "Training error: 0.2010935942465228, validation error: 0.3008634778888399, accuracy: 0\n",
      "Training error: 0.1895159620798594, validation error: 0.2899546315625526, accuracy: 0\n",
      "Training error: 0.17945314223404812, validation error: 0.2803455741511228, accuracy: 0\n",
      "Training error: 0.17061687438189166, validation error: 0.2718049745610598, accuracy: 0\n",
      "Training error: 0.16278784333521384, validation error: 0.26415402594148835, accuracy: 0\n",
      "Training error: 0.1557963479193332, validation error: 0.2572523006213976, accuracy: 0\n",
      "Training error: 0.1495090760552589, validation error: 0.2509879366422843, accuracy: 0\n",
      "Training error: 0.1438198678139488, validation error: 0.24527068884090544, accuracy: 0\n",
      "Training error: 0.13864314101616967, validation error: 0.24002691629861023, accuracy: 0\n",
      "Training error: 0.13390913076247124, validation error: 0.2351959052679372, accuracy: 0\n",
      "Training error: 0.12956038787878363, validation error: 0.23072713022121258, accuracy: 0\n",
      "Training error: 0.125549166081879, validation error: 0.22657818506077573, accuracy: 0\n",
      "Training error: 0.12183544642350978, validation error: 0.2227132004981406, accuracy: 0\n",
      "Training error: 0.1183854253462041, validation error: 0.21910161914597537, accuracy: 0\n",
      "Training error: 0.11517034452855635, validation error: 0.21571723725323708, accuracy: 0\n",
      "Training error: 0.1121655758305208, validation error: 0.21253744759718696, accuracy: 0\n",
      "Training error: 0.10934989882313502, validation error: 0.20954263582053023, accuracy: 0\n",
      "Training error: 0.10670492525856531, validation error: 0.20671569502653064, accuracy: 0\n",
      "Training error: 0.10421463676822552, validation error: 0.20404163238683462, accuracy: 0\n",
      "Training error: 0.10186501062012789, validation error: 0.20150724797929148, accuracy: 0\n",
      "Training error: 0.09964371455494121, validation error: 0.19910087079730066, accuracy: 0\n",
      "Training error: 0.09753985625145999, validation error: 0.19681214036276037, accuracy: 0\n",
      "Training error: 0.09554377632392233, validation error: 0.19463182497957188, accuracy: 0\n",
      "Training error: 0.09364687625667169, validation error: 0.19255166962688147, accuracy: 0\n",
      "Training error: 0.09184147456779733, validation error: 0.19056426798241977, accuracy: 0\n",
      "Training error: 0.09012068592675836, validation error: 0.1886629542089176, accuracy: 0\n",
      "Training error: 0.08847831904903865, validation error: 0.18684171101896485, accuracy: 0\n",
      "Training error: 0.0869087900384303, validation error: 0.18509509122013348, accuracy: 0\n",
      "Training error: 0.08540704850645549, validation error: 0.18341815047993051, accuracy: 0\n",
      "Training error: 0.0839685143141878, validation error: 0.1818063894741895, accuracy: 0\n",
      "Training error: 0.0825890231880441, validation error: 0.1802557039189662, accuracy: 0\n",
      "Training error: 0.08126477978318182, validation error: 0.1787623412545623, accuracy: 0\n",
      "Training error: 0.07999231702491603, validation error: 0.17732286296585964, accuracy: 0\n",
      "Training error: 0.07876846076444433, validation error: 0.17593411169709963, accuracy: 0\n",
      "Training error: 0.07759029895110532, validation error: 0.17459318246033095, accuracy: 0\n",
      "Training error: 0.07645515465782624, validation error: 0.17329739735173877, accuracy: 0\n",
      "Training error: 0.07536056240584743, validation error: 0.17204428328422544, accuracy: 0\n",
      "Training error: 0.07430424732431082, validation error: 0.17083155232204764, accuracy: 0\n",
      "Training error: 0.07328410675382104, validation error: 0.1696570842672724, accuracy: 0\n",
      "Training error: 0.07229819396374175, validation error: 0.16851891120085277, accuracy: 0\n",
      "Training error: 0.07134470370323474, validation error: 0.1674152037252737, accuracy: 0\n"
     ]
    },
    {
     "data": {
      "image/png": "[encoded data removed]",
      "text/plain": [
       "<Figure size 432x288 with 1 Axes>"
      ]
     },
     "metadata": {
      "needs_background": "light"
     },
     "output_type": "display_data"
    },
    {
     "name": "stdout",
     "output_type": "stream",
     "text": [
      "Fold: 4\n",
      "Training index: 0\n",
      "Training index: 1\n",
      "Training index: 2\n",
      "Training index: 3\n",
      "Training index: 6\n",
      "Training index: 7\n",
      "Training index: 8\n",
      "Training index: 9\n",
      "(9, 224, 192)\n",
      "(9, 224, 192)\n",
      "(72, 224, 192)\n",
      "[[44 45 46 ... 51 52 51]\n",
      " [43 45 44 ... 50 52 50]\n",
      " [44 45 44 ... 51 51 50]\n",
      " ...\n",
      " [28 29 29 ...  0  0  0]\n",
      " [27 27 27 ...  0  0  0]\n",
      " [28 28 28 ...  0  0  0]]\n",
      "PCA transformed\n",
      "[ 1.13419149 -0.88428527  0.00864528 -0.91132687  0.44436065 -0.1212974\n",
      "  0.61818799 -0.8846324   0.05980667  0.38984033]\n",
      "Training error: 0.5528578023766519, validation error: 0.541802549785571, accuracy: 0\n",
      "Training error: 0.4569219865096351, validation error: 0.4385030017589997, accuracy: 0\n",
      "Training error: 0.3893711053403001, validation error: 0.3660379235326133, accuracy: 0\n",
      "Training error: 0.3400463855006338, validation error: 0.3134316371429519, accuracy: 0\n",
      "Training error: 0.3027501443497235, validation error: 0.27395920546833114, accuracy: 0\n",
      "Training error: 0.27366931132157457, validation error: 0.24346522855362318, accuracy: 0\n",
      "Training error: 0.25039274198687955, validation error: 0.21931228636732095, accuracy: 0\n",
      "Training error: 0.23134529296672046, validation error: 0.19977230332444385, accuracy: 0\n",
      "Training error: 0.21546430458217605, validation error: 0.18367689623426356, accuracy: 0\n",
      "Training error: 0.20201119162143494, validation error: 0.17021283753295888, accuracy: 0\n",
      "Training error: 0.19045865272401816, validation error: 0.1587991282681704, accuracy: 0\n",
      "Training error: 0.18042111484197415, validation error: 0.14901092896269058, accuracy: 0\n",
      "Training error: 0.17161057883998293, validation error: 0.1405311225798851, accuracy: 0\n",
      "Training error: 0.16380781799463284, validation error: 0.1331186340332155, accuracy: 0\n",
      "Training error: 0.15684311523357433, validation error: 0.12658719137166616, accuracy: 0\n",
      "Training error: 0.1505830823701941, validation error: 0.12079076252228638, accuracy: 0\n",
      "Training error: 0.1449214515340011, validation error: 0.11561336251531101, accuracy: 0\n",
      "Training error: 0.13977251883827801, validation error: 0.11096178537097913, accuracy: 0\n",
      "Training error: 0.13506639522403988, validation error: 0.10676033282437496, accuracy: 0\n",
      "Training error: 0.13074551178866547, validation error: 0.10294693173958565, accuracy: 0\n",
      "Training error: 0.12676201093055742, validation error: 0.0994702337248026, accuracy: 0\n",
      "Training error: 0.12307577287836723, validation error: 0.09628742030057563, accuracy: 0\n",
      "Training error: 0.11965290460852603, validation error: 0.0933625221753712, accuracy: 0\n",
      "Training error: 0.11646456977587746, validation error: 0.09066511808707639, accuracy: 0\n",
      "Training error: 0.11348607326602408, validation error: 0.08816931730168336, accuracy: 0\n",
      "Training error: 0.11069613805226565, validation error: 0.0858529564902104, accuracy: 0\n",
      "Training error: 0.1080763288444001, validation error: 0.08369696032273452, accuracy: 0\n",
      "Training error: 0.10561058890320717, validation error: 0.08168482830750783, accuracy: 0\n",
      "Training error: 0.10328486490716349, validation error: 0.07980221986207922, accuracy: 0\n",
      "Training error: 0.10108680092548944, validation error: 0.07803661646551371, accuracy: 0\n",
      "Training error: 0.09900548706883958, validation error: 0.07637704477293225, accuracy: 0\n",
      "Training error: 0.09703125173127919, validation error: 0.0748138483011062, accuracy: 0\n",
      "Training error: 0.09515548883400447, validation error: 0.073338498081231, accuracy: 0\n",
      "Training error: 0.09337051336333278, validation error: 0.07194343477800441, accuracy: 0\n",
      "Training error: 0.09166943992627652, validation error: 0.07062193637413063, accuracy: 0\n",
      "Training error: 0.09004608014348775, validation error: 0.0693680067463372, accuracy: 0\n",
      "Training error: 0.08849485554603387, validation error: 0.06817628140692705, accuracy: 0\n",
      "Training error: 0.08701072330096266, validation error: 0.06704194742244501, accuracy: 0\n",
      "Training error: 0.08558911260625643, validation error: 0.06596067509874115, accuracy: 0\n",
      "Training error: 0.08422587000217502, validation error: 0.06492855947708513, accuracy: 0\n",
      "Training error: 0.08291721216825997, validation error: 0.06394207004709566, accuracy: 0\n",
      "Training error: 0.08165968503233338, validation error: 0.0629980073702383, accuracy: 0\n",
      "Training error: 0.0804501282240148, validation error: 0.06209346553858594, accuracy: 0\n",
      "Training error: 0.07928564407154456, validation error: 0.06122579957967104, accuracy: 0\n",
      "Training error: 0.07816357047545705, validation error: 0.06039259706903893, accuracy: 0\n",
      "Training error: 0.07708145710239128, validation error: 0.059591653334816336, accuracy: 0\n",
      "Training error: 0.07603704443211916, validation error: 0.05882094973892233, accuracy: 0\n",
      "Training error: 0.07502824526466388, validation error: 0.058078634601909124, accuracy: 0\n",
      "Training error: 0.07405312835528505, validation error: 0.05736300640631372, accuracy: 0\n",
      "Training error: 0.07310990389557635, validation error: 0.05667249896960157, accuracy: 0\n"
     ]
    },
    {
     "data": {
      "image/png": "[encoded data removed]",
      "text/plain": [
       "<Figure size 432x288 with 1 Axes>"
      ]
     },
     "metadata": {
      "needs_background": "light"
     },
     "output_type": "display_data"
    },
    {
     "name": "stdout",
     "output_type": "stream",
     "text": [
      "Fold: 5\n",
      "Training index: 0\n",
      "Training index: 1\n",
      "Training index: 2\n",
      "Training index: 3\n",
      "Training index: 4\n",
      "Training index: 7\n",
      "Training index: 8\n",
      "Training index: 9\n",
      "(9, 224, 192)\n",
      "(9, 224, 192)\n",
      "(72, 224, 192)\n",
      "[[44 45 46 ... 51 52 51]\n",
      " [43 45 44 ... 50 52 50]\n",
      " [44 45 44 ... 51 51 50]\n",
      " ...\n",
      " [28 29 29 ...  0  0  0]\n",
      " [27 27 27 ...  0  0  0]\n",
      " [28 28 28 ...  0  0  0]]\n",
      "PCA transformed\n",
      "[ 1.0773659   0.99149934  0.20036043 -0.80791436  0.45866214 -0.10396073\n",
      "  0.51816594 -0.98895531  0.08474232  0.62136079]\n",
      "Training error: 0.5508388787933858, validation error: 0.531171115217562, accuracy: 0\n",
      "Training error: 0.4535130901936026, validation error: 0.4234487235517975, accuracy: 0\n",
      "Training error: 0.3849620930351241, validation error: 0.34957564637727373, accuracy: 0\n",
      "Training error: 0.3348832200702796, validation error: 0.296882605477659, accuracy: 0\n",
      "Training error: 0.2969973363850626, validation error: 0.25784430871971903, accuracy: 0\n",
      "Training error: 0.26744387101958395, validation error: 0.2279451666840036, accuracy: 0\n",
      "Training error: 0.24378214574600987, validation error: 0.204391867606336, accuracy: 0\n",
      "Training error: 0.22441735948360764, validation error: 0.18539375847086564, accuracy: 0\n",
      "Training error: 0.20827297972499925, validation error: 0.16976215172528855, accuracy: 0\n",
      "Training error: 0.19460017692809342, validation error: 0.15668224856130059, accuracy: 0\n",
      "Training error: 0.1828638275757704, validation error: 0.14557927713321334, accuracy: 0\n",
      "Training error: 0.17267223865986164, validation error: 0.13603734389067718, accuracy: 0\n",
      "Training error: 0.16373253618761374, validation error: 0.12774867853785857, accuracy: 0\n",
      "Training error: 0.15582155734882894, validation error: 0.12048095173135925, accuracy: 0\n",
      "Training error: 0.1487663730921673, validation error: 0.114055662152683, accuracy: 0\n",
      "Training error: 0.1424309515182064, validation error: 0.10833349362581089, accuracy: 0\n",
      "Training error: 0.13670683301983821, validation error: 0.10320417442073132, accuracy: 0\n",
      "Training error: 0.1315064853107418, validation error: 0.09857931342372961, accuracy: 0\n",
      "Training error: 0.12675848557921704, validation error: 0.09438724712455125, accuracy: 0\n",
      "Training error: 0.12240397188417819, validation error: 0.09056927165209173, accuracy: 0\n",
      "Training error: 0.11839399150292633, validation error: 0.08707684602518384, accuracy: 0\n",
      "Training error: 0.11468749320022766, validation error: 0.0838694876738479, accuracy: 0\n",
      "Training error: 0.11124978851403222, validation error: 0.08091316887742092, accuracy: 0\n",
      "Training error: 0.10805135925504153, validation error: 0.07817908070955366, accuracy: 0\n",
      "Training error: 0.10506692374457688, validation error: 0.07564267007576278, accuracy: 0\n",
      "Training error: 0.10227469864001607, validation error: 0.07328288209476817, accuracy: 0\n",
      "Training error: 0.09965581018746231, validation error: 0.07108155858079972, accuracy: 0\n",
      "Training error: 0.09719382076795384, validation error: 0.06902295640524331, accuracy: 0\n",
      "Training error: 0.09487434522303922, validation error: 0.06709335879623583, accuracy: 0\n",
      "Training error: 0.09268473769533091, validation error: 0.06528075932850753, accuracy: 0\n",
      "Training error: 0.0906138343007287, validation error: 0.06357460323815951, accuracy: 0\n",
      "Training error: 0.08865174034131912, validation error: 0.06196557429580471, accuracy: 0\n",
      "Training error: 0.08678965330414361, validation error: 0.06044541815029709, accuracy: 0\n",
      "Training error: 0.08501971480429447, validation error: 0.059006795067798185, accuracy: 0\n",
      "Training error: 0.08333488608643487, validation error: 0.05764315651611001, accuracy: 0\n",
      "Training error: 0.08172884281520656, validation error: 0.056348641209561734, accuracy: 0\n",
      "Training error: 0.08019588574765761, validation error: 0.05511798712708941, accuracy: 0\n",
      "Training error: 0.07873086455223474, validation error: 0.05394645671219748, accuracy: 0\n",
      "Training error: 0.07732911256499908, validation error: 0.05282977300715381, accuracy: 0\n",
      "Training error: 0.07598639068864187, validation error: 0.05176406490120421, accuracy: 0\n",
      "Training error: 0.07469883896910867, validation error: 0.050745820010748455, accuracy: 0\n",
      "Training error: 0.07346293464740168, validation error: 0.04977184397853359, accuracy: 0\n",
      "Training error: 0.07227545569500655, validation error: 0.04883922519430082, accuracy: 0\n",
      "Training error: 0.07113344901152098, validation error: 0.047945304112623, accuracy: 0\n",
      "Training error: 0.0700342026010144, validation error: 0.047087646483831076, accuracy: 0\n",
      "Training error: 0.06897522115604453, validation error: 0.04626401992783916, accuracy: 0\n",
      "Training error: 0.06795420457025705, validation error: 0.04547237337368897, accuracy: 0\n",
      "Training error: 0.06696902897612762, validation error: 0.04471081896392334, accuracy: 0\n",
      "Training error: 0.06601772996685118, validation error: 0.04397761608573277, accuracy: 0\n",
      "Training error: 0.06509848771314364, validation error: 0.043271157242790174, accuracy: 0\n"
     ]
    },
    {
     "data": {
      "image/png": "[encoded data removed]",
      "text/plain": [
       "<Figure size 432x288 with 1 Axes>"
      ]
     },
     "metadata": {
      "needs_background": "light"
     },
     "output_type": "display_data"
    },
    {
     "name": "stdout",
     "output_type": "stream",
     "text": [
      "Fold: 6\n",
      "Training index: 0\n",
      "Training index: 1\n",
      "Training index: 2\n",
      "Training index: 3\n",
      "Training index: 4\n",
      "Training index: 5\n",
      "Training index: 8\n",
      "Training index: 9\n",
      "(9, 224, 192)\n",
      "(9, 224, 192)\n",
      "(72, 224, 192)\n",
      "[[44 45 46 ... 51 52 51]\n",
      " [43 45 44 ... 50 52 50]\n",
      " [44 45 44 ... 51 51 50]\n",
      " ...\n",
      " [28 29 29 ...  0  0  0]\n",
      " [27 27 27 ...  0  0  0]\n",
      " [28 28 28 ...  0  0  0]]\n",
      "PCA transformed\n",
      "[ 1.16673648  1.08154342 -0.04030733  0.73480593 -0.62044561  0.58670629\n",
      " -0.18940719  0.52981285 -0.14927129 -0.95572612]\n",
      "Training error: 0.5519016822761021, validation error: 0.5371435539262646, accuracy: 0\n",
      "Training error: 0.45528698675885504, validation error: 0.4317824172401601, accuracy: 0\n",
      "Training error: 0.3872034221204203, validation error: 0.35854126270075865, accuracy: 0\n",
      "Training error: 0.33743132387551217, validation error: 0.30573137564555425, accuracy: 0\n",
      "Training error: 0.29974948123551143, validation error: 0.2662821271406634, accuracy: 0\n",
      "Training error: 0.270334249822016, validation error: 0.23587848137908848, accuracy: 0\n",
      "Training error: 0.24676768910172667, validation error: 0.21181245738231416, accuracy: 0\n",
      "Training error: 0.2274690118919732, validation error: 0.19232746870064957, accuracy: 0\n",
      "Training error: 0.2113704925693057, validation error: 0.17624629412619955, accuracy: 0\n",
      "Training error: 0.19772899529583465, validation error: 0.16275584095693388, accuracy: 0\n",
      "Training error: 0.1860131970442405, validation error: 0.15127906318286477, accuracy: 0\n",
      "Training error: 0.1758340253137323, validation error: 0.1413964102234267, accuracy: 0\n",
      "Training error: 0.16690047008631367, validation error: 0.13279621630512894, accuracy: 0\n",
      "Training error: 0.15899073283954804, validation error: 0.12524249393570305, accuracy: 0\n",
      "Training error: 0.1519329087771233, validation error: 0.11855348992166721, accuracy: 0\n",
      "Training error: 0.1455917520799947, validation error: 0.1125870737219481, accuracy: 0\n",
      "Training error: 0.13985941778706737, validation error: 0.10723056980088176, accuracy: 0\n",
      "Training error: 0.13464886173437698, validation error: 0.10239354584069725, accuracy: 0\n",
      "Training error: 0.1298890537290166, validation error: 0.09800260771530518, accuracy: 0\n",
      "Training error: 0.1255214509149422, validation error: 0.09399758271711021, accuracy: 0\n",
      "Training error: 0.1214973620531618, validation error: 0.09032867985983846, accuracy: 0\n",
      "Training error: 0.11777595160082337, validation error: 0.08695434884212143, accuracy: 0\n",
      "Training error: 0.11432270992748167, validation error: 0.083839645926268, accuracy: 0\n",
      "Training error: 0.11110826768953995, validation error: 0.08095497258931023, accuracy: 0\n",
      "Training error: 0.10810746744473641, validation error: 0.07827509172939015, accuracy: 0\n",
      "Training error: 0.10529862974089593, validation error: 0.07577835292498823, accuracy: 0\n",
      "Training error: 0.10266296778980497, validation error: 0.07344607684365644, accuracy: 0\n",
      "Training error: 0.10018411678726848, validation error: 0.07126206202058118, accuracy: 0\n",
      "Training error: 0.09784775250761792, validation error: 0.06921218660382514, accuracy: 0\n",
      "Training error: 0.09564128001427366, validation error: 0.06728408444106332, accuracy: 0\n",
      "Training error: 0.09355357788319543, validation error: 0.06546687983603755, accuracy: 0\n",
      "Training error: 0.09157478670972294, validation error: 0.0637509689602543, accuracy: 0\n",
      "Training error: 0.08969613319182075, validation error: 0.06212783863190801, accuracy: 0\n",
      "Training error: 0.08790978298582584, validation error: 0.06058991522503518, accuracy: 0\n",
      "Training error: 0.08620871697874036, validation error: 0.05913043802804691, accuracy: 0\n",
      "Training error: 0.08458662673158575, validation error: 0.057743352561000036, accuracy: 0\n",
      "Training error: 0.08303782570643586, validation error: 0.056423220278258884, accuracy: 0\n",
      "Training error: 0.08155717355757491, validation error: 0.05516514179525679, accuracy: 0\n",
      "Training error: 0.08014001129050327, validation error: 0.05396469133459666, accuracy: 0\n",
      "Training error: 0.07878210550516182, validation error: 0.052817860524526763, accuracy: 0\n",
      "Training error: 0.07747960026714895, validation error: 0.05172101002934912, accuracy: 0\n",
      "Training error: 0.07622897541197976, validation error: 0.05067082776719892, accuracy: 0\n",
      "Training error: 0.07502701029710027, validation error: 0.04966429269150636, accuracy: 0\n",
      "Training error: 0.07387075218550206, validation error: 0.048698643290221826, accuracy: 0\n",
      "Training error: 0.07275748858191018, validation error: 0.047771350100692334, accuracy: 0\n",
      "Training error: 0.07168472295422863, validation error: 0.046880091654973574, accuracy: 0\n",
      "Training error: 0.07065015336435802, validation error: 0.046022733365824124, accuracy: 0\n",
      "Training error: 0.06965165360765535, validation error: 0.04519730894193291, accuracy: 0\n",
      "Training error: 0.06868725652234946, validation error: 0.0444020039854328, accuracy: 0\n",
      "Training error: 0.06775513918164953, validation error: 0.04363514147810511, accuracy: 0\n"
     ]
    },
    {
     "data": {
      "image/png": "[encoded data removed]",
      "text/plain": [
       "<Figure size 432x288 with 1 Axes>"
      ]
     },
     "metadata": {
      "needs_background": "light"
     },
     "output_type": "display_data"
    },
    {
     "name": "stdout",
     "output_type": "stream",
     "text": [
      "Fold: 7\n",
      "Training index: 0\n",
      "Training index: 1\n",
      "Training index: 2\n",
      "Training index: 3\n",
      "Training index: 4\n",
      "Training index: 5\n",
      "Training index: 6\n",
      "Training index: 9\n",
      "(9, 224, 192)\n",
      "(9, 224, 192)\n",
      "(72, 224, 192)\n",
      "[[44 45 46 ... 51 52 51]\n",
      " [43 45 44 ... 50 52 50]\n",
      " [44 45 44 ... 51 51 50]\n",
      " ...\n",
      " [28 29 29 ...  0  0  0]\n",
      " [27 27 27 ...  0  0  0]\n",
      " [28 28 28 ...  0  0  0]]\n",
      "PCA transformed\n",
      "[ 1.10078992  1.12847814 -0.35149785  1.00084347 -0.38913474  0.22121984\n",
      " -0.24957997  0.24499864 -0.43708203  0.5567604 ]\n",
      "Training error: 0.5486913844887478, validation error: 0.5567831467583754, accuracy: 0\n",
      "Training error: 0.449906131492119, validation error: 0.46126102767491733, accuracy: 0\n",
      "Training error: 0.3803534663347436, validation error: 0.392502790074252, accuracy: 0\n",
      "Training error: 0.3295826972052605, validation error: 0.3413503509124069, accuracy: 0\n",
      "Training error: 0.29121969626815675, validation error: 0.30207929267500006, accuracy: 0\n",
      "Training error: 0.2613412283308683, validation error: 0.2710854791316492, accuracy: 0\n",
      "Training error: 0.23746407147280518, validation error: 0.2460414603274113, accuracy: 0\n",
      "Training error: 0.21796383732163097, validation error: 0.22539781878506146, accuracy: 0\n",
      "Training error: 0.20174300314093846, validation error: 0.20809150414030583, accuracy: 0\n",
      "Training error: 0.1880375955952941, validation error: 0.1933724882664769, accuracy: 0\n",
      "Training error: 0.17630140608925812, validation error: 0.1806980896121989, accuracy: 0\n",
      "Training error: 0.1661345249113632, validation error: 0.1696667282860856, accuracy: 0\n",
      "Training error: 0.15723792070982662, validation error: 0.15997524269727542, accuracy: 0\n",
      "Training error: 0.14938377278023493, validation error: 0.1513906666919288, accuracy: 0\n",
      "Training error: 0.14239559986774797, validation error: 0.14373111712487802, accuracy: 0\n",
      "Training error: 0.1361346425221487, validation error: 0.13685256517236294, accuracy: 0\n",
      "Training error: 0.13049033496264556, validation error: 0.130639496036826, accuracy: 0\n",
      "Training error: 0.12537351126966112, validation error: 0.12499819353102384, accuracy: 0\n",
      "Training error: 0.12071147733608173, validation error: 0.1198518315133011, accuracy: 0\n",
      "Training error: 0.11644437982578587, validation error: 0.11513683155361888, accuracy: 0\n",
      "Training error: 0.11252249227156469, validation error: 0.11080012267880608, accuracy: 0\n",
      "Training error: 0.10890415993156038, validation error: 0.10679705356005208, accuracy: 0\n",
      "Training error: 0.10555422467667831, validation error: 0.10308978320511292, accuracy: 0\n",
      "Training error: 0.10244280434438251, validation error: 0.09964602712672292, accuracy: 0\n",
      "Training error: 0.09954433706741463, validation error: 0.09643807074731287, accuracy: 0\n",
      "Training error: 0.09683682594099569, validation error: 0.0934419859287609, accuracy: 0\n",
      "Training error: 0.0943012367633214, validation error: 0.09063700348405787, accuracy: 0\n",
      "Training error: 0.09192101388707946, validation error: 0.08800500661524467, accuracy: 0\n",
      "Training error: 0.08968168804151135, validation error: 0.08553011893689719, accuracy: 0\n",
      "Training error: 0.08757055638371221, validation error: 0.08319836709888545, accuracy: 0\n",
      "Training error: 0.08557641973017607, validation error: 0.08099740270454993, accuracy: 0\n",
      "Training error: 0.0836893653953726, validation error: 0.07891627170505883, accuracy: 0\n",
      "Training error: 0.081900586663412, validation error: 0.07694522206814235, accuracy: 0\n",
      "Training error: 0.08020223188012873, validation error: 0.07507554250271813, accuracy: 0\n",
      "Training error: 0.07858727764532464, validation error: 0.07329942653618282, accuracy: 0\n",
      "Training error: 0.07704942172961544, validation error: 0.0716098574078471, accuracy: 0\n",
      "Training error: 0.0755829922249582, validation error: 0.07000051014694683, accuracy: 0\n",
      "Training error: 0.07418287012646578, validation error: 0.06846566791049152, accuracy: 0\n",
      "Training error: 0.07284442308263767, validation error: 0.06700015021194847, accuracy: 0\n",
      "Training error: 0.07156344847660932, validation error: 0.06559925111144332, accuracy: 0\n",
      "Training error: 0.07033612433859973, validation error: 0.06425868578810214, accuracy: 0\n",
      "Training error: 0.06915896685913062, validation error: 0.06297454419525667, accuracy: 0\n",
      "Training error: 0.06802879348875224, validation error: 0.06174325072464157, accuracy: 0\n",
      "Training error: 0.066942690784378, validation error: 0.06056152898803952, accuracy: 0\n",
      "Training error: 0.06589798630368358, validation error: 0.059426370973037455, accuracy: 0\n",
      "Training error: 0.06489222396416756, validation error: 0.05833500995059598, accuracy: 0\n",
      "Training error: 0.0639231423776913, validation error: 0.05728489661142763, accuracy: 0\n",
      "Training error: 0.06298865574875252, validation error: 0.05627367798998543, accuracy: 0\n",
      "Training error: 0.06208683698865842, validation error: 0.05529917880254001, accuracy: 0\n",
      "Training error: 0.06121590275072435, validation error: 0.054359384882030834, accuracy: 0\n"
     ]
    },
    {
     "data": {
      "image/png": "[encoded data removed]",
      "text/plain": [
       "<Figure size 432x288 with 1 Axes>"
      ]
     },
     "metadata": {
      "needs_background": "light"
     },
     "output_type": "display_data"
    },
    {
     "name": "stdout",
     "output_type": "stream",
     "text": [
      "Fold: 8\n",
      "Training index: 0\n",
      "Training index: 1\n",
      "Training index: 2\n",
      "Training index: 3\n",
      "Training index: 4\n",
      "Training index: 5\n",
      "Training index: 6\n",
      "Training index: 7\n",
      "(9, 224, 192)\n",
      "(9, 224, 192)\n",
      "(72, 224, 192)\n",
      "[[44 45 46 ... 51 52 51]\n",
      " [43 45 44 ... 50 52 50]\n",
      " [44 45 44 ... 51 51 50]\n",
      " ...\n",
      " [28 29 29 ...  0  0  0]\n",
      " [27 27 27 ...  0  0  0]\n",
      " [28 28 28 ...  0  0  0]]\n",
      "PCA transformed\n",
      "[ 1.03188997  1.08253718  0.01958288 -0.84822214  0.39795964 -0.23781604\n",
      "  0.15137433 -0.49006757 -0.07995404  0.71369792]\n",
      "Training error: 0.5467505850677262, validation error: 0.591956613659526, accuracy: 0\n",
      "Training error: 0.44664871997259603, validation error: 0.5199011652819091, accuracy: 0\n",
      "Training error: 0.37619495710314155, validation error: 0.4671936293817793, accuracy: 0\n",
      "Training error: 0.3247991828774039, validation error: 0.42737788993770987, accuracy: 0\n",
      "Training error: 0.28599639377960956, validation error: 0.39636099135750325, accuracy: 0\n",
      "Training error: 0.25580458114472193, validation error: 0.3715338335324986, accuracy: 0\n",
      "Training error: 0.23170224478512771, validation error: 0.35119383807551857, accuracy: 0\n",
      "Training error: 0.21203966299296007, validation error: 0.3341975697304479, accuracy: 0\n",
      "Training error: 0.1957022026420604, validation error: 0.31975463934516873, accuracy: 0\n",
      "Training error: 0.18191408107478818, validation error: 0.30730379141102193, accuracy: 0\n",
      "Training error: 0.1701207633527591, validation error: 0.2964366384983286, accuracy: 0\n",
      "Training error: 0.15991634924636794, validation error: 0.28684946594490973, accuracy: 0\n",
      "Training error: 0.15099741584370963, validation error: 0.2783119630700448, accuracy: 0\n",
      "Training error: 0.14313286726847602, validation error: 0.2706464232211261, accuracy: 0\n",
      "Training error: 0.13614374122275455, validation error: 0.2637135835018127, accuracy: 0\n",
      "Training error: 0.1298893720144941, validation error: 0.25740277765667763, accuracy: 0\n",
      "Training error: 0.12425771042379975, validation error: 0.251624954161074, accuracy: 0\n",
      "Training error: 0.11915842274462893, validation error: 0.24630763743571776, accuracy: 0\n",
      "Training error: 0.11451788598557701, validation error: 0.24139123219543818, accuracy: 0\n",
      "Training error: 0.1102755010279476, validation error: 0.23682627260947886, accuracy: 0\n",
      "Training error: 0.1063809375883804, validation error: 0.2325713468684708, accuracy: 0\n",
      "Training error: 0.10279204835759694, validation error: 0.22859151178170034, accuracy: 0\n",
      "Training error: 0.0994732706730085, validation error: 0.22485706779915596, accuracy: 0\n",
      "Training error: 0.09639438813152885, validation error: 0.22134260249806964, accuracy: 0\n",
      "Training error: 0.09352956121931592, validation error: 0.21802623638582863, accuracy: 0\n",
      "Training error: 0.09085656129865234, validation error: 0.21488902283000855, accuracy: 0\n",
      "Training error: 0.08835615994651819, validation error: 0.21191446659230243, accuracy: 0\n",
      "Training error: 0.08601163814101426, validation error: 0.2090881344902576, accuracy: 0\n",
      "Training error: 0.0838083887547002, validation error: 0.20639733824998047, accuracy: 0\n",
      "Training error: 0.08173359231444306, validation error: 0.2038308743922168, accuracy: 0\n",
      "Training error: 0.0797759507532631, validation error: 0.2013788095236206, accuracy: 0\n",
      "Training error: 0.07792546740939812, validation error: 0.19903230203696953, accuracy: 0\n",
      "Training error: 0.07617326416701932, validation error: 0.19678345320484747, accuracy: 0\n",
      "Training error: 0.07451142862414212, validation error: 0.1946251821549107, accuracy: 0\n",
      "Training error: 0.07293288568816195, validation error: 0.19255112036556385, accuracy: 0\n",
      "Training error: 0.07143128916122254, validation error: 0.19055552220829367, accuracy: 0\n",
      "Training error: 0.07000092977532194, validation error: 0.1886331887522782, accuracy: 0\n",
      "Training error: 0.06863665683566686, validation error: 0.18677940258609796, accuracy: 0\n",
      "Training error: 0.06733381117812746, validation error: 0.18498987183588994, accuracy: 0\n",
      "Training error: 0.06608816757823005, validation error: 0.18326068189557748, accuracy: 0\n",
      "Training error: 0.06489588509151052, validation error: 0.18158825365278528, accuracy: 0\n",
      "Training error: 0.0637534640782443, validation error: 0.17996930720878246, accuracy: 0\n",
      "Training error: 0.06265770888475856, validation error: 0.17840083026378822, accuracy: 0\n",
      "Training error: 0.06160569533031785, validation error: 0.17688005047905164, accuracy: 0\n",
      "Training error: 0.06059474229187451, validation error: 0.17540441124108536, accuracy: 0\n",
      "Training error: 0.0596223867956901, validation error: 0.17397155034660358, accuracy: 0\n",
      "Training error: 0.05868636212033053, validation error: 0.17257928120320695, accuracy: 0\n",
      "Training error: 0.05778457849401766, validation error: 0.17122557620393586, accuracy: 0\n",
      "Training error: 0.05691510603408337, validation error: 0.16990855198603683, accuracy: 0\n",
      "Training error: 0.056076159629935826, validation error: 0.16862645632769518, accuracy: 0\n"
     ]
    },
    {
     "data": {
      "image/png": "[encoded data removed]",
      "text/plain": [
       "<Figure size 432x288 with 1 Axes>"
      ]
     },
     "metadata": {
      "needs_background": "light"
     },
     "output_type": "display_data"
    },
    {
     "name": "stdout",
     "output_type": "stream",
     "text": [
      "Fold: 9\n",
      "Training index: 1\n",
      "Training index: 2\n",
      "Training index: 3\n",
      "Training index: 4\n",
      "Training index: 5\n",
      "Training index: 6\n",
      "Training index: 7\n",
      "Training index: 8\n",
      "(9, 224, 192)\n",
      "(9, 224, 192)\n",
      "(72, 224, 192)\n",
      "[[138 104  90 ... 143 151 150]\n",
      " [144 108  90 ... 143 148 143]\n",
      " [172 147 118 ... 141 144 140]\n",
      " ...\n",
      " [116 121 122 ... 134 133 131]\n",
      " [118 121 122 ... 134 133 130]\n",
      " [117 119 120 ... 132 132 130]]\n",
      "PCA transformed\n",
      "[ 1.80570617  1.3335599   0.88805718 -1.02493134  0.75653649 -0.50841783\n",
      "  0.55316109 -0.57721461  1.65244786 -0.36606303]\n",
      "Training error: 0.5486576183458348, validation error: 0.5788760320638224, accuracy: 0\n",
      "Training error: 0.4498638352681213, validation error: 0.49857699619201523, accuracy: 0\n",
      "Training error: 0.38033883942045604, validation error: 0.44051042325244705, accuracy: 0\n",
      "Training error: 0.3296268792249446, validation error: 0.39705079561422874, accuracy: 0\n",
      "Training error: 0.29134158379398184, validation error: 0.36344400151863143, accuracy: 0\n",
      "Training error: 0.26154848265759517, validation error: 0.3367033506211235, accuracy: 0\n",
      "Training error: 0.2377564914238226, validation error: 0.3149030918108147, accuracy: 0\n",
      "Training error: 0.21833647269092074, validation error: 0.29676247325639254, accuracy: 0\n",
      "Training error: 0.20218839570177247, validation error: 0.28140323339206796, accuracy: 0\n",
      "Training error: 0.18854722753055786, validation error: 0.26820581767003676, accuracy: 0\n",
      "Training error: 0.17686657640190465, validation error: 0.256721881895218, accuracy: 0\n",
      "Training error: 0.16674684906398995, validation error: 0.2466195172610121, accuracy: 0\n",
      "Training error: 0.15788959350707557, validation error: 0.2376479936217721, accuracy: 0\n",
      "Training error: 0.15006768704684958, validation error: 0.22961446560377002, accuracy: 0\n",
      "Training error: 0.14310537978573773, validation error: 0.22236820766114962, accuracy: 0\n",
      "Training error: 0.13686462827861304, validation error: 0.2157897074701943, accuracy: 0\n",
      "Training error: 0.13123554120011122, validation error: 0.20978296791737333, accuracy: 0\n",
      "Training error: 0.12612957295174698, validation error: 0.20426997389327628, accuracy: 0\n",
      "Training error: 0.12147459112204768, validation error: 0.1991866485829511, accuracy: 0\n",
      "Training error: 0.11721124563658956, validation error: 0.19447985320584243, accuracy: 0\n",
      "Training error: 0.11329025763436158, validation error: 0.1901051298996855, accuracy: 0\n",
      "Training error: 0.10967036841257796, validation error: 0.1860249819626244, accuracy: 0\n",
      "Training error: 0.10631676894451268, validation error: 0.18220754811929935, accuracy: 0\n",
      "Training error: 0.10319988395408676, validation error: 0.17862556945857763, accuracy: 0\n",
      "Training error: 0.10029442079987858, validation error: 0.1752555763684889, accuracy: 0\n",
      "Training error: 0.09757861839677578, validation error: 0.17207724267797436, accuracy: 0\n",
      "Training error: 0.09503364884813174, validation error: 0.16907286819435827, accuracy: 0\n",
      "Training error: 0.09264313680807848, validation error: 0.16622696078131052, accuracy: 0\n",
      "Training error: 0.09039277044086, validation error: 0.16352589629852446, accuracy: 0\n",
      "Training error: 0.08826998425715919, validation error: 0.1609576399559873, accuracy: 0\n",
      "Training error: 0.08626369880656709, validation error: 0.15851151649008882, accuracy: 0\n",
      "Training error: 0.08436410568369149, validation error: 0.1561780194367525, accuracy: 0\n",
      "Training error: 0.08256248890470454, validation error: 0.15394865193068485, accuracy: 0\n",
      "Training error: 0.0808510756710023, validation error: 0.15181579309172255, accuracy: 0\n",
      "Training error: 0.07922291102691265, validation error: 0.14977258530588763, accuracy: 0\n",
      "Training error: 0.07767175206062125, validation error: 0.14781283866853104, accuracy: 0\n",
      "Training error: 0.07619197817958284, validation error: 0.14593094960133737, accuracy: 0\n",
      "Training error: 0.07477851467775426, validation error: 0.14412183123634226, accuracy: 0\n",
      "Training error: 0.07342676734921, validation error: 0.14238085361719877, accuracy: 0\n",
      "Training error: 0.07213256632607098, validation error: 0.14070379212954795, accuracy: 0\n",
      "Training error: 0.07089211765436366, validation error: 0.13908678286015907, accuracy: 0\n",
      "Training error: 0.06970196138913215, validation error: 0.13752628381487253, accuracy: 0\n",
      "Training error: 0.06855893520479943, validation error: 0.13601904111076835, accuracy: 0\n",
      "Training error: 0.06746014268983022, validation error: 0.1345620594079526, accuracy: 0\n",
      "Training error: 0.06640292563495377, validation error: 0.13315257596826113, accuracy: 0\n",
      "Training error: 0.06538483973834576, validation error: 0.131788037827757, accuracy: 0\n",
      "Training error: 0.0644036332445152, validation error: 0.13046608165158663, accuracy: 0\n",
      "Training error: 0.06345722811032008, validation error: 0.12918451590707855, accuracy: 0\n",
      "Training error: 0.06254370335478485, validation error: 0.12794130504666285, accuracy: 0\n",
      "Training error: 0.061661280301780495, validation error: 0.1267345554384595, accuracy: 0\n"
     ]
    },
    {
     "data": {
      "image/png": "[encoded data removed]",
      "text/plain": [
       "<Figure size 432x288 with 1 Axes>"
      ]
     },
     "metadata": {
      "needs_background": "light"
     },
     "output_type": "display_data"
    }
   ],
   "source": [
    "import matplotlib.pyplot as plt\n",
    "#from pca import PCA\n",
    "\n",
    "class EpochData:\n",
    "    def __init__(self):\n",
    "        self.acc = []\n",
    "        self.error = []\n",
    "    \n",
    "    def save(self, error, acc):\n",
    "        self.error.append(error)\n",
    "        self.acc.append(acc)\n",
    "        \n",
    "    def add(self, epoch_data):\n",
    "        if self.acc is None:\n",
    "            self.acc = epoch_data.acc\n",
    "            self.error = epoch_data.acc\n",
    "        else:\n",
    "            self.acc += epoch_data.acc\n",
    "            self.error += epoch_data.acc\n",
    "            \n",
    "    \n",
    "    def score(self):\n",
    "        return self.error[-1]\n",
    "        \n",
    "        \n",
    "def transform(pca, data):\n",
    "    labels = data[1]\n",
    "    if not LOGISTIC: # if softmax\n",
    "        labels = one_hot_encode(labels)\n",
    "    return pca.transform(data[0]), labels\n",
    "    #np.array([pca.transform(i)[0] for i in data[0]]), labels\n",
    "\n",
    "def visualize_data(plots, legends, x_label, y_label):\n",
    "    x = np.arange(1, len(plots[0]) + 1)\n",
    "    for data in plots:\n",
    "        plt.plot(x, data)\n",
    "    plt.ylabel(y_label)\n",
    "    plt.xlabel(x_label)\n",
    "    plt.legend(legends)\n",
    "    plt.show()\n",
    "    \n",
    "def split_x_y(data):\n",
    "    return np.array([item[0] for item in data]), np.array([item[1] for item in data]) \n",
    "\n",
    "def one_hot_encode(labels):\n",
    "    new_labels = np.zeros((len(labels), len(CATEGORIES)))\n",
    "    new_labels[np.arange(labels.size), labels] = 1\n",
    "    return new_labels\n",
    "\n",
    "def train():\n",
    "    best_model = None\n",
    "    \n",
    "    folds = kfold(all_data)\n",
    "    avg_epoch_data = EpochData()\n",
    "    \n",
    "    \n",
    "    k = len(folds)\n",
    "    for fold in range(k):\n",
    "        # define the model\n",
    "        if LOGISTIC:\n",
    "            model = LogisticRegression(LEARNING_RATE, K)\n",
    "        else:\n",
    "            model = SoftmaxRegression(LEARNING_RATE, K, len(CATEGORIES))\n",
    "\n",
    "        # split data\n",
    "        val_data, test_data = split_x_y(folds[fold]), split_x_y(folds[(fold + 1) % k])\n",
    "        train_data = None\n",
    "        print(\"Fold: \" + str(fold))\n",
    "        for i in range(k):\n",
    "            if i != fold and i != ((fold + 1) % k):\n",
    "                print(\"Training index: \" + str(i))\n",
    "                if train_data is None:\n",
    "                    train_data = folds[i]\n",
    "                else:\n",
    "                    train_data = np.concatenate((train_data, folds[i]))\n",
    "        train_data = split_x_y(train_data)\n",
    "        print(val_data[0].shape)\n",
    "        print(test_data[0].shape)\n",
    "        print(train_data[0].shape)\n",
    "\n",
    "        print(train_data[0][0])\n",
    "        pca = PCA(train_data[0], K) # PCA(10) #\n",
    "        #pca.fit(train_data[0])\n",
    "        # PCA and one_hot\n",
    "        train_data, test_data, val_data = transform(pca, train_data), transform(pca, test_data), transform(pca, val_data)        \n",
    "        print(\"PCA transformed\")\n",
    "        print(train_data[0][0])\n",
    "        validation_performance = EpochData()\n",
    "        training_performance = EpochData() \n",
    "        \n",
    "        \n",
    "        for epoch in range(EPOCHS):\n",
    "            model.batch_gradient_descent(train_data[0], train_data[1])\n",
    "            #print(model.probabilities(train_data[0]))\n",
    "            train_prob = model.probabilities(train_data[0])\n",
    "            val_prob = model.probabilities(val_data[0])\n",
    "            \n",
    "            training_error = model.loss(train_data[1], train_prob)\n",
    "            validation_error = model.loss(val_data[1], val_prob)\n",
    "            \n",
    "            traning_acc = 0 #model.accuracy(train_prob, train_data[1])\n",
    "            validation_acc = 0 # model.accuracy(val_prob, val_data[1])\n",
    "            \n",
    "            print(\"Training error: {}, validation error: {}, accuracy: {}\".format(training_error, validation_error, traning_acc))\n",
    "        \n",
    "            # save\n",
    "            validation_performance.save(validation_error, validation_acc)\n",
    "            training_performance.save(training_error, traning_acc)\n",
    "        \n",
    "        \n",
    "        # plot the graphs\n",
    "        data_to_plot = [training_performance.error, validation_performance.error]\n",
    "        legends = [\"Training error\", \"Validation error\"]\n",
    "        visualize_data(data_to_plot,legends, \"Epoch\", \"Cross entropy error\")\n",
    "                \n",
    "        # save the validation data to the model\n",
    "        model.epoch_data = validation_performance \n",
    "        \n",
    "        # save the best model\n",
    "        if best_model is None:\n",
    "            best_model = model\n",
    "        elif best_model.epoch_data.score() > model.epoch_data.score():\n",
    "            best_model = model\n",
    "        \n",
    "        #best_model.visualize_weights(pca)\n",
    "            \n",
    "\n",
    "train()\n"
   ]
  },
  {
   "cell_type": "code",
   "execution_count": null,
   "metadata": {},
   "outputs": [],
   "source": [
    "test_data = np.array([\n",
    "    [[40, 33, 34], \n",
    "     [54, 34, 22]],\n",
    "    \n",
    "    [[34, 40, 34], \n",
    "     [23, 32, 32]],\n",
    "\n",
    "    [[60, 30, 64], \n",
    "     [73, 62, 72]]])\n",
    "\n",
    "test_img = np.array([[34, 36, 45], [34, 36, 45]])"
   ]
  },
  {
   "cell_type": "code",
   "execution_count": null,
   "metadata": {
    "scrolled": true
   },
   "outputs": [],
   "source": [
    "pca = PCA2(np.array(test_data), 1)"
   ]
  },
  {
   "cell_type": "code",
   "execution_count": null,
   "metadata": {},
   "outputs": [],
   "source": [
    "pca.transform_single(test_img)"
   ]
  },
  {
   "cell_type": "code",
   "execution_count": null,
   "metadata": {},
   "outputs": [],
   "source": [
    "print(pca.components)"
   ]
  },
  {
   "cell_type": "code",
   "execution_count": null,
   "metadata": {},
   "outputs": [],
   "source": [
    "print(pca.singular_values)"
   ]
  },
  {
   "cell_type": "code",
   "execution_count": null,
   "metadata": {},
   "outputs": [],
   "source": [
    "from pca import PCA\n",
    "\n",
    "pca1 = PCA(1)"
   ]
  },
  {
   "cell_type": "code",
   "execution_count": null,
   "metadata": {},
   "outputs": [],
   "source": [
    "pca1.fit(test_data)"
   ]
  },
  {
   "cell_type": "code",
   "execution_count": null,
   "metadata": {},
   "outputs": [],
   "source": [
    "pca1.transform(test_img)"
   ]
  },
  {
   "cell_type": "code",
   "execution_count": null,
   "metadata": {},
   "outputs": [],
   "source": [
    "print(pca1.p_components)"
   ]
  },
  {
   "cell_type": "code",
   "execution_count": null,
   "metadata": {},
   "outputs": [],
   "source": [
    "print(pca1.s_vals)"
   ]
  },
  {
   "cell_type": "code",
   "execution_count": null,
   "metadata": {},
   "outputs": [],
   "source": [
    "def logistic_accuracy(prob_vec, labels): \n",
    "    correct = np.round(prob_vec) == labels\n",
    "    correct = np.sum(correct)\n",
    "    accuracy = correct / len(labels)\n",
    "    return accuracy\n",
    "\n",
    "def softmax_accuracy(prob_vec, labels): #prob_vec row is probabilities of a single instance\n",
    "    numer = 0\n",
    "    denom = len(labels)\n",
    "    for i in range(len(labels)):\n",
    "        y = prob_vec[i].index(max(prob_vec[i]))\n",
    "        t = labels[i].index(max(labels[i]))\n",
    "        if y == t:\n",
    "            numer += 1\n",
    "    accuracy = numer / denom\n",
    "    return accuracy\n",
    "\n",
    "\n",
    "print(logistic_accuracy(logistic_prob_vec, logistic_labels))\n",
    "print(softmax_accuracy(softmax_prob_vec, softmax_labels))"
   ]
  }
 ],
 "metadata": {
  "kernelspec": {
   "display_name": "Python 3",
   "language": "python",
   "name": "python3"
  },
  "language_info": {
   "codemirror_mode": {
    "name": "ipython",
    "version": 3
   },
   "file_extension": ".py",
   "mimetype": "text/x-python",
   "name": "python",
   "nbconvert_exporter": "python",
   "pygments_lexer": "ipython3",
   "version": "3.7.4"
  }
 },
 "nbformat": 4,
 "nbformat_minor": 2
}
